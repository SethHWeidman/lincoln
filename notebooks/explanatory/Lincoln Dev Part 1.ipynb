{
 "cells": [
  {
   "cell_type": "markdown",
   "metadata": {},
   "source": [
    "# Setup"
   ]
  },
  {
   "cell_type": "code",
   "execution_count": 1,
   "metadata": {},
   "outputs": [],
   "source": [
    "from torch import Tensor\n",
    "import torch\n",
    "import numpy as np\n",
    "from numpy import random\n",
    "\n",
    "import typing\n",
    "from typing import List, Tuple"
   ]
  },
  {
   "cell_type": "markdown",
   "metadata": {},
   "source": [
    "### Exceptions"
   ]
  },
  {
   "cell_type": "code",
   "execution_count": 2,
   "metadata": {},
   "outputs": [],
   "source": [
    "class MatchError(Exception):\n",
    "    def __init__(self, message: str) -> None:\n",
    "        self.message = message"
   ]
  },
  {
   "cell_type": "code",
   "execution_count": 3,
   "metadata": {},
   "outputs": [],
   "source": [
    "class DimensionError(Exception):\n",
    "    def __init__(self, message: str) -> None:\n",
    "        self.message = message"
   ]
  },
  {
   "cell_type": "markdown",
   "metadata": {},
   "source": [
    "First let's consider a simple model, logistic regression. The goal of logistic regression is to predict a binary choice, True or False, admitted or not admitted, etc., from some input features. Mathematically, we perform a linear (affine) combination of our input features and coefficients (called weights here). That result is passed to the sigmoid (logistic) function which returns a prediction probability.\n",
    "\n",
    "<img src=\"assets/logreg_forward.png\" alt=\"Logistic regression forward pass\" width=400px>\n",
    "\n",
    "We can represent logistic regression as a graph of tensors and operations. The first operation is a linear transformation, $\\ell$. This operation takes three input tensors: the input data $x$, the weights $w$, and the bias term $b$. It returns the linear transformation $a$:\n",
    "\n",
    "$$\n",
    "a = \\sum_i w_i x_i + b\n",
    "$$\n",
    "\n",
    "We then pass $a$ through the sigmoid operation:\n",
    "\n",
    "$$\n",
    "p = \\sigma(a) = \\frac{1}{1+e^{-a}}\n",
    "$$\n",
    "\n",
    "At this point, we can use the probability $p$ to make a prediction. Given some input features $x$, we get a probability $p$ that we should predict **True**. The weights we start with though are just random, they aren't set to make accurate predictions for any specific problem, especially not the problem we're interested in. To find the appropriate weights, we use a scheme called supervised learning. Here we need three things:\n",
    "\n",
    "* Example observations of features $x^k$ and true outcomes $y^k$, where $k$ denotes a single observation of $K$ total observations\n",
    "* Some measure of how wrong our prediction is compared to the true outcomes, often called the loss, cost, or error \n",
    "* A method to update our weights such that the loss is minimized \n",
    "\n",
    "Commonly used is one form of the log loss $L$:\n",
    "\n",
    "$$\n",
    "L = -y \\log{p} - (1-y)\\log{(1-p)}\n",
    "$$\n",
    "\n",
    "where $y$ is the true binary outcome, either 0 or 1. Since $y$ can ever only be 0 or 1, we can also write our loss as\n",
    "\n",
    "$$\n",
    "L = \\begin{cases}\n",
    "    -\\log{p}     & \\text{if } y = 1\\\\\n",
    "    -\\log{(1-p)}  & \\text{if } y = 0\n",
    "\\end{cases}\n",
    "$$\n",
    "\n",
    "This loss makes sense looking at the $-\\log{p}$ function, plotted below.\n",
    "<img src=\"assets/log_loss.png\" width=400px>\n",
    "\n",
    "If our observed label is True ($y = 1$), then we want our model's prediction $p$ to be as close to 1 as possible. We see as $p$ increases to 1, $-\\log{p}$ goes to zero and as $p$ decreases to 0, $-\\log{p}$ goes to infinity. This way, if our prediction is vastly different than our observed outcomes, the loss will be high. Conversely, if our predictions are similar to the observed outcomes, we'll have low losses.\n",
    "\n",
    "We'll often give our model multiple observations at once so we sum up the loss for each of those observations to get to total loss\n",
    "$$\n",
    "L = \\sum_k^K -y^k \\log{p^k} - (1-y^k)\\log{(1-p^k)}\n",
    "$$\n",
    "\n",
    "Finally, we use a method called **gradient descent** to adjust the weights such that the loss is as low as possible. The idea is to iteratively modify the weights such that the loss calculated from the observations is lower for each step. This process is called \"training\", as our model is learning the best weights from examples.\n",
    "\n",
    "With gradient descent, we update our weights using the gradient of the loss with respect to the weights\n",
    "\n",
    "$$\n",
    "w' = w + \\eta \\frac{\\partial L}{\\partial w}\n",
    "$$\n",
    "\n",
    "where $\\eta$ is the learning rate, some small factor that scales the weight updates. The gradient is a measure of how much the loss changes when we change our weights. It also always points in the direction of greatest change.  \n",
    "\n",
    "<img src=\"assets/logreg_backward.png\" alt=\"Logistic regression forward pass\" width=400px>\n",
    "\n",
    "Now we have two processes here, a forward pass and a backward pass. In the forward pass, each operation or layer performs its calculations and passes the results on to the next layer. In the backward pass, each operation takes the gradient from the previous layer, multiplies it by it's own gradient, then passes it backward through the network.\n",
    "\n",
    "Keeping these concepts in mind - forward and backward passes through a sequence of layers or operations - we can build a framework for constructing any neural network model."
   ]
  },
  {
   "cell_type": "markdown",
   "metadata": {},
   "source": [
    "## Individual layers"
   ]
  },
  {
   "cell_type": "markdown",
   "metadata": {},
   "source": [
    "Here's a concept I wish had been explained to me when I started learning about neural nets, and makes understanding how to implement them much more clear:\n",
    "\n",
    "* Each layer has a `forward` and `backward` method as before.\n",
    "* The `forward` method receives `input` as (you guessed it) input and outputs `self.output`. It stores as class variables:\n",
    "    * `input` as `self.last_input`.\n",
    "    * `self.output` as `self.output`.\n",
    "* The `backward` method receives `output_grad` as input and returns `input_grad` as its output. Along the way, it checks that:\n",
    "    * `output_grad` has the same shape as `self.output`.\n",
    "    * `input_grad` has the same shape as `self.last_input`.\n",
    "    \n",
    "When you try to trace what is going on in neural nets, it can often get confusing what layers are sending to and receiving from each other. This should make it clearer.\n",
    "\n",
    "This also gives us a template for `Layer`s in general. They should all look like:\n",
    "\n",
    "```python\n",
    "def forward(self, input: Tensor) -> Tensor:\n",
    "    \n",
    "    self.last_input = input\n",
    "    \n",
    "    ###############\n",
    "    # stuff happens\n",
    "    ###############\n",
    "    \n",
    "    return self.output\n",
    "```\n",
    "\n",
    "```python\n",
    "def backward(self, output_grad: Tensor) -> Tensor:\n",
    "    \n",
    "    assert_same_shape(self.output, output_grad)\n",
    "    \n",
    "    ###############\n",
    "    # stuff happens\n",
    "    ###############\n",
    "    \n",
    "    assert_same_shape(self.last_input, input_grad)    \n",
    "    return input_grad\n",
    "```\n",
    "\n",
    "Writing batch norm, convolutions (messy but already done), transformers etc. can be done using this structure!\n",
    "\n",
    "**Question**: is there a way to do this using decorators?\n",
    "\n",
    "I think introducing all of these concepts will help students generalize from implementing the \"basic, fully connected\" neural nets from below, to the more complicated stuff like convolutions."
   ]
  },
  {
   "cell_type": "markdown",
   "metadata": {},
   "source": [
    "## `Layer` base class"
   ]
  },
  {
   "cell_type": "code",
   "execution_count": 4,
   "metadata": {},
   "outputs": [],
   "source": [
    "class Layer(object):\n",
    "    '''\n",
    "    Defining basic functions that all classes inheriting from Layer must implement.\n",
    "    '''\n",
    "\n",
    "    def __init__(self):\n",
    "        pass\n",
    "\n",
    "    def forward(self, input):\n",
    "        raise NotImplementedError()\n",
    "\n",
    "    def backward(self, output_grad):\n",
    "        raise NotImplementedError()\n",
    "        \n",
    "    def parameters(self):\n",
    "        yield from ()\n",
    "    \n",
    "    def grads(self):\n",
    "        yield from ()\n",
    "        \n",
    "    def __call__(self, input):\n",
    "        return self.forward(input)"
   ]
  },
  {
   "cell_type": "markdown",
   "metadata": {},
   "source": [
    "### `Linear` layer\n",
    "\n",
    "#### Forward pass\n",
    "The forward pass of the linear layer is fairly simple. We have three inputs: the features and our two parameters, the weights and the bias. We'll pass forward the linear combination of these.\n",
    "\n",
    "$$\n",
    "a = \\sum_i w_i x_i + b\n",
    "$$\n",
    "\n",
    "#### Backward pass\n",
    "\n",
    "The backwards pass is more complicated. Here we need to pass our gradients backwards to all of our inputs. \n",
    "\n",
    "$$\n",
    "\\begin{align}\n",
    "\\frac{\\partial a}{\\partial w_i} &= x_i \\\\\n",
    "\\frac{\\partial a}{\\partial b} &= 1 \\\\\n",
    "\\frac{\\partial a}{\\partial x_i} &= w_i \n",
    "\\end{align}\n",
    "$$\n",
    "\n",
    "We get $\\frac{\\partial L}{\\partial a}$ as input gradient into this layer, so we just need to multiply that by this linear layer's gradient to update the weights. We'll want to pass the gradient for $x$ backwards because these inputs could potentially be coming from another layer. But the gradients for $w$ and $b$ are used to update the parameters directly.\n",
    "\n",
    "$$\n",
    "\\begin{align}\n",
    "\\frac{\\partial L}{\\partial w_i} &= \\frac{\\partial a}{\\partial w_i}\\frac{\\partial L}{\\partial a} = x_i\\frac{\\partial L}{\\partial a} \\\\ \\\\\n",
    "\\frac{\\partial L}{\\partial b} &= \\frac{\\partial a}{\\partial b}\\frac{\\partial L}{\\partial a} = \\frac{\\partial L}{\\partial a} \\\\ \\\\\n",
    "\\frac{\\partial L}{\\partial x_i} &= \\frac{\\partial a}{\\partial x_i}\\frac{\\partial L}{\\partial a} = w_i\\frac{\\partial L}{\\partial a}\n",
    "\\end{align}\n",
    "$$\n",
    "\n",
    "Now, we need to consider cases where we have multiple examples and multiple outputs of our linear layer. This gets pretty difficult to understand without a lot of linear algebra experience, so I'll go through it step by step. If we have $K$ examples and $N$ features, then we would represent $\\mathbf{x}$ (bold means matrix) like so:\n",
    "\n",
    "<img src='assets/Features.png' width=400px>\n",
    "\n",
    "Each row in the matrix is one example from our dataset and each column corresponds to one of the features in our data set. Often, we'll want multiple outputs from our linear layer, we'll use $M$ to denote the number of outputs. The layer output $a$ from one example is now a vector instead of just a single number and we need a set of weights for each output. The weights can again be represented as a matrix:\n",
    "\n",
    "<img src='assets/Weights.png' width=400px>\n",
    "\n",
    "Here, each row corresponds to the weights for one feature and the columns correspond to the weights for one output. Our outputs will be the linear combination of the features _for each output_, _for each example_. \n",
    "\n",
    "$$\n",
    "\\mathbf{a} = \\mathbf{x} \\mathbf{W} + \\vec{b}\n",
    "$$\n",
    "\n",
    "<img src='assets/Outputs.png' width=400px>\n",
    "\n",
    "To do this, we take the matrix multiplication between the features $\\mathbf{x}$ and the weights $\\mathbf{W}$ (ignoring the bias term for simplicity). With matrix multiplication, you take the linear transformation of a _row_ in the first matrix with each _column_ in the second matrix to get the first _row_ of the resulting matrix. As shown below, we take the first example of $\\mathbf{x}$ and do a linear transformation with the first output column of $\\mathbf{W}$ to get the first output of the first example $a_{11}$. If you continue this, multiplying the first row of $\\mathbf{x}$ by each column in $\\mathbf{W}$, then you'll get all of the Linear layer outputs for the first example. If you do this for each example, you'll get all the outputs for all the examples. This is what a matrix multiplication does, and it is the basis for all computations in neural networks. You should note here that matrix multiplication only works when the number of columns in the first matrix equal the number of rows in the second matrix.\n",
    "\n",
    "<img src='assets/MatrixMult.png' width=700px>\n",
    "\n",
    "Finally, we should consider the gradients we receive in the backward pass. The gradients should be exactly the same shape as the layer output (otherwise something is wrong further on in the network). \n",
    "\n",
    "<img src='assets/Gradients.png' width=500px>\n",
    "\n",
    "Here, $\\nabla_{a_{km}}L$ means the gradient of the loss with respect to $a_{km}$. The gradient for the weights is now a matrix multiplication that looks like\n",
    "\n",
    "$$\n",
    "\\nabla_{\\mathbf{W}}L = \\mathbf{x}\\nabla_{\\mathbf{a}} L\n",
    "$$\n",
    "\n",
    "However, $\\nabla_a L$ and $\\mathbf{x}$ have the same first dimension, $K$. And we need the resulting matrix to match the shape of $\\mathbf{W}$, which is $N\\times M$. What we can do is _transpose_ $\\mathbf{x}$, that is, swap the rows and columns to get a $N \\times K$ matrix. This can be multiplied with $\\nabla_{\\mathbf{a}} L$, with size $K \\times M$ to get the appropriate matrix for our weights. Then our appropriate calculation is:\n",
    "\n",
    "$$\n",
    "\\nabla_{\\mathbf{W}}L = \\mathbf{x}^T\\nabla_{\\mathbf{a}} L\n",
    "$$\n",
    "\n",
    "Similarly, we'll need to pass the input gradient backward through the network:\n",
    "\n",
    "$$\\frac{\\partial L}{\\partial x_i} = \\frac{\\partial a}{\\partial x_i}\\frac{\\partial L}{\\partial a} = w_i\\frac{\\partial L}{\\partial a}$$\n",
    "\n",
    "which you might write as $\\nabla_{\\mathbf{x}}L = \\mathbf{W}\\,\\nabla_{\\mathbf{a}}L$. However, to get the matrix multiplication to work out right, we need to take the transpose of $\\mathbf{W}$:\n",
    "\n",
    "$$\n",
    "\\nabla_{\\mathbf{x}}L = \\nabla_{\\mathbf{a}}L\\,\\mathbf{W}^T\n",
    "$$\n",
    "\n",
    "Programmatically, we'll take advantage of matrix multiplications using `torch.mm`."
   ]
  },
  {
   "cell_type": "code",
   "execution_count": 5,
   "metadata": {},
   "outputs": [],
   "source": [
    "class Linear(Layer):\n",
    "\n",
    "    def __init__(self, size: int) -> None:\n",
    "\n",
    "        super().__init__()\n",
    "        self.size = size\n",
    "        self.first = True\n",
    "        self.parameters_ = {'W': None, 'B': None}\n",
    "        self.grads_ = {'W': None, 'B': None}\n",
    "    \n",
    "    def forward(self, input: Tensor) -> Tensor:\n",
    "        \"\"\" Takes a tensor and performs a linear (affine) transformation \"\"\"\n",
    "        \n",
    "        if input.dim() != 2:\n",
    "            raise DimensionError(f\"Tensor should have dimension 2, instead it has dimension {input.dim()}\")\n",
    "\n",
    "        self.last_input = input\n",
    "        \n",
    "        # Sets up the weights on the first iteration. Doing this so the\n",
    "        # input size isn't defined until we pass in our first tensor\n",
    "        if self.first:\n",
    "            n_input = input.size()[1]\n",
    "            \n",
    "            # Intialize a 2D tensor for the weights\n",
    "            self.W = torch.randn((n_input, self.size))*0.01\n",
    "            # Register the weight parameter\n",
    "            self.parameters_.update({'W': self.W})\n",
    "            \n",
    "            # Intialize the bias terms (one for each output value)\n",
    "            self.B = torch.randn((1, self.size))*0.01\n",
    "            # Register the bias parameter\n",
    "            self.parameters_.update({'B': self.B})\n",
    "            \n",
    "            self.first = False\n",
    "        \n",
    "        # The linear transformation here\n",
    "        self.output = torch.mm(self.last_input, self.W) + self.B\n",
    "        \n",
    "        return self.output\n",
    "\n",
    "    def backward(self, in_grad: Tensor) -> Tensor:\n",
    "        \"\"\" Takes a gradient from another operation, then calculates the gradients\n",
    "            for this layer's parameters, and returns the gradient for this layer to pass\n",
    "            backwards in the network\n",
    "        \"\"\"\n",
    "        \n",
    "        # Key assertion\n",
    "        if self.output.shape != in_grad.shape:\n",
    "            message = (f\"Two tensors should have the same shape; instead, first Tensor's shape \"\n",
    "                       f\"is {in_grad.shape} and second Tensor's shape is {self.output.shape}.\")\n",
    "            raise MatchError(message)\n",
    "        \n",
    "        # Number of examples\n",
    "        n = in_grad.shape[0]\n",
    "        \n",
    "        # Parameter gradients\n",
    "        x = self.last_input\n",
    "        dW = torch.mm(x.t(), in_grad)   # dL/dW\n",
    "        dB = torch.sum(in_grad, dim=0).view(*self.B.shape)   # dL/dB\n",
    "        \n",
    "        # Register parameter gradients\n",
    "        self.grads_.update({'W': dW})\n",
    "        self.grads_.update({'B': dB})\n",
    "        \n",
    "        # This layer's gradient which we'll pass on to previous layers, for dL/dx\n",
    "        backward_grad = torch.mm(in_grad, self.W.t())\n",
    "        \n",
    "        # Key assertion\n",
    "        if self.last_input.shape != backward_grad.shape:\n",
    "            message = (f\"Two tensors should have the same shape; instead, first Tensor's shape \"\n",
    "                       f\"is {self.last_input.shape} and second Tensor's shape is {backward_grad.shape}.\")\n",
    "            raise MatchError(message)\n",
    "\n",
    "        return backward_grad\n",
    "    \n",
    "    def parameters(self):\n",
    "        for param in self.parameters_.values():\n",
    "            yield param\n",
    "    \n",
    "    def grads(self):\n",
    "        for param in self.parameters_:\n",
    "            yield self.grads_[param]\n",
    "    \n",
    "    def __repr__(self):\n",
    "        return f\"Linear({self.size})\""
   ]
  },
  {
   "cell_type": "code",
   "execution_count": 6,
   "metadata": {},
   "outputs": [
    {
     "name": "stdout",
     "output_type": "stream",
     "text": [
      "tensor([[-0.0145],\n",
      "        [-0.0280],\n",
      "        [ 0.0120],\n",
      "        [-0.0133],\n",
      "        [-0.0044],\n",
      "        [ 0.0041],\n",
      "        [ 0.0142],\n",
      "        [ 0.0185],\n",
      "        [ 0.0175],\n",
      "        [ 0.0270]])\n",
      "tensor([[-3.5969e-03,  7.1771e-03,  2.8029e-03, -6.6969e-03,  4.8321e-03,\n",
      "          4.2023e-03,  2.4591e-04],\n",
      "        [-2.0402e-03,  4.0710e-03,  1.5899e-03, -3.7986e-03,  2.7408e-03,\n",
      "          2.3836e-03,  1.3948e-04],\n",
      "        [-1.2116e-04,  2.4177e-04,  9.4418e-05, -2.2559e-04,  1.6277e-04,\n",
      "          1.4156e-04,  8.2837e-06],\n",
      "        [-6.6519e-04,  1.3273e-03,  5.1836e-04, -1.2385e-03,  8.9363e-04,\n",
      "          7.7716e-04,  4.5478e-05],\n",
      "        [-1.4835e-03,  2.9601e-03,  1.1560e-03, -2.7621e-03,  1.9930e-03,\n",
      "          1.7332e-03,  1.0142e-04],\n",
      "        [-2.3714e-03,  4.7318e-03,  1.8479e-03, -4.4152e-03,  3.1857e-03,\n",
      "          2.7705e-03,  1.6213e-04],\n",
      "        [-1.9527e-03,  3.8964e-03,  1.5217e-03, -3.6357e-03,  2.6233e-03,\n",
      "          2.2814e-03,  1.3350e-04],\n",
      "        [-2.8072e-03,  5.6014e-03,  2.1876e-03, -5.2267e-03,  3.7713e-03,\n",
      "          3.2798e-03,  1.9192e-04],\n",
      "        [-2.9972e-04,  5.9805e-04,  2.3356e-04, -5.5803e-04,  4.0265e-04,\n",
      "          3.5017e-04,  2.0491e-05],\n",
      "        [-6.5317e-04,  1.3033e-03,  5.0899e-04, -1.2161e-03,  8.7748e-04,\n",
      "          7.6311e-04,  4.4656e-05]])\n"
     ]
    }
   ],
   "source": [
    "# Testing out our new Linear layer\n",
    "linear = Linear(1)\n",
    "x = torch.randn((10, 7))\n",
    "a = linear.forward(x)\n",
    "grad = torch.rand_like(a)\n",
    "print(a)\n",
    "print(linear.backward(grad))"
   ]
  },
  {
   "cell_type": "markdown",
   "metadata": {},
   "source": [
    "### `Sigmoid` layer\n",
    "\n",
    "#### Forward pass\n",
    "The forward pass of the sigmoid layer should calculate\n",
    "\n",
    "$$\n",
    "\\sigma(a) = \\frac{1}{1+e^{-a}}\n",
    "$$\n",
    "\n",
    "For our logistic regression problem, this will be $p$ the probability of a \"successful\" outcome. This layer can also be used in multilayer networks as the activation function for hidden layers. We'll perform this calculation element-wise.\n",
    "\n",
    "#### Backward pass\n",
    "\n",
    "Denoting the output of this layer as $p$, the sigmoid layer should receive $\\partial L \\mathbin{/} \\partial p$ in the backward pass. Then it should return\n",
    "\n",
    "$$\n",
    "\\frac{\\partial L}{\\partial a} = \\frac{\\partial p}{\\partial a} \\frac{\\partial L}{\\partial p}\n",
    "$$\n",
    "\n",
    "to send backward through the network.\n",
    "\n",
    "The gradient of the sigmoid layer is then\n",
    "\n",
    "$$\n",
    "\\frac{\\partial L}{\\partial a} = p\\,(1-p)\\frac{\\partial L}{\\partial p}\n",
    "$$\n",
    "\n",
    "which I'll let you work out if you want."
   ]
  },
  {
   "cell_type": "code",
   "execution_count": 7,
   "metadata": {},
   "outputs": [],
   "source": [
    "class Sigmoid(Layer):\n",
    "    '''\n",
    "    Sigmoid activation function\n",
    "    '''\n",
    "    def __init__(self):\n",
    "        super().__init__()\n",
    "        \n",
    "    def forward(self, input: Tensor) -> Tensor:\n",
    "        \n",
    "        self.last_input = input\n",
    "        \n",
    "        self.output = 1.0/(1.0+torch.exp(-1.0 * input))\n",
    "        return self.output\n",
    "\n",
    "    def backward(self, in_grad: Tensor) -> Tensor:\n",
    "\n",
    "        # Key assertion\n",
    "        if self.output.shape != in_grad.shape:\n",
    "            message = (f\"Two tensors should have the same shape; instead, first Tensor's shape \"\n",
    "                       f\"is {in_grad.shape} and second Tensor's shape is {self.output.shape}.\")\n",
    "            raise MatchError(message)           \n",
    "        \n",
    "        sigmoid_backward = self.output*(1.0-self.output)\n",
    "        backward_grad = sigmoid_backward * in_grad\n",
    "        \n",
    "        # Key assertion\n",
    "        if self.last_input.shape != backward_grad.shape:\n",
    "            message = (f\"Two tensors should have the same shape; instead, first Tensor's shape \"\n",
    "                       f\"is {self.last_input.shape} and second Tensor's shape is {backward_grad.shape}.\")\n",
    "            raise MatchError(message)\n",
    "        \n",
    "        return backward_grad\n",
    "    \n",
    "    def __repr__(self):\n",
    "        return f\"Sigmoid\""
   ]
  },
  {
   "cell_type": "code",
   "execution_count": 8,
   "metadata": {},
   "outputs": [
    {
     "data": {
      "text/plain": [
       "tensor([[0.2003],\n",
       "        [0.1136],\n",
       "        [0.0067],\n",
       "        [0.0370],\n",
       "        [0.0826],\n",
       "        [0.1320],\n",
       "        [0.1087],\n",
       "        [0.1563],\n",
       "        [0.0167],\n",
       "        [0.0364]])"
      ]
     },
     "execution_count": 8,
     "metadata": {},
     "output_type": "execute_result"
    }
   ],
   "source": [
    "# Testing out new Sigmoid layer\n",
    "sigmoid = Sigmoid()\n",
    "p = sigmoid.forward(a)\n",
    "grads = torch.rand_like(p)\n",
    "sigmoid.backward(grad)"
   ]
  },
  {
   "cell_type": "markdown",
   "metadata": {},
   "source": [
    "Now that we have all the layers necessary for our little network, we can stack them sequentially."
   ]
  },
  {
   "cell_type": "code",
   "execution_count": 9,
   "metadata": {},
   "outputs": [
    {
     "name": "stdout",
     "output_type": "stream",
     "text": [
      "Initial parameter gradients:  [None, None]\n",
      "Parameter gradients after backward pass:  [tensor([[-2.0046],\n",
      "        [-1.2829],\n",
      "        [-0.3044],\n",
      "        [-0.4812],\n",
      "        [-1.3473],\n",
      "        [-0.6052],\n",
      "        [-1.3090]]), tensor([[-4.9981]])]\n"
     ]
    }
   ],
   "source": [
    "# Generate some data, 20 examples, 7 features\n",
    "features = x = torch.randn((20, 7))\n",
    "labels = torch.randint(0, 2, (20, 1))\n",
    "\n",
    "layers = [Linear(1), Sigmoid()]\n",
    "\n",
    "print('Initial parameter gradients: ', [grad for grad in layers[0].grads()])\n",
    "\n",
    "# Forward pass through our network\n",
    "for layer in layers:\n",
    "    x = layer.forward(x)\n",
    "\n",
    "# Backward pass through our network\n",
    "grad = -torch.ones(20, 1)\n",
    "for layer in reversed(layers):\n",
    "    grad = layer.backward(grad)\n",
    "    \n",
    "print('Parameter gradients after backward pass: ', [grad for grad in layers[0].grads()])"
   ]
  },
  {
   "cell_type": "markdown",
   "metadata": {},
   "source": [
    "Let's build a new class called `Sequential` that can do what we wrote above, take sequential layers and build them into a sequential graph."
   ]
  },
  {
   "cell_type": "code",
   "execution_count": 10,
   "metadata": {},
   "outputs": [],
   "source": [
    "from itertools import chain"
   ]
  },
  {
   "cell_type": "code",
   "execution_count": 11,
   "metadata": {},
   "outputs": [],
   "source": [
    "class Sequential(Layer):\n",
    "    \n",
    "    def __init__(self, *layers: typing.Type[Layer]):\n",
    "        super().__init__()\n",
    "        self.layers = tuple(layers)\n",
    "              \n",
    "    def forward(self, x: Tensor) -> Tensor:\n",
    "        for layer in self.layers:\n",
    "            x = layer.forward(x)\n",
    "        return x\n",
    "        \n",
    "    def backward(self, grad: Tensor = None) -> Tensor:\n",
    "        for layer in reversed(self.layers):\n",
    "            grad = layer.backward(grad)\n",
    "        return grad\n",
    "    \n",
    "    def parameters(self):\n",
    "        for layer in self.layers:\n",
    "            yield from layer.parameters()\n",
    "        \n",
    "    def grads(self):\n",
    "        for layer in self.layers:\n",
    "            yield from layer.grads()\n",
    "    \n",
    "    def __iter__(self):\n",
    "        return iter(self.layers)\n",
    "    \n",
    "    def __repr__(self):\n",
    "        layer_strs = [str(layer) for layer in self.layers]\n",
    "        return f\"{self.__class__.__name__}(\\n  \" + \",\\n  \".join(layer_strs) + \")\""
   ]
  },
  {
   "cell_type": "code",
   "execution_count": 12,
   "metadata": {},
   "outputs": [
    {
     "name": "stdout",
     "output_type": "stream",
     "text": [
      "Sequential layers:  (Linear(1), Sigmoid)\n",
      "Initial parameters and grads: \n",
      " [None, None] \n",
      " [None, None]\n",
      "Forward pass loss:  tensor([[0.4971],\n",
      "        [0.4906],\n",
      "        [0.4836],\n",
      "        [0.5069],\n",
      "        [0.5104],\n",
      "        [0.4963],\n",
      "        [0.5032],\n",
      "        [0.5030],\n",
      "        [0.4999],\n",
      "        [0.4829]])\n",
      "New parameters: \n",
      " [tensor([[-0.0089],\n",
      "        [-0.0029],\n",
      "        [ 0.0045],\n",
      "        [ 0.0010],\n",
      "        [ 0.0185],\n",
      "        [-0.0015],\n",
      "        [-0.0177]]), tensor([[-0.0025]])]\n",
      "Backward pass input gradient: \n",
      " tensor([[-0.0013, -0.0004,  0.0007,  0.0002,  0.0027, -0.0002, -0.0026],\n",
      "        [-0.0002, -0.0001,  0.0001,  0.0000,  0.0004, -0.0000, -0.0003],\n",
      "        [-0.0022, -0.0007,  0.0011,  0.0003,  0.0045, -0.0004, -0.0043],\n",
      "        [-0.0005, -0.0002,  0.0002,  0.0001,  0.0010, -0.0001, -0.0010],\n",
      "        [-0.0022, -0.0007,  0.0011,  0.0003,  0.0045, -0.0004, -0.0043],\n",
      "        [-0.0013, -0.0004,  0.0006,  0.0001,  0.0026, -0.0002, -0.0025],\n",
      "        [-0.0020, -0.0006,  0.0010,  0.0002,  0.0041, -0.0003, -0.0039],\n",
      "        [-0.0005, -0.0002,  0.0003,  0.0001,  0.0011, -0.0001, -0.0011],\n",
      "        [-0.0017, -0.0006,  0.0008,  0.0002,  0.0035, -0.0003, -0.0033],\n",
      "        [-0.0014, -0.0004,  0.0007,  0.0002,  0.0028, -0.0002, -0.0027]])\n",
      "New parameter gradients: \n",
      " [tensor([[ 0.0278],\n",
      "        [-0.2680],\n",
      "        [ 0.2863],\n",
      "        [-0.2743],\n",
      "        [-0.2066],\n",
      "        [-0.0735],\n",
      "        [ 0.5675]]), tensor([[1.4696]])]\n"
     ]
    }
   ],
   "source": [
    "n = 10\n",
    "features = torch.randn(n, 7)\n",
    "seq = Sequential(Linear(1), Sigmoid())\n",
    "\n",
    "print(\"Sequential layers: \", seq.layers)\n",
    "print(\"Initial parameters and grads: \\n\", [param for param in seq.parameters()], \n",
    "      \"\\n\", [param for param in seq.parameters()])\n",
    "print(\"Forward pass loss: \", seq.forward(features))\n",
    "print(\"New parameters: \\n\", [param for param in seq.parameters()])\n",
    "print(\"Backward pass input gradient: \\n\", seq.backward(torch.rand(n,1)))\n",
    "print(\"New parameter gradients: \\n\", [grad for grad in seq.grads()])"
   ]
  },
  {
   "cell_type": "markdown",
   "metadata": {},
   "source": [
    "We can use this `Sequential` class to construct new layers that are a combination of layers. For example, we can combine the Linear and Sigmoid layers into one layer we'll call `Dense`, following after Keras. With this layer, you'll be able to define what operation you want to use as an activation function following the linear transformation in one class.\n",
    "\n",
    "<img src='assets/dense_layer.png' width=300px>"
   ]
  },
  {
   "cell_type": "code",
   "execution_count": 13,
   "metadata": {},
   "outputs": [],
   "source": [
    "class Dense(Sequential):\n",
    "    def __init__(self, size: int, activation: typing.Any = 'sigmoid') -> None:\n",
    "        \n",
    "        if activation == 'sigmoid':\n",
    "            self.activation = Sigmoid()\n",
    "        else:\n",
    "            self.activation = activation\n",
    "        \n",
    "        super().__init__(Linear(size), self.activation)"
   ]
  },
  {
   "cell_type": "code",
   "execution_count": 14,
   "metadata": {},
   "outputs": [
    {
     "data": {
      "text/plain": [
       "tensor([[0.4990, 0.4997, 0.4984, 0.5010, 0.5011, 0.4945, 0.4960, 0.5052, 0.5011,\n",
       "         0.5053]])"
      ]
     },
     "execution_count": 14,
     "metadata": {},
     "output_type": "execute_result"
    }
   ],
   "source": [
    "dense = Dense(10)\n",
    "dense(torch.rand((1,5)))"
   ]
  },
  {
   "cell_type": "markdown",
   "metadata": {},
   "source": [
    "### `LogLoss` layer\n",
    "\n",
    "Finally we'll build a layer for the log loss, specifically for the logistic regression problem. Sometimes this is also called the cross-entropy loss, but this loss updates based on positive and negative labels, while the cross-entropy loss only updates on positive labels. \n",
    "\n",
    "#### Forward pass\n",
    "Our loss here for true labels $y$ and prediction probabilities $y$ is \n",
    "\n",
    "$$\n",
    "L = \\sum_k^K -y^k \\log{p^k} - (1-y^k)\\log{(1-p^k)}\n",
    "$$\n",
    "\n",
    "#### Backward pass\n",
    "\n",
    "For the backward pass, we need the gradient of $L$ with respect to $p$, which we'll send backward in the network.\n",
    "\n",
    "$$\n",
    "\\frac{\\partial L}{\\partial p} = \\sum_k -\\frac{y^k}{p^k} + \\frac{1 - y^k}{1 - p^k}\n",
    "$$\n"
   ]
  },
  {
   "cell_type": "code",
   "execution_count": 15,
   "metadata": {},
   "outputs": [],
   "source": [
    "class Loss:\n",
    "    \"\"\" Base class for losses \"\"\"\n",
    "    def __init__(self, network: typing.Type[Layer]):\n",
    "        self.network = network\n",
    "    \n",
    "    def forward(self, input: Tensor, targets: Tensor) -> float:\n",
    "        raise NotImplementedError()\n",
    "\n",
    "    def gradient(self) -> Tensor:\n",
    "        \"\"\" Gradient of the loss with respect to it's inputs \"\"\"\n",
    "        raise NotImplementedError()\n",
    "\n",
    "    def backward(self) -> None:\n",
    "        backward_grad = self.gradient()\n",
    "        # Calculate gradients for the network\n",
    "        self.network.backward(backward_grad)\n",
    "        return None\n",
    "        \n",
    "    def __call__(self, input: Tensor, targets: Tensor) -> float:\n",
    "        return self.forward(input, targets)"
   ]
  },
  {
   "cell_type": "code",
   "execution_count": 16,
   "metadata": {},
   "outputs": [],
   "source": [
    "class LogLoss(Loss):\n",
    "    \"\"\" Log loss error specifically for logistic regression, requires a sequence of layers as input \"\"\"\n",
    "    def __init__(self, network: typing.Type[Layer], eta=1e-9):\n",
    "        super().__init__(network)\n",
    "        \n",
    "        # Small parameter to avoid explosions when our probabilities get small\n",
    "        # A better way to do this is use log probabilities everywhere\n",
    "        self.eta = eta\n",
    "        \n",
    "    def forward(self, features: Tensor, labels: Tensor) -> float:\n",
    "        \n",
    "        self.last_input = p = self.network(features)\n",
    "        self.labels = y = labels\n",
    "        \n",
    "        loss = torch.sum(-y*torch.log(p + self.eta) - (1-y)*torch.log(1 - p + self.eta))\n",
    "        return loss.item()\n",
    "    \n",
    "    def gradient(self) -> Tensor:\n",
    "        y, p = self.labels, self.last_input\n",
    "        n = y.shape[0]\n",
    "        \n",
    "        grad = torch.sum(-y/(p + self.eta) + (1-y)/(1 - p  + self.eta), dim=1).view(n, -1)\n",
    "    \n",
    "        return grad\n",
    "    \n",
    "    def __repr__(self):\n",
    "        return f\"LogLoss\""
   ]
  },
  {
   "cell_type": "code",
   "execution_count": 17,
   "metadata": {},
   "outputs": [
    {
     "name": "stdout",
     "output_type": "stream",
     "text": [
      "\n",
      "Forward loss:  13.842765808105469\n",
      "Parameter gradients before backward pass: \n",
      " [None, None]\n",
      "\n",
      "Parameter gradients after backward pass: \n",
      " [tensor([[ 1.7063],\n",
      "        [ 1.7857],\n",
      "        [ 2.1425],\n",
      "        [ 2.3904],\n",
      "        [-2.7867],\n",
      "        [-0.9708],\n",
      "        [ 2.4941]]), tensor([[2.9642]])]\n"
     ]
    }
   ],
   "source": [
    "# Testing out new LogLoss layer\n",
    "# Create some fake data\n",
    "x = torch.randn((20, 7))\n",
    "y = torch.randint(0, 2, (x.shape[0], 1))\n",
    "\n",
    "# Create our network\n",
    "net = Sequential(Linear(1), Sigmoid())\n",
    "\n",
    "# Define the loss\n",
    "loss = LogLoss(net)\n",
    "\n",
    "# Forward pass to get our loss\n",
    "print(\"\\nForward loss: \", loss.forward(x, y))\n",
    "\n",
    "# Backward pass to calculate gradients\n",
    "print(\"Parameter gradients before backward pass: \\n\", [grad for grad in net.grads()])\n",
    "loss.backward()\n",
    "print(\"\\nParameter gradients after backward pass: \\n\", [grad for grad in net.grads()])"
   ]
  },
  {
   "cell_type": "markdown",
   "metadata": {},
   "source": [
    "With these building blocks, you can theoretically construct any possible neural network architecture. We can now build a complete network for a logistic regression model. We can pass data forward through the network, and pass our gradients backwards to update our parameters. Now we'll see how we can use these gradients for the actual update step, and train our network to accurately [diagnose breast cancer][1].\n",
    "\n",
    "[1]: https://archive.ics.uci.edu/ml/datasets/Breast+Cancer+Wisconsin+(Diagnostic)"
   ]
  },
  {
   "cell_type": "markdown",
   "metadata": {},
   "source": [
    "We'll use stochastic gradient descent (SGD) to update our parameters:\n",
    "\n",
    "$$\n",
    "\\mathbf{W}_{new} = \\mathbf{W} - \\eta \\nabla_{\\mathbf{W}}L\n",
    "$$"
   ]
  },
  {
   "cell_type": "code",
   "execution_count": 18,
   "metadata": {},
   "outputs": [],
   "source": [
    "class SGD:\n",
    "    def __init__(self, network: typing.Type[Layer], lr: float = 0.003):\n",
    "        self.network = network\n",
    "        self.lr = lr\n",
    "        \n",
    "    def step(self):\n",
    "        for param, grad in zip(self.network.parameters(), self.network.grads()):\n",
    "            param.sub_(self.lr*grad)"
   ]
  },
  {
   "cell_type": "code",
   "execution_count": 19,
   "metadata": {},
   "outputs": [
    {
     "name": "stdout",
     "output_type": "stream",
     "text": [
      "\n",
      "Parameters before update step: \n",
      " [tensor([[ 0.0117],\n",
      "        [-0.0017],\n",
      "        [ 0.0017],\n",
      "        [ 0.0014],\n",
      "        [-0.0100],\n",
      "        [-0.0029],\n",
      "        [ 0.0051]]), tensor([[0.0003]])]\n",
      "\n",
      "Parameters after update step: \n",
      " [tensor([[ 0.0119],\n",
      "        [-0.0058],\n",
      "        [ 0.0069],\n",
      "        [-0.0067],\n",
      "        [-0.0027],\n",
      "        [-0.0104],\n",
      "        [ 0.0014]]), tensor([[-0.0056]])]\n"
     ]
    }
   ],
   "source": [
    "# Testing out new LogLoss layer\n",
    "# Create some fake data\n",
    "x = torch.randn((20, 7))\n",
    "y = torch.randint(0, 2, (x.shape[0], 1))\n",
    "\n",
    "# Define network, loss, and optimizer\n",
    "net = Sequential(Linear(1), Sigmoid())\n",
    "loss = LogLoss(net)\n",
    "optim = SGD(net)\n",
    "\n",
    "# Forward pass to get our loss\n",
    "forward_loss = loss.forward(x, y)\n",
    "loss.backward()\n",
    "print(\"\\nParameters before update step: \\n\", [param for param in net.parameters()])\n",
    "optim.step()\n",
    "print(\"\\nParameters after update step: \\n\", [param for param in net.parameters()])"
   ]
  },
  {
   "cell_type": "markdown",
   "metadata": {},
   "source": [
    "## Training\n",
    "\n",
    "In this part, we'll be using the components we've created to train a logistic regression model to predict breast cancer."
   ]
  },
  {
   "cell_type": "markdown",
   "metadata": {},
   "source": [
    "### Prep breast cancer data"
   ]
  },
  {
   "cell_type": "markdown",
   "metadata": {},
   "source": [
    "#### `sklearn` loading"
   ]
  },
  {
   "cell_type": "code",
   "execution_count": 20,
   "metadata": {},
   "outputs": [
    {
     "name": "stderr",
     "output_type": "stream",
     "text": [
      "/Users/seth/anaconda3/lib/python3.6/importlib/_bootstrap.py:219: RuntimeWarning: numpy.dtype size changed, may indicate binary incompatibility. Expected 96, got 88\n",
      "  return f(*args, **kwds)\n",
      "/Users/seth/anaconda3/lib/python3.6/importlib/_bootstrap.py:219: RuntimeWarning: numpy.dtype size changed, may indicate binary incompatibility. Expected 96, got 88\n",
      "  return f(*args, **kwds)\n"
     ]
    }
   ],
   "source": [
    "from sklearn.datasets import load_breast_cancer\n",
    "breast_cancer = load_breast_cancer()\n",
    "features = breast_cancer.data\n",
    "labels = breast_cancer.target\n",
    "feature_names = breast_cancer.feature_names"
   ]
  },
  {
   "cell_type": "code",
   "execution_count": 21,
   "metadata": {},
   "outputs": [],
   "source": [
    "def standardize(arr: np.ndarray) -> np.ndarray:\n",
    "    \n",
    "    means = arr.mean(axis=0)\n",
    "    stds = arr.std(axis=0)\n",
    "    \n",
    "    return (arr - means) / stds\n",
    "\n",
    "features = standardize(features)"
   ]
  },
  {
   "cell_type": "code",
   "execution_count": 22,
   "metadata": {},
   "outputs": [],
   "source": [
    "def generate_batches(features: np.ndarray, \n",
    "                     labels: np.ndarray,\n",
    "                     size: int = 32,\n",
    "                     shuffle: bool = True) -> Tuple[Tensor, Tensor]:\n",
    "    \n",
    "    if features.shape[0] != labels.shape[0]:\n",
    "        raise ValueError('feature and label arrays must have the same first dimension')\n",
    "    \n",
    "    n = features.shape[0]\n",
    "    \n",
    "    if shuffle:\n",
    "        idx = np.arange(n)\n",
    "        shuffled = np.random.shuffle(idx)\n",
    "        features = features[shuffled].reshape((n, -1)) \n",
    "        labels = labels[shuffled].reshape((n, 1))\n",
    "    \n",
    "    for ii in range(0, n, size):\n",
    "        out_features = torch.from_numpy(features[ii:ii+size, :]).type(torch.FloatTensor)\n",
    "        out_labels = torch.from_numpy(labels[ii:ii+size, :]).type(torch.FloatTensor)\n",
    "        yield out_features, out_labels"
   ]
  },
  {
   "cell_type": "code",
   "execution_count": 23,
   "metadata": {},
   "outputs": [
    {
     "name": "stdout",
     "output_type": "stream",
     "text": [
      "0.0601\n",
      "0.0546\n",
      "0.0522\n",
      "0.0507\n",
      "0.0496\n",
      "0.0487\n",
      "0.0479\n",
      "0.0473\n",
      "0.0467\n",
      "0.0462\n",
      "0.0457\n",
      "0.0453\n",
      "0.0449\n",
      "0.0445\n",
      "0.0442\n",
      "0.0439\n",
      "0.0436\n",
      "0.0433\n",
      "0.0431\n",
      "0.0428\n",
      "0.0426\n",
      "0.0424\n",
      "0.0421\n",
      "0.0419\n",
      "0.0417\n"
     ]
    }
   ],
   "source": [
    "network = Dense(1)\n",
    "loss = LogLoss(network)\n",
    "optim = SGD(network, lr=0.01)\n",
    "\n",
    "epochs = 500\n",
    "print_every = 100\n",
    "steps = 0\n",
    "for e in range(epochs):\n",
    "    train_loss = 0\n",
    "    for x, y in generate_batches(features, labels, size=128):\n",
    "        steps += 1\n",
    "        train_loss += loss(x, y)\n",
    "        loss.backward()\n",
    "        optim.step()\n",
    "    if steps % print_every == 0: \n",
    "        print(f\"{train_loss/len(features):.4f}\")"
   ]
  },
  {
   "cell_type": "markdown",
   "metadata": {},
   "source": [
    "Now we need a metric to determine how well our network is performing. A common metric for classification problems like this is accuracy, correct predictions divided by all predictions."
   ]
  },
  {
   "cell_type": "code",
   "execution_count": 24,
   "metadata": {},
   "outputs": [],
   "source": [
    "def accuracy(predictions: np.ndarray, labels: np.ndarray) -> float:\n",
    "    accuracy = np.mean(predictions.squeeze() == labels.squeeze())\n",
    "    return accuracy"
   ]
  },
  {
   "cell_type": "code",
   "execution_count": 25,
   "metadata": {},
   "outputs": [
    {
     "name": "stdout",
     "output_type": "stream",
     "text": [
      "Accuracy on training data: 98.946%\n"
     ]
    }
   ],
   "source": [
    "ps = network(torch.from_numpy(features).type(torch.FloatTensor))\n",
    "predictions = np.round(ps.numpy())\n",
    "acc = accuracy(predictions, labels)\n",
    "print(f\"Accuracy on training data: {acc*100:.3f}%\")"
   ]
  },
  {
   "cell_type": "code",
   "execution_count": 27,
   "metadata": {},
   "outputs": [],
   "source": [
    "class Classifier:\n",
    "    def __init__(self, network: typing.Type[Layer], \n",
    "                       loss: Loss=LogLoss, \n",
    "                       optimizer: typing.Any=SGD, \n",
    "                       metric: typing.Callable=accuracy, \n",
    "                       batch_gen: typing.Callable=generate_batches,\n",
    "                       valid_gen: typing.Callable=None):\n",
    "        self.network = network\n",
    "        if loss is not LogLoss:\n",
    "            self.loss = loss\n",
    "        else:\n",
    "            self.loss = LogLoss(network)\n",
    "        \n",
    "        if optimizer is not SGD:\n",
    "            self.optim = optimizer\n",
    "        else:\n",
    "            self.optim = optimizer(network)\n",
    "        \n",
    "        self.metric = metric\n",
    "        self.batch_gen = batch_gen\n",
    "        self.valid_gen = valid_gen\n",
    "        \n",
    "    def fit(self, features: np.ndarray = None, labels: np.ndarray = None, \n",
    "                  epochs: int=500, print_every: int=100, \n",
    "                  batch_size: int=32, log_ps=False, \n",
    "                  topk=5)-> None:\n",
    "        steps = 0\n",
    "        if features is not None:\n",
    "            batch_generator = self.batch_gen(features, labels, size=batch_size)\n",
    "        else:\n",
    "            batch_generator = self.batch_gen\n",
    "        \n",
    "        for e in range(epochs):\n",
    "            running_loss = 0\n",
    "\n",
    "            for x, y in batch_generator:\n",
    "                steps += 1\n",
    "                running_loss += self.loss(x, y)\n",
    "                self.loss.backward()\n",
    "                self.optim.step()\n",
    "            \n",
    "                if steps % print_every == 0:\n",
    "                    if self.valid_gen is None:\n",
    "                        ps = self.network(x)\n",
    "                        metric = self.metric(ps, y)\n",
    "                    else:\n",
    "                        valid_metric = 0\n",
    "                        for ii, (x, y) in enumerate(self.valid_gen):\n",
    "                            ps = self.network(x)\n",
    "                            valid_metric += self.metric(ps, y)\n",
    "                        metric = valid_metric/(ii+1)\n",
    "\n",
    "                    print(f\"Epoch {e+1}.. Train loss: {running_loss/print_every:.4f}.. \", f\"Metric: {metric:.3f}\")\n",
    "                    running_loss = 0"
   ]
  },
  {
   "cell_type": "code",
   "execution_count": 28,
   "metadata": {},
   "outputs": [],
   "source": [
    "network = Sequential(\n",
    "            Dense(10),\n",
    "            Dense(1))\n",
    "model = Classifier(network, loss=LogLoss(network), optimizer=SGD(network))\n",
    "model.fit(features, labels, batch_size=128)"
   ]
  },
  {
   "cell_type": "markdown",
   "metadata": {},
   "source": [
    "I moved all of this code into a package called `Lincoln`, which we can easily use to build neural networks."
   ]
  },
  {
   "cell_type": "code",
   "execution_count": 30,
   "metadata": {},
   "outputs": [],
   "source": [
    "import sys\n",
    "sys.path.append(\"/Users/seth/development/lincoln/\")"
   ]
  },
  {
   "cell_type": "code",
   "execution_count": 31,
   "metadata": {},
   "outputs": [],
   "source": [
    "import lincoln as lnc\n",
    "from lincoln.layers import Dense, Sequential"
   ]
  },
  {
   "cell_type": "code",
   "execution_count": 32,
   "metadata": {},
   "outputs": [],
   "source": [
    "network = Sequential(\n",
    "            Dense(10),\n",
    "            Dense(1))\n",
    "model = lnc.models.Classifier(network, loss=lnc.losses.LogLoss(network), optimizer=lnc.optim.SGD(network))\n",
    "model.fit(features, labels, batch_size=128)"
   ]
  }
 ],
 "metadata": {
  "kernelspec": {
   "display_name": "Python 3",
   "language": "python",
   "name": "python3"
  },
  "language_info": {
   "codemirror_mode": {
    "name": "ipython",
    "version": 3
   },
   "file_extension": ".py",
   "mimetype": "text/x-python",
   "name": "python",
   "nbconvert_exporter": "python",
   "pygments_lexer": "ipython3",
   "version": "3.6.6"
  }
 },
 "nbformat": 4,
 "nbformat_minor": 2
}
