{
 "cells": [
  {
   "cell_type": "code",
   "execution_count": 1,
   "metadata": {},
   "outputs": [],
   "source": [
    "# ignore warnings\n",
    "import warnings\n",
    "warnings.filterwarnings('ignore')\n",
    "\n",
    "# Add Lincoln to system path\n",
    "import sys\n",
    "sys.path.append(\"/Users/seth/development/lincoln/\")"
   ]
  },
  {
   "cell_type": "code",
   "execution_count": 2,
   "metadata": {},
   "outputs": [],
   "source": [
    "# %load_ext autoreload\n",
    "# %autoreload 2"
   ]
  },
  {
   "cell_type": "code",
   "execution_count": 3,
   "metadata": {},
   "outputs": [],
   "source": [
    "import torch\n",
    "from torch import Tensor\n",
    "\n",
    "import lincoln\n",
    "from lincoln.layers import Dense\n",
    "from lincoln.losses import LogSoftmaxLoss, LogSigmoidLoss, MeanSquaredError\n",
    "from lincoln.optimizers import SGD\n",
    "from lincoln.operations.activations import Sigmoid, LogSigmoid\n",
    "from lincoln.network import NeuralNetwork"
   ]
  },
  {
   "cell_type": "markdown",
   "metadata": {},
   "source": [
    "## Regression network"
   ]
  },
  {
   "cell_type": "code",
   "execution_count": 4,
   "metadata": {},
   "outputs": [],
   "source": [
    "from sklearn.datasets import load_boston\n",
    "\n",
    "boston = load_boston()\n",
    "\n",
    "data = boston.data\n",
    "target = boston.target\n",
    "features = boston.feature_names\n",
    "\n",
    "from sklearn.preprocessing import StandardScaler\n",
    "s = StandardScaler()\n",
    "data = s.fit_transform(data)\n",
    "\n",
    "from sklearn.model_selection import train_test_split\n",
    "X_train, X_test, y_train, y_test = train_test_split(data, target, test_size=0.3, random_state=80718)\n",
    "\n",
    "X_train, X_test, y_train, y_test = Tensor(X_train), Tensor(X_test), Tensor(y_train), Tensor(y_test)"
   ]
  },
  {
   "cell_type": "markdown",
   "metadata": {},
   "source": [
    "## Regression models"
   ]
  },
  {
   "cell_type": "code",
   "execution_count": 5,
   "metadata": {},
   "outputs": [],
   "source": [
    "from lincoln.losses import MeanSquaredError\n",
    "from lincoln.optimizers import SGD\n",
    "\n",
    "from lincoln.operations.activations import Sigmoid, LinearAct"
   ]
  },
  {
   "cell_type": "markdown",
   "metadata": {},
   "source": [
    "#### Linear Regression"
   ]
  },
  {
   "cell_type": "code",
   "execution_count": 6,
   "metadata": {},
   "outputs": [],
   "source": [
    "from lincoln.train import Trainer"
   ]
  },
  {
   "cell_type": "code",
   "execution_count": 7,
   "metadata": {},
   "outputs": [],
   "source": [
    "lr = NeuralNetwork(\n",
    "    layers=[Dense(neurons=1, \n",
    "                  activation=LinearAct())], \n",
    "            loss = MeanSquaredError())\n",
    "\n",
    "trainer = Trainer(lr, SGD())"
   ]
  },
  {
   "cell_type": "code",
   "execution_count": 8,
   "metadata": {},
   "outputs": [
    {
     "name": "stdout",
     "output_type": "stream",
     "text": [
      "Validation loss after 1 epochs is 6054.131\n",
      "Validation loss after 2 epochs is 4165.070\n",
      "Validation loss after 3 epochs is 5354.270\n",
      "Validation loss after 4 epochs is 4191.684\n",
      "Validation loss after 5 epochs is 3958.340\n",
      "Validation loss after 6 epochs is 4461.651\n",
      "Validation loss after 7 epochs is 3746.806\n",
      "Validation loss after 8 epochs is 4463.007\n",
      "Validation loss after 9 epochs is 4598.510\n",
      "Validation loss after 10 epochs is 3916.603\n"
     ]
    }
   ],
   "source": [
    "trainer.fit(X_train, y_train, X_test, y_test,  \n",
    "       epochs = 10,\n",
    "       eval_every = 1,\n",
    "       seed=10818,\n",
    "       single_output=True);"
   ]
  },
  {
   "cell_type": "code",
   "execution_count": 9,
   "metadata": {},
   "outputs": [],
   "source": [
    "def mae(y_true, y_pred):\n",
    "    return round(torch.mean(torch.abs(y_true - y_pred)).item(), 4)\n",
    "\n",
    "def mse(y_true, y_pred):\n",
    "    return round(torch.mean(torch.pow(y_true - y_pred, 2)).item(), 4)"
   ]
  },
  {
   "cell_type": "code",
   "execution_count": 10,
   "metadata": {},
   "outputs": [],
   "source": [
    "def eval_regression_model(lr: NeuralNetwork, \n",
    "                          X_test: Tensor, \n",
    "                          y_test: Tensor):\n",
    "    preds = lr.forward(X_test)\n",
    "    preds = preds.reshape(preds.shape[0])\n",
    "    return mae(preds, y_test), mse(preds, y_test)"
   ]
  },
  {
   "cell_type": "code",
   "execution_count": 11,
   "metadata": {},
   "outputs": [
    {
     "data": {
      "text/plain": [
       "(3.6187, 25.7671)"
      ]
     },
     "execution_count": 11,
     "metadata": {},
     "output_type": "execute_result"
    }
   ],
   "source": [
    "eval_regression_model(lr, X_test, y_test)"
   ]
  },
  {
   "cell_type": "markdown",
   "metadata": {},
   "source": [
    "Works!"
   ]
  },
  {
   "cell_type": "markdown",
   "metadata": {},
   "source": [
    "#### Testing momentum"
   ]
  },
  {
   "cell_type": "code",
   "execution_count": 12,
   "metadata": {},
   "outputs": [],
   "source": [
    "from lincoln.optimizers import SGDMomentum"
   ]
  },
  {
   "cell_type": "code",
   "execution_count": 18,
   "metadata": {},
   "outputs": [
    {
     "name": "stdout",
     "output_type": "stream",
     "text": [
      "Validation loss after 1 epochs is 5581.277\n",
      "Validation loss after 2 epochs is 4204.301\n",
      "Validation loss after 3 epochs is 5624.175\n",
      "Validation loss after 4 epochs is 4249.497\n",
      "Validation loss after 5 epochs is 3933.467\n",
      "Validation loss after 6 epochs is 4563.716\n",
      "Validation loss after 7 epochs is 3766.584\n",
      "Validation loss after 8 epochs is 4485.246\n",
      "Validation loss after 9 epochs is 4700.247\n",
      "Validation loss after 10 epochs is 3917.355\n"
     ]
    },
    {
     "data": {
      "text/plain": [
       "(3.6283, 25.7721)"
      ]
     },
     "execution_count": 18,
     "metadata": {},
     "output_type": "execute_result"
    }
   ],
   "source": [
    "lr = NeuralNetwork(\n",
    "    layers=[Dense(neurons=1, \n",
    "                  activation=LinearAct())], \n",
    "            loss = MeanSquaredError())\n",
    "trainer = Trainer(lr, SGDMomentum(momentum=0.1))\n",
    "\n",
    "trainer.fit(X_train, y_train, X_test, y_test,  \n",
    "       epochs = 10,\n",
    "       eval_every = 1,\n",
    "       seed=10818,\n",
    "       single_output=True);\n",
    "eval_regression_model(lr, X_test, y_test)"
   ]
  },
  {
   "cell_type": "markdown",
   "metadata": {},
   "source": [
    "#### \"Neural Network\" Regression"
   ]
  },
  {
   "cell_type": "code",
   "execution_count": 19,
   "metadata": {},
   "outputs": [
    {
     "name": "stdout",
     "output_type": "stream",
     "text": [
      "Validation loss after 1 epochs is 5187.280\n",
      "Validation loss after 2 epochs is 4834.083\n",
      "Validation loss after 3 epochs is 3436.267\n",
      "Validation loss after 4 epochs is 2984.902\n",
      "Validation loss after 5 epochs is 2956.575\n",
      "Validation loss after 6 epochs is 2364.621\n",
      "Validation loss after 7 epochs is 2382.822\n",
      "Validation loss after 8 epochs is 2282.458\n",
      "Validation loss after 9 epochs is 2447.009\n",
      "Validation loss after 10 epochs is 2119.687\n"
     ]
    }
   ],
   "source": [
    "nn = NeuralNetwork(\n",
    "    layers=[Dense(neurons=13, \n",
    "                  activation=Sigmoid()),\n",
    "            Dense(neurons=1, \n",
    "                  activation=LinearAct())], \n",
    "            loss = MeanSquaredError())\n",
    "\n",
    "trainer = Trainer(nn, SGDMomentum(momentum=0.1))\n",
    "trainer.fit(X_train, y_train, X_test, y_test,  \n",
    "       epochs = 10,\n",
    "       eval_every = 1,\n",
    "       seed=10818,\n",
    "       single_output=True);"
   ]
  },
  {
   "cell_type": "code",
   "execution_count": 20,
   "metadata": {},
   "outputs": [
    {
     "data": {
      "text/plain": [
       "(2.3471, 13.9453)"
      ]
     },
     "execution_count": 20,
     "metadata": {},
     "output_type": "execute_result"
    }
   ],
   "source": [
    "eval_regression_model(nn, X_test, y_test)"
   ]
  },
  {
   "cell_type": "markdown",
   "metadata": {},
   "source": [
    "Works!"
   ]
  },
  {
   "cell_type": "markdown",
   "metadata": {},
   "source": [
    "#### \"Deep Learning\" Regression"
   ]
  },
  {
   "cell_type": "code",
   "execution_count": 21,
   "metadata": {},
   "outputs": [
    {
     "name": "stdout",
     "output_type": "stream",
     "text": [
      "Validation loss after 1 epochs is 10378.049\n",
      "Validation loss after 2 epochs is 5909.530\n",
      "Validation loss after 3 epochs is 4264.764\n",
      "Validation loss after 4 epochs is 3561.067\n",
      "Validation loss after 5 epochs is 2714.385\n",
      "Validation loss after 6 epochs is 3809.022\n",
      "Validation loss after 7 epochs is 3245.006\n",
      "Validation loss after 8 epochs is 4771.190\n",
      "Validation loss after 9 epochs is 3646.437\n",
      "Validation loss after 10 epochs is 4917.084\n"
     ]
    }
   ],
   "source": [
    "dl = NeuralNetwork(\n",
    "    layers=[Dense(neurons=13, \n",
    "                  activation=Sigmoid()),\n",
    "            Dense(neurons=13, \n",
    "                  activation=Sigmoid()),\n",
    "            Dense(neurons=1, \n",
    "                  activation=LinearAct())], \n",
    "            loss = MeanSquaredError())\n",
    "\n",
    "trainer = Trainer(dl, SGDMomentum(momentum=0.1))\n",
    "trainer.fit(X_train, y_train, X_test, y_test,  \n",
    "       epochs = 10,\n",
    "       eval_every = 1,\n",
    "       seed=10818,\n",
    "       single_output=True);"
   ]
  },
  {
   "cell_type": "code",
   "execution_count": 22,
   "metadata": {},
   "outputs": [
    {
     "data": {
      "text/plain": [
       "(4.5132, 32.3492)"
      ]
     },
     "execution_count": 22,
     "metadata": {},
     "output_type": "execute_result"
    }
   ],
   "source": [
    "eval_regression_model(dl, X_test, y_test)"
   ]
  },
  {
   "cell_type": "code",
   "execution_count": 23,
   "metadata": {
    "scrolled": true
   },
   "outputs": [
    {
     "name": "stdout",
     "output_type": "stream",
     "text": [
      "Validation loss after 1 epochs is 9048.820\n",
      "Validation loss after 2 epochs is 9242.333\n",
      "Validation loss after 3 epochs is 9876.866\n",
      "Validation loss after 4 epochs is 9357.191\n",
      "Validation loss after 5 epochs is 8151.121\n",
      "Validation loss after 6 epochs is 7768.742\n",
      "Validation loss after 7 epochs is 7168.652\n",
      "Validation loss after 8 epochs is 6943.183\n",
      "Validation loss after 9 epochs is 11603.037\n",
      "Validation loss after 10 epochs is 8359.214\n"
     ]
    }
   ],
   "source": [
    "dl = NeuralNetwork(\n",
    "    layers=[Dense(neurons=13, \n",
    "                  activation=Sigmoid()),\n",
    "            Dense(neurons=13, \n",
    "                  activation=Sigmoid()),\n",
    "            Dense(neurons=1, \n",
    "                  activation=LinearAct())], \n",
    "            loss = MeanSquaredError())\n",
    "\n",
    "trainer2 = Trainer(dl, SGDMomentum())\n",
    "trainer2.fit(X_train, y_train, X_test, y_test,  \n",
    "       epochs = 10,\n",
    "       eval_every = 1,\n",
    "       seed=10818,\n",
    "       single_output=True);"
   ]
  },
  {
   "cell_type": "code",
   "execution_count": 24,
   "metadata": {},
   "outputs": [
    {
     "data": {
      "text/plain": [
       "(5.0506, 54.9948)"
      ]
     },
     "execution_count": 24,
     "metadata": {},
     "output_type": "execute_result"
    }
   ],
   "source": [
    "eval_regression_model(dl, X_test, y_test)"
   ]
  },
  {
   "cell_type": "markdown",
   "metadata": {},
   "source": [
    "Works!"
   ]
  },
  {
   "cell_type": "markdown",
   "metadata": {},
   "source": [
    "## Classification models"
   ]
  },
  {
   "cell_type": "markdown",
   "metadata": {},
   "source": [
    "#### Data prep (SciKit Learn)"
   ]
  },
  {
   "cell_type": "code",
   "execution_count": 25,
   "metadata": {},
   "outputs": [],
   "source": [
    "from sklearn.datasets import load_breast_cancer\n",
    "breast_cancer = load_breast_cancer()\n",
    "data = breast_cancer.data\n",
    "target = breast_cancer.target"
   ]
  },
  {
   "cell_type": "code",
   "execution_count": 26,
   "metadata": {},
   "outputs": [],
   "source": [
    "from sklearn.preprocessing import StandardScaler\n",
    "s = StandardScaler()\n",
    "data = s.fit_transform(data)\n",
    "\n",
    "from sklearn.model_selection import train_test_split\n",
    "X_train, X_test, y_train, y_test = train_test_split(data, target, test_size=0.3, random_state=82618)\n",
    "\n",
    "X_train, X_test, y_train, y_test = Tensor(X_train), Tensor(X_test), Tensor(y_train), Tensor(y_test)"
   ]
  },
  {
   "cell_type": "markdown",
   "metadata": {},
   "source": [
    "#### \"`LogSigmoid`\" Logistic Regression"
   ]
  },
  {
   "cell_type": "code",
   "execution_count": 27,
   "metadata": {
    "scrolled": true
   },
   "outputs": [
    {
     "name": "stdout",
     "output_type": "stream",
     "text": [
      "Validation loss after 10 epochs is 23.003\n",
      "Validation loss after 20 epochs is 19.235\n",
      "Validation loss after 30 epochs is 18.084\n",
      "Validation loss after 40 epochs is 17.586\n",
      "Validation loss after 50 epochs is 17.340\n",
      "Validation loss after 60 epochs is 17.210\n",
      "Validation loss after 70 epochs is 17.108\n",
      "Validation loss after 80 epochs is 17.061\n",
      "Validation loss after 90 epochs is 17.031\n",
      "Validation loss after 100 epochs is 17.019\n"
     ]
    }
   ],
   "source": [
    "logr = NeuralNetwork(\n",
    "    layers=[Dense(neurons=1, \n",
    "                  activation=LogSigmoid())],\n",
    "            loss = LogSigmoidLoss())\n",
    "\n",
    "trainer = Trainer(logr, SGD())\n",
    "trainer.fit(X_train, y_train, X_test, y_test,  \n",
    "       epochs = 100,\n",
    "       eval_every = 10,\n",
    "       seed=82618,\n",
    "       single_output=True);"
   ]
  },
  {
   "cell_type": "code",
   "execution_count": 28,
   "metadata": {},
   "outputs": [
    {
     "name": "stdout",
     "output_type": "stream",
     "text": [
      "Validation loss after 10 epochs is 10.025\n",
      "Validation loss after 20 epochs is 7.280\n",
      "Validation loss after 30 epochs is 6.160\n",
      "Validation loss after 40 epochs is 5.527\n",
      "Validation loss after 50 epochs is 5.118\n",
      "Validation loss after 60 epochs is 4.818\n",
      "Validation loss after 70 epochs is 4.576\n",
      "Validation loss after 80 epochs is 4.395\n",
      "Validation loss after 90 epochs is 4.274\n",
      "Validation loss after 100 epochs is 4.190\n"
     ]
    }
   ],
   "source": [
    "logr_mse = NeuralNetwork(\n",
    "    layers=[Dense(neurons=1, \n",
    "                  activation=Sigmoid())],\n",
    "            loss = MeanSquaredError())\n",
    "\n",
    "trainer = Trainer(logr_mse, SGD())\n",
    "trainer.fit(X_train, y_train, X_test, y_test,  \n",
    "       epochs = 100,\n",
    "       eval_every = 10,\n",
    "       seed=82618,\n",
    "       single_output=True);"
   ]
  },
  {
   "cell_type": "code",
   "execution_count": 29,
   "metadata": {},
   "outputs": [],
   "source": [
    "def accuracy(y_true, y_pred):\n",
    "    return round(torch.sum(torch.eq(y_true, y_pred)).item() / y_true.size()[0], 4)"
   ]
  },
  {
   "cell_type": "code",
   "execution_count": 30,
   "metadata": {},
   "outputs": [],
   "source": [
    "def eval_classification_model(model: NeuralNetwork, \n",
    "                              X_test: Tensor, \n",
    "                              y_test: Tensor,\n",
    "                              log_probs: bool = False):\n",
    "    preds = model.forward(X_test)\n",
    "    if log_probs:\n",
    "        preds = torch.exp(preds)\n",
    "    preds = preds > 0.5\n",
    "    preds = preds.reshape(preds.shape[0]).type(torch.FloatTensor)  \n",
    "    return accuracy(preds, y_test)"
   ]
  },
  {
   "cell_type": "code",
   "execution_count": 31,
   "metadata": {
    "scrolled": true
   },
   "outputs": [
    {
     "data": {
      "text/plain": [
       "0.9766"
      ]
     },
     "execution_count": 31,
     "metadata": {},
     "output_type": "execute_result"
    }
   ],
   "source": [
    "eval_classification_model(logr, X_test, y_test, log_probs=True)"
   ]
  },
  {
   "cell_type": "code",
   "execution_count": 32,
   "metadata": {},
   "outputs": [
    {
     "data": {
      "text/plain": [
       "0.9708"
      ]
     },
     "execution_count": 32,
     "metadata": {},
     "output_type": "execute_result"
    }
   ],
   "source": [
    "eval_classification_model(logr_mse, X_test, y_test)"
   ]
  },
  {
   "cell_type": "markdown",
   "metadata": {},
   "source": [
    "`LogSoftmaxLoss` works!"
   ]
  },
  {
   "cell_type": "code",
   "execution_count": 33,
   "metadata": {},
   "outputs": [
    {
     "name": "stdout",
     "output_type": "stream",
     "text": [
      "Validation loss after 10 epochs is 4.649\n",
      "Validation loss after 20 epochs is 3.897\n",
      "Validation loss after 30 epochs is 3.723\n",
      "Validation loss after 40 epochs is 3.613\n",
      "Validation loss after 50 epochs is 3.615\n",
      "Validation loss after 60 epochs is 3.736\n",
      "Validation loss after 70 epochs is 3.778\n",
      "Validation loss after 80 epochs is 3.822\n",
      "Validation loss after 90 epochs is 3.893\n",
      "Validation loss after 100 epochs is 3.965\n"
     ]
    }
   ],
   "source": [
    "logr_mse = NeuralNetwork(\n",
    "    layers=[Dense(neurons=1, \n",
    "                  activation=Sigmoid())],\n",
    "            loss = MeanSquaredError())\n",
    "trainer_m = Trainer(logr_mse, SGDMomentum())\n",
    "trainer_m.fit(X_train, y_train, X_test, y_test,  \n",
    "       epochs = 100,\n",
    "       eval_every = 10,\n",
    "       seed=82618,\n",
    "       single_output=True);"
   ]
  },
  {
   "cell_type": "code",
   "execution_count": 34,
   "metadata": {},
   "outputs": [
    {
     "data": {
      "text/plain": [
       "0.9708"
      ]
     },
     "execution_count": 34,
     "metadata": {},
     "output_type": "execute_result"
    }
   ],
   "source": [
    "eval_classification_model(logr_mse, X_test, y_test)"
   ]
  },
  {
   "cell_type": "markdown",
   "metadata": {},
   "source": [
    "#### \"Neural Network\" Logistic Regression"
   ]
  },
  {
   "cell_type": "code",
   "execution_count": 35,
   "metadata": {},
   "outputs": [
    {
     "name": "stdout",
     "output_type": "stream",
     "text": [
      "Validation loss after 10 epochs is 5.820\n",
      "Validation loss after 20 epochs is 4.857\n",
      "Validation loss after 30 epochs is 4.324\n",
      "Validation loss after 40 epochs is 4.022\n",
      "Validation loss after 50 epochs is 3.850\n",
      "Validation loss after 60 epochs is 3.736\n",
      "Validation loss after 70 epochs is 3.679\n",
      "Validation loss after 80 epochs is 3.735\n",
      "Validation loss after 90 epochs is 3.721\n",
      "Validation loss after 100 epochs is 3.895\n"
     ]
    }
   ],
   "source": [
    "logr_nn = NeuralNetwork(\n",
    "    layers=[Dense(neurons=30, \n",
    "                  activation=Sigmoid()),\n",
    "            Dense(neurons=1, \n",
    "                  activation=Sigmoid())],\n",
    "            loss = MeanSquaredError())\n",
    "trainer_m = Trainer(logr_nn, SGDMomentum())\n",
    "trainer_m.fit(X_train, y_train, X_test, y_test,  \n",
    "       epochs = 100,\n",
    "       eval_every = 10,\n",
    "       seed=10818,\n",
    "       single_output=True);"
   ]
  },
  {
   "cell_type": "code",
   "execution_count": 36,
   "metadata": {},
   "outputs": [
    {
     "data": {
      "text/plain": [
       "0.9708"
      ]
     },
     "execution_count": 36,
     "metadata": {},
     "output_type": "execute_result"
    }
   ],
   "source": [
    "eval_classification_model(logr_nn, X_test, y_test)"
   ]
  },
  {
   "cell_type": "markdown",
   "metadata": {},
   "source": [
    "**Works!**"
   ]
  },
  {
   "cell_type": "code",
   "execution_count": null,
   "metadata": {},
   "outputs": [],
   "source": [
    "def _conv_transform(input_: Tensor) -> Tensor:\n",
    "\n",
    "    return input_.view(input_.shape[0],\n",
    "                       input_.shape[1] * input_.shape[2] * input_.shape[3])\n",
    "\n",
    "X_train_flat = _conv_transform(X_train)\n",
    "X_test_flat = _conv_transform(X_test)"
   ]
  },
  {
   "cell_type": "code",
   "execution_count": null,
   "metadata": {},
   "outputs": [],
   "source": [
    "conv_nn_ll = NeuralNetwork(\n",
    "    layers=[Dense(neurons=250, \n",
    "                  activation=Sigmoid()),\n",
    "            Dense(neurons=50, \n",
    "                  activation=Sigmoid()),\n",
    "            Dense(neurons=10, \n",
    "                  activation=Sigmoid())],\n",
    "            loss = LogSoftmaxLoss(),\n",
    "            optimizer = SGD(0.1))"
   ]
  },
  {
   "cell_type": "code",
   "execution_count": null,
   "metadata": {},
   "outputs": [],
   "source": [
    "import time\n",
    "start = time.time()\n",
    "conv_nn_ll.fit(X_train_flat, y_train, X_test_flat, y_test,  \n",
    "        epochs=1,\n",
    "        eval_every=1,\n",
    "        batch_size=100,\n",
    "        seed=91418);\n",
    "print(\"Training took\", round(time.time()-start, 1), \"seconds.\")"
   ]
  },
  {
   "cell_type": "code",
   "execution_count": null,
   "metadata": {},
   "outputs": [],
   "source": [
    "def eval_nn(nn, X_test, y_test):\n",
    "    test_preds = nn.forward(X_test)\n",
    "    \n",
    "    test_preds_l = torch.argmax(test_preds, dim=1)\n",
    "    \n",
    "    test_vals_l = torch.argmax(y_test, dim=1)\n",
    "    \n",
    "    return torch.sum(test_preds_l == test_vals_l)"
   ]
  },
  {
   "cell_type": "code",
   "execution_count": null,
   "metadata": {},
   "outputs": [],
   "source": [
    "eval_nn(conv_nn_ll, X_test_flat, y_test)"
   ]
  },
  {
   "cell_type": "code",
   "execution_count": null,
   "metadata": {},
   "outputs": [],
   "source": [
    "X_train_perm = X_train.permute(0, 3, 1, 2)\n",
    "X_test_perm = X_test.permute(0, 3, 1, 2)"
   ]
  },
  {
   "cell_type": "code",
   "execution_count": null,
   "metadata": {},
   "outputs": [],
   "source": [
    "# settings\n",
    "pytorch = True"
   ]
  },
  {
   "cell_type": "code",
   "execution_count": null,
   "metadata": {},
   "outputs": [],
   "source": [
    "conv_nn_logloss = NeuralNetwork(\n",
    "    layers=[Conv2D(param_size=3,\n",
    "                   out_channels=24,\n",
    "                   activation=ReLU(),\n",
    "                   pytorch=pytorch),\n",
    "            Conv2D(param_size=3,\n",
    "                   out_channels=30,\n",
    "                   activation=ReLU(),\n",
    "                   pytorch=pytorch,\n",
    "                   flatten=True),\n",
    "            Dense(neurons=10, \n",
    "                  activation=Sigmoid())],\n",
    "            loss = LogSoftmaxLoss(),\n",
    "            optimizer = SGD(0.1))"
   ]
  },
  {
   "cell_type": "code",
   "execution_count": null,
   "metadata": {},
   "outputs": [],
   "source": [
    "import time\n",
    "start = time.time()\n",
    "conv_nn_logloss.fit(X_train_perm, y_train, X_test_perm, y_test,  \n",
    "        epochs=1,\n",
    "        eval_every=1,\n",
    "        batch_size=100,\n",
    "        seed=91418);\n",
    "print(\"Training took\", round(time.time()-start, 1), \"seconds.\")"
   ]
  },
  {
   "cell_type": "code",
   "execution_count": null,
   "metadata": {},
   "outputs": [],
   "source": [
    "eval_nn(conv_nn_logloss, X_test_perm, y_test)"
   ]
  },
  {
   "cell_type": "markdown",
   "metadata": {},
   "source": [
    "### Testing network without PyTorch layers "
   ]
  },
  {
   "cell_type": "code",
   "execution_count": null,
   "metadata": {},
   "outputs": [],
   "source": [
    "# %load_ext autoreload\n",
    "# %autoreload 2"
   ]
  },
  {
   "cell_type": "markdown",
   "metadata": {},
   "source": [
    "#### No Cython"
   ]
  },
  {
   "cell_type": "code",
   "execution_count": null,
   "metadata": {},
   "outputs": [],
   "source": [
    "pytorch = False\n",
    "cython = False"
   ]
  },
  {
   "cell_type": "code",
   "execution_count": null,
   "metadata": {},
   "outputs": [],
   "source": [
    "conv_nn_normal = NeuralNetwork(\n",
    "    layers=[Conv2D(param_size=3,\n",
    "                   out_channels=24,\n",
    "                   activation=ReLU(),\n",
    "                   pytorch=pytorch,\n",
    "                   cython=cython),\n",
    "            Conv2D(param_size=3,\n",
    "                   out_channels=30,\n",
    "                   activation=ReLU(),\n",
    "                   pytorch=pytorch,\n",
    "                   cython=cython,\n",
    "                   flatten=True),\n",
    "            Dense(neurons=10, \n",
    "                  activation=Sigmoid())],\n",
    "            loss = LogSoftmaxLoss(),\n",
    "            optimizer = SGD(0.1))"
   ]
  },
  {
   "cell_type": "code",
   "execution_count": null,
   "metadata": {},
   "outputs": [],
   "source": [
    "import time\n",
    "start = time.time()\n",
    "conv_nn_normal.fit(X_train_perm, y_train, X_test_perm, y_test,  \n",
    "        epochs=1,\n",
    "        eval_every=1,\n",
    "        batch_size=1,\n",
    "        seed=91418);\n",
    "print(\"Training took\", round(time.time()-start, 1), \"seconds.\")"
   ]
  },
  {
   "cell_type": "markdown",
   "metadata": {},
   "source": [
    "#### Cython"
   ]
  },
  {
   "cell_type": "code",
   "execution_count": null,
   "metadata": {},
   "outputs": [],
   "source": [
    "pytorch = False\n",
    "cython = True"
   ]
  },
  {
   "cell_type": "code",
   "execution_count": null,
   "metadata": {},
   "outputs": [],
   "source": [
    "conv_nn_cython = NeuralNetwork(\n",
    "    layers=[Conv2D(param_size=3,\n",
    "                   out_channels=24,\n",
    "                   activation=ReLU(),\n",
    "                   pytorch=pytorch,\n",
    "                   cython=cython),\n",
    "            Conv2D(param_size=3,\n",
    "                   out_channels=30,\n",
    "                   activation=ReLU(),\n",
    "                   pytorch=pytorch,\n",
    "                   cython=cython,\n",
    "                   flatten=True),\n",
    "            Dense(neurons=10, \n",
    "                  activation=Sigmoid())],\n",
    "            loss = LogSoftmaxLoss(),\n",
    "            optimizer = SGD(0.1))"
   ]
  },
  {
   "cell_type": "code",
   "execution_count": null,
   "metadata": {},
   "outputs": [],
   "source": [
    "import time\n",
    "start = time.time()\n",
    "conv_nn_cython.fit(X_train_perm, y_train, X_test_perm, y_test,  \n",
    "        epochs=1,\n",
    "        eval_every=1,\n",
    "        batch_size=1,\n",
    "        seed=91418);\n",
    "print(\"Training took\", round(time.time()-start, 1), \"seconds.\")"
   ]
  }
 ],
 "metadata": {
  "kernelspec": {
   "display_name": "Python 3",
   "language": "python",
   "name": "python3"
  },
  "language_info": {
   "codemirror_mode": {
    "name": "ipython",
    "version": 3
   },
   "file_extension": ".py",
   "mimetype": "text/x-python",
   "name": "python",
   "nbconvert_exporter": "python",
   "pygments_lexer": "ipython3",
   "version": "3.6.6"
  }
 },
 "nbformat": 4,
 "nbformat_minor": 2
}
