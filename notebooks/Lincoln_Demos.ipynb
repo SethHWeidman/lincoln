{
 "cells": [
  {
   "cell_type": "code",
   "execution_count": 13,
   "metadata": {},
   "outputs": [],
   "source": [
    "# Add Lincoln to system path\n",
    "import sys\n",
    "sys.path.append(\"/Users/seth/development/lincoln/\")"
   ]
  },
  {
   "cell_type": "code",
   "execution_count": 14,
   "metadata": {},
   "outputs": [],
   "source": [
    "from torch import Tensor\n",
    "import torch\n",
    "import numpy as np\n",
    "from numpy import random\n",
    "\n",
    "import typing\n",
    "from typing import List, Tuple"
   ]
  },
  {
   "cell_type": "markdown",
   "metadata": {},
   "source": [
    "# Demo"
   ]
  },
  {
   "cell_type": "markdown",
   "metadata": {},
   "source": [
    "Building a simple classifier on the breast cancer dataset."
   ]
  },
  {
   "cell_type": "markdown",
   "metadata": {},
   "source": [
    "## Data prep"
   ]
  },
  {
   "cell_type": "code",
   "execution_count": 15,
   "metadata": {},
   "outputs": [],
   "source": [
    "from sklearn.datasets import load_breast_cancer\n",
    "breast_cancer = load_breast_cancer()\n",
    "features = breast_cancer.data\n",
    "labels = breast_cancer.target\n",
    "feature_names = breast_cancer.feature_names"
   ]
  },
  {
   "cell_type": "code",
   "execution_count": 16,
   "metadata": {},
   "outputs": [],
   "source": [
    "from lincoln.utils import standardize\n",
    "\n",
    "features = standardize(features)"
   ]
  },
  {
   "cell_type": "code",
   "execution_count": 17,
   "metadata": {},
   "outputs": [],
   "source": [
    "import lincoln as lnc\n",
    "from lincoln.models import Classifier\n",
    "from lincoln.layers import Dense, Sequential\n",
    "from lincoln.losses import LogLoss\n",
    "from lincoln.optimizers import SGD\n",
    "from lincoln.layers import Layer"
   ]
  },
  {
   "cell_type": "markdown",
   "metadata": {},
   "source": [
    "### `Logistic` model "
   ]
  },
  {
   "cell_type": "code",
   "execution_count": 23,
   "metadata": {},
   "outputs": [
    {
     "name": "stdout",
     "output_type": "stream",
     "text": [
      "Epoch 6.. Train loss: 0.3753..  Accuracy: 98.243%\n",
      "Epoch 12.. Train loss: 0.0678..  Accuracy: 98.418%\n",
      "Epoch 17.. Train loss: 0.3173..  Accuracy: 98.594%\n",
      "Epoch 23.. Train loss: 0.1101..  Accuracy: 98.594%\n",
      "Epoch 28.. Train loss: 0.3180..  Accuracy: 98.594%\n",
      "Epoch 34.. Train loss: 0.1508..  Accuracy: 98.770%\n",
      "Epoch 39.. Train loss: 0.3312..  Accuracy: 98.770%\n",
      "Epoch 45.. Train loss: 0.1823..  Accuracy: 98.770%\n",
      "Epoch 50.. Train loss: 0.3557..  Accuracy: 98.770%\n",
      "Epoch 56.. Train loss: 0.2477..  Accuracy: 98.770%\n",
      "Epoch 62.. Train loss: 0.0445..  Accuracy: 98.770%\n",
      "Epoch 67.. Train loss: 0.2569..  Accuracy: 98.770%\n",
      "Epoch 73.. Train loss: 0.0870..  Accuracy: 98.770%\n",
      "Epoch 78.. Train loss: 0.2715..  Accuracy: 98.770%\n",
      "Epoch 84.. Train loss: 0.1270..  Accuracy: 98.770%\n",
      "Epoch 89.. Train loss: 0.2910..  Accuracy: 98.770%\n",
      "Epoch 95.. Train loss: 0.1587..  Accuracy: 98.770%\n",
      "Epoch 100.. Train loss: 0.3189..  Accuracy: 98.770%\n",
      "Epoch 106.. Train loss: 0.2316..  Accuracy: 98.770%\n",
      "Epoch 112.. Train loss: 0.0389..  Accuracy: 98.770%\n",
      "Epoch 117.. Train loss: 0.2421..  Accuracy: 98.770%\n",
      "Epoch 123.. Train loss: 0.0809..  Accuracy: 98.770%\n",
      "Epoch 128.. Train loss: 0.2565..  Accuracy: 98.770%\n",
      "Epoch 134.. Train loss: 0.1185..  Accuracy: 98.770%\n",
      "Epoch 139.. Train loss: 0.2756..  Accuracy: 98.770%\n",
      "Epoch 145.. Train loss: 0.1491..  Accuracy: 98.770%\n",
      "Epoch 150.. Train loss: 0.3025..  Accuracy: 98.770%\n",
      "Epoch 156.. Train loss: 0.2239..  Accuracy: 98.770%\n",
      "Epoch 162.. Train loss: 0.0363..  Accuracy: 98.770%\n",
      "Epoch 167.. Train loss: 0.2345..  Accuracy: 98.770%\n",
      "Epoch 173.. Train loss: 0.0782..  Accuracy: 98.770%\n",
      "Epoch 178.. Train loss: 0.2485..  Accuracy: 98.770%\n",
      "Epoch 184.. Train loss: 0.1141..  Accuracy: 98.770%\n",
      "Epoch 189.. Train loss: 0.2669..  Accuracy: 98.770%\n",
      "Epoch 195.. Train loss: 0.1438..  Accuracy: 98.770%\n",
      "Epoch 200.. Train loss: 0.2927..  Accuracy: 98.770%\n",
      "Epoch 206.. Train loss: 0.2191..  Accuracy: 98.770%\n",
      "Epoch 212.. Train loss: 0.0349..  Accuracy: 98.770%\n",
      "Epoch 217.. Train loss: 0.2295..  Accuracy: 98.770%\n",
      "Epoch 223.. Train loss: 0.0766..  Accuracy: 98.770%\n",
      "Epoch 228.. Train loss: 0.2431..  Accuracy: 98.770%\n",
      "Epoch 234.. Train loss: 0.1112..  Accuracy: 98.770%\n",
      "Epoch 239.. Train loss: 0.2610..  Accuracy: 98.770%\n",
      "Epoch 245.. Train loss: 0.1403..  Accuracy: 98.770%\n",
      "Epoch 250.. Train loss: 0.2859..  Accuracy: 98.770%\n",
      "Epoch 256.. Train loss: 0.2154..  Accuracy: 98.770%\n",
      "Epoch 262.. Train loss: 0.0341..  Accuracy: 98.770%\n",
      "Epoch 267.. Train loss: 0.2256..  Accuracy: 98.770%\n",
      "Epoch 273.. Train loss: 0.0755..  Accuracy: 98.770%\n",
      "Epoch 278.. Train loss: 0.2390..  Accuracy: 98.770%\n",
      "Epoch 284.. Train loss: 0.1090..  Accuracy: 98.770%\n",
      "Epoch 289.. Train loss: 0.2565..  Accuracy: 98.770%\n",
      "Epoch 295.. Train loss: 0.1376..  Accuracy: 98.770%\n",
      "Epoch 300.. Train loss: 0.2805..  Accuracy: 98.770%\n",
      "Epoch 306.. Train loss: 0.2124..  Accuracy: 98.770%\n",
      "Epoch 312.. Train loss: 0.0335..  Accuracy: 98.770%\n",
      "Epoch 317.. Train loss: 0.2225..  Accuracy: 98.770%\n",
      "Epoch 323.. Train loss: 0.0747..  Accuracy: 98.770%\n",
      "Epoch 328.. Train loss: 0.2357..  Accuracy: 98.770%\n",
      "Epoch 334.. Train loss: 0.1073..  Accuracy: 98.770%\n",
      "Epoch 339.. Train loss: 0.2529..  Accuracy: 98.770%\n",
      "Epoch 345.. Train loss: 0.1356..  Accuracy: 98.770%\n",
      "Epoch 350.. Train loss: 0.2762..  Accuracy: 98.770%\n",
      "Epoch 356.. Train loss: 0.2098..  Accuracy: 98.770%\n",
      "Epoch 362.. Train loss: 0.0331..  Accuracy: 98.770%\n",
      "Epoch 367.. Train loss: 0.2197..  Accuracy: 98.770%\n",
      "Epoch 373.. Train loss: 0.0740..  Accuracy: 98.770%\n",
      "Epoch 378.. Train loss: 0.2329..  Accuracy: 98.770%\n",
      "Epoch 384.. Train loss: 0.1058..  Accuracy: 98.770%\n",
      "Epoch 389.. Train loss: 0.2498..  Accuracy: 98.770%\n",
      "Epoch 395.. Train loss: 0.1338..  Accuracy: 98.770%\n",
      "Epoch 400.. Train loss: 0.2724..  Accuracy: 98.770%\n",
      "Epoch 406.. Train loss: 0.2075..  Accuracy: 98.770%\n",
      "Epoch 412.. Train loss: 0.0328..  Accuracy: 98.770%\n",
      "Epoch 417.. Train loss: 0.2173..  Accuracy: 98.770%\n",
      "Epoch 423.. Train loss: 0.0734..  Accuracy: 98.770%\n",
      "Epoch 428.. Train loss: 0.2304..  Accuracy: 98.770%\n",
      "Epoch 434.. Train loss: 0.1046..  Accuracy: 98.770%\n",
      "Epoch 439.. Train loss: 0.2471..  Accuracy: 98.770%\n",
      "Epoch 445.. Train loss: 0.1324..  Accuracy: 98.770%\n",
      "Epoch 450.. Train loss: 0.2692..  Accuracy: 98.770%\n",
      "Epoch 456.. Train loss: 0.2054..  Accuracy: 98.770%\n",
      "Epoch 462.. Train loss: 0.0325..  Accuracy: 98.770%\n",
      "Epoch 467.. Train loss: 0.2151..  Accuracy: 98.770%\n",
      "Epoch 473.. Train loss: 0.0729..  Accuracy: 98.770%\n",
      "Epoch 478.. Train loss: 0.2281..  Accuracy: 98.770%\n",
      "Epoch 484.. Train loss: 0.1034..  Accuracy: 98.770%\n",
      "Epoch 489.. Train loss: 0.2448..  Accuracy: 98.770%\n",
      "Epoch 495.. Train loss: 0.1311..  Accuracy: 98.770%\n",
      "Epoch 500.. Train loss: 0.2663..  Accuracy: 98.770%\n"
     ]
    }
   ],
   "source": [
    "network = Sequential(\n",
    "            Dense(1))\n",
    "model = Logistic(network, loss=LogLoss(network), optimizer=SGD(network))\n",
    "model.fit(features, labels, \n",
    "          epochs=500, print_every=100,\n",
    "          batch_size=32)"
   ]
  },
  {
   "cell_type": "markdown",
   "metadata": {},
   "source": [
    "**TODO:** `print_every` makes no sense."
   ]
  },
  {
   "cell_type": "code",
   "execution_count": 10,
   "metadata": {},
   "outputs": [],
   "source": [
    "from lincoln.models import Logistic\n",
    "from lincoln.layers import LogSigmoid\n",
    "from lincoln.losses import LogSigmoidLoss"
   ]
  },
  {
   "cell_type": "code",
   "execution_count": 22,
   "metadata": {},
   "outputs": [
    {
     "name": "stdout",
     "output_type": "stream",
     "text": [
      "Epoch 20.. Train loss: 0.8149..  Accuracy: 96.485%\n",
      "Epoch 40.. Train loss: 0.4824..  Accuracy: 98.243%\n",
      "Epoch 60.. Train loss: 0.4005..  Accuracy: 98.594%\n",
      "Epoch 80.. Train loss: 0.3616..  Accuracy: 98.594%\n",
      "Epoch 100.. Train loss: 0.3380..  Accuracy: 98.594%\n",
      "Epoch 120.. Train loss: 0.3219..  Accuracy: 98.594%\n",
      "Epoch 140.. Train loss: 0.3101..  Accuracy: 98.594%\n",
      "Epoch 160.. Train loss: 0.3009..  Accuracy: 98.594%\n",
      "Epoch 180.. Train loss: 0.2935..  Accuracy: 98.770%\n",
      "Epoch 200.. Train loss: 0.2875..  Accuracy: 98.770%\n",
      "Epoch 220.. Train loss: 0.2823..  Accuracy: 98.770%\n",
      "Epoch 240.. Train loss: 0.2778..  Accuracy: 98.770%\n",
      "Epoch 260.. Train loss: 0.2739..  Accuracy: 98.770%\n",
      "Epoch 280.. Train loss: 0.2703..  Accuracy: 98.770%\n",
      "Epoch 300.. Train loss: 0.2670..  Accuracy: 98.770%\n",
      "Epoch 320.. Train loss: 0.2640..  Accuracy: 98.770%\n",
      "Epoch 340.. Train loss: 0.2611..  Accuracy: 98.770%\n",
      "Epoch 360.. Train loss: 0.2584..  Accuracy: 98.770%\n",
      "Epoch 380.. Train loss: 0.2558..  Accuracy: 98.770%\n",
      "Epoch 400.. Train loss: 0.2533..  Accuracy: 98.770%\n",
      "Epoch 420.. Train loss: 0.2509..  Accuracy: 98.946%\n",
      "Epoch 440.. Train loss: 0.2485..  Accuracy: 98.946%\n",
      "Epoch 460.. Train loss: 0.2462..  Accuracy: 98.946%\n",
      "Epoch 480.. Train loss: 0.2439..  Accuracy: 98.946%\n",
      "Epoch 500.. Train loss: 0.2417..  Accuracy: 98.946%\n"
     ]
    }
   ],
   "source": [
    "network = lnc.Sequential(\n",
    "            lnc.layers.Dense(10),\n",
    "            lnc.layers.Dense(1, activation=LogSigmoid()),\n",
    "            )\n",
    "model = Logistic(network,\n",
    "                 loss=LogSigmoidLoss(network))\n",
    "model.fit(features, labels, batch_size=128, log_ps=True,\n",
    "          epochs=500, print_every=100)"
   ]
  },
  {
   "cell_type": "markdown",
   "metadata": {},
   "source": [
    "**TODO:** `print_every` not working."
   ]
  }
 ],
 "metadata": {
  "kernelspec": {
   "display_name": "Python 3",
   "language": "python",
   "name": "python3"
  },
  "language_info": {
   "codemirror_mode": {
    "name": "ipython",
    "version": 3
   },
   "file_extension": ".py",
   "mimetype": "text/x-python",
   "name": "python",
   "nbconvert_exporter": "python",
   "pygments_lexer": "ipython3",
   "version": "3.6.6"
  }
 },
 "nbformat": 4,
 "nbformat_minor": 2
}
