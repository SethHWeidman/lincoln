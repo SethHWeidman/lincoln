{
 "cells": [
  {
   "cell_type": "code",
   "execution_count": 1,
   "metadata": {},
   "outputs": [],
   "source": [
    "# ignore warnings\n",
    "import warnings\n",
    "warnings.filterwarnings('ignore')\n",
    "\n",
    "# Add Lincoln to system path\n",
    "import sys\n",
    "sys.path.append(\"/Users/seth/development/lincoln/\")"
   ]
  },
  {
   "cell_type": "code",
   "execution_count": 1,
   "metadata": {},
   "outputs": [],
   "source": [
    "%load_ext autoreload\n",
    "%autoreload 2"
   ]
  },
  {
   "cell_type": "code",
   "execution_count": 3,
   "metadata": {},
   "outputs": [],
   "source": [
    "import torch\n",
    "from torch import Tensor\n",
    "\n",
    "import lincoln\n",
    "from lincoln.layers import Dense\n",
    "from lincoln.losses import LogSoftmaxLoss, LogSigmoidLoss, MeanSquaredError\n",
    "from lincoln.optimizers import SGD\n",
    "from lincoln.operations.activations import Sigmoid, LogSigmoid\n",
    "from lincoln.network import NeuralNetwork"
   ]
  },
  {
   "cell_type": "markdown",
   "metadata": {},
   "source": [
    "## Regression network"
   ]
  },
  {
   "cell_type": "code",
   "execution_count": 4,
   "metadata": {},
   "outputs": [],
   "source": [
    "from sklearn.datasets import load_boston\n",
    "\n",
    "boston = load_boston()\n",
    "\n",
    "data = boston.data\n",
    "target = boston.target\n",
    "features = boston.feature_names\n",
    "\n",
    "from sklearn.preprocessing import StandardScaler\n",
    "s = StandardScaler()\n",
    "data = s.fit_transform(data)\n",
    "\n",
    "from sklearn.model_selection import train_test_split\n",
    "X_train, X_test, y_train, y_test = train_test_split(data, target, test_size=0.3, random_state=80718)\n",
    "\n",
    "X_train, X_test, y_train, y_test = Tensor(X_train), Tensor(X_test), Tensor(y_train), Tensor(y_test)"
   ]
  },
  {
   "cell_type": "markdown",
   "metadata": {},
   "source": [
    "## Regression models"
   ]
  },
  {
   "cell_type": "code",
   "execution_count": 5,
   "metadata": {},
   "outputs": [],
   "source": [
    "from lincoln.losses import MeanSquaredError\n",
    "from lincoln.optimizers import SGD\n",
    "\n",
    "from lincoln.operations.activations import Sigmoid, LinearAct"
   ]
  },
  {
   "cell_type": "markdown",
   "metadata": {},
   "source": [
    "#### Linear Regression"
   ]
  },
  {
   "cell_type": "code",
   "execution_count": 6,
   "metadata": {},
   "outputs": [],
   "source": [
    "from lincoln.train import Trainer"
   ]
  },
  {
   "cell_type": "code",
   "execution_count": 7,
   "metadata": {},
   "outputs": [],
   "source": [
    "lr = NeuralNetwork(\n",
    "    layers=[Dense(neurons=1, \n",
    "                  activation=LinearAct())], \n",
    "            loss = MeanSquaredError())\n",
    "\n",
    "trainer = Trainer(lr, SGD())"
   ]
  },
  {
   "cell_type": "code",
   "execution_count": 8,
   "metadata": {},
   "outputs": [
    {
     "name": "stdout",
     "output_type": "stream",
     "text": [
      "Validation loss after 1 epochs is 6033.821\n",
      "Validation loss after 2 epochs is 4218.505\n",
      "Validation loss after 3 epochs is 4104.863\n",
      "Validation loss after 4 epochs is 4070.815\n",
      "Validation loss after 5 epochs is 4214.715\n",
      "Validation loss after 6 epochs is 4000.082\n",
      "Validation loss after 7 epochs is 3891.465\n",
      "Validation loss after 8 epochs is 4202.666\n",
      "Validation loss after 9 epochs is 3933.137\n",
      "Validation loss after 10 epochs is 4886.304\n"
     ]
    }
   ],
   "source": [
    "trainer.fit(X_train, y_train, X_test, y_test,  \n",
    "       epochs = 10,\n",
    "       eval_every = 1,\n",
    "       seed=10818,\n",
    "       single_output=True);"
   ]
  },
  {
   "cell_type": "code",
   "execution_count": 9,
   "metadata": {},
   "outputs": [],
   "source": [
    "def mae(y_true, y_pred):\n",
    "    return round(torch.mean(torch.abs(y_true - y_pred)).item(), 4)\n",
    "\n",
    "def mse(y_true, y_pred):\n",
    "    return round(torch.mean(torch.pow(y_true - y_pred, 2)).item(), 4)"
   ]
  },
  {
   "cell_type": "code",
   "execution_count": 1,
   "metadata": {},
   "outputs": [
    {
     "ename": "NameError",
     "evalue": "name 'NeuralNetwork' is not defined",
     "output_type": "error",
     "traceback": [
      "\u001b[0;31m---------------------------------------------------------------------------\u001b[0m",
      "\u001b[0;31mNameError\u001b[0m                                 Traceback (most recent call last)",
      "\u001b[0;32m<ipython-input-1-a7389fbd0271>\u001b[0m in \u001b[0;36m<module>\u001b[0;34m()\u001b[0m\n\u001b[0;32m----> 1\u001b[0;31m def eval_regression_model(lr: NeuralNetwork, \n\u001b[0m\u001b[1;32m      2\u001b[0m                           \u001b[0mX_test\u001b[0m\u001b[0;34m:\u001b[0m \u001b[0mTensor\u001b[0m\u001b[0;34m,\u001b[0m\u001b[0;34m\u001b[0m\u001b[0m\n\u001b[1;32m      3\u001b[0m                           y_test: Tensor):\n\u001b[1;32m      4\u001b[0m     \u001b[0mpreds\u001b[0m \u001b[0;34m=\u001b[0m \u001b[0mlr\u001b[0m\u001b[0;34m.\u001b[0m\u001b[0mforward\u001b[0m\u001b[0;34m(\u001b[0m\u001b[0mX_test\u001b[0m\u001b[0;34m,\u001b[0m \u001b[0minference\u001b[0m\u001b[0;34m=\u001b[0m\u001b[0;32mTrue\u001b[0m\u001b[0;34m)\u001b[0m\u001b[0;34m\u001b[0m\u001b[0m\n\u001b[1;32m      5\u001b[0m     \u001b[0mpreds\u001b[0m \u001b[0;34m=\u001b[0m \u001b[0mpreds\u001b[0m\u001b[0;34m.\u001b[0m\u001b[0mreshape\u001b[0m\u001b[0;34m(\u001b[0m\u001b[0mpreds\u001b[0m\u001b[0;34m.\u001b[0m\u001b[0mshape\u001b[0m\u001b[0;34m[\u001b[0m\u001b[0;36m0\u001b[0m\u001b[0;34m]\u001b[0m\u001b[0;34m)\u001b[0m\u001b[0;34m\u001b[0m\u001b[0m\n",
      "\u001b[0;31mNameError\u001b[0m: name 'NeuralNetwork' is not defined"
     ]
    }
   ],
   "source": [
    "def eval_regression_model(lr: NeuralNetwork, \n",
    "                          X_test: Tensor, \n",
    "                          y_test: Tensor):\n",
    "    preds = lr.forward(X_test)\n",
    "    preds = preds.reshape(preds.shape[0])\n",
    "    return mae(preds, y_test), mse(preds, y_test)"
   ]
  },
  {
   "cell_type": "code",
   "execution_count": 2,
   "metadata": {},
   "outputs": [
    {
     "ename": "NameError",
     "evalue": "name 'eval_regression_model' is not defined",
     "output_type": "error",
     "traceback": [
      "\u001b[0;31m---------------------------------------------------------------------------\u001b[0m",
      "\u001b[0;31mNameError\u001b[0m                                 Traceback (most recent call last)",
      "\u001b[0;32m<ipython-input-2-d5a3898fbb07>\u001b[0m in \u001b[0;36m<module>\u001b[0;34m()\u001b[0m\n\u001b[0;32m----> 1\u001b[0;31m \u001b[0meval_regression_model\u001b[0m\u001b[0;34m(\u001b[0m\u001b[0mlr\u001b[0m\u001b[0;34m,\u001b[0m \u001b[0mX_test\u001b[0m\u001b[0;34m,\u001b[0m \u001b[0my_test\u001b[0m\u001b[0;34m)\u001b[0m\u001b[0;34m\u001b[0m\u001b[0m\n\u001b[0m",
      "\u001b[0;31mNameError\u001b[0m: name 'eval_regression_model' is not defined"
     ]
    }
   ],
   "source": [
    "eval_regression_model(lr, X_test, y_test)"
   ]
  },
  {
   "cell_type": "markdown",
   "metadata": {},
   "source": [
    "Works!"
   ]
  },
  {
   "cell_type": "markdown",
   "metadata": {},
   "source": [
    "#### Testing momentum"
   ]
  },
  {
   "cell_type": "code",
   "execution_count": 12,
   "metadata": {},
   "outputs": [],
   "source": [
    "from lincoln.optimizers import SGDMomentum"
   ]
  },
  {
   "cell_type": "code",
   "execution_count": 13,
   "metadata": {},
   "outputs": [
    {
     "name": "stdout",
     "output_type": "stream",
     "text": [
      "Validation loss after 10 epochs is 4166.400\n",
      "Validation loss after 20 epochs is 4087.505\n",
      "Validation loss after 30 epochs is 3822.435\n",
      "Validation loss after 40 epochs is 3792.870\n",
      "Validation loss after 50 epochs is 3980.900\n"
     ]
    },
    {
     "data": {
      "text/plain": [
       "(3.6296, 26.1901)"
      ]
     },
     "execution_count": 13,
     "metadata": {},
     "output_type": "execute_result"
    }
   ],
   "source": [
    "lr = NeuralNetwork(\n",
    "    layers=[Dense(neurons=1, \n",
    "                  activation=LinearAct())], \n",
    "            loss = MeanSquaredError())\n",
    "trainer = Trainer(lr, SGD(lr=0.001))\n",
    "\n",
    "trainer.fit(X_train, y_train, X_test, y_test,  \n",
    "       epochs = 50,\n",
    "       eval_every = 10,\n",
    "       seed=10818,\n",
    "       single_output=True);\n",
    "eval_regression_model(lr, X_test, y_test)"
   ]
  },
  {
   "cell_type": "markdown",
   "metadata": {},
   "source": [
    "#### \"Neural Network\" Regression"
   ]
  },
  {
   "cell_type": "code",
   "execution_count": 14,
   "metadata": {},
   "outputs": [
    {
     "name": "stdout",
     "output_type": "stream",
     "text": [
      "Validation loss after 10 epochs is 2918.497\n",
      "Validation loss after 20 epochs is 2351.871\n",
      "Validation loss after 30 epochs is 2177.422\n",
      "Validation loss after 40 epochs is 2105.777\n",
      "Validation loss after 50 epochs is 2126.681\n"
     ]
    }
   ],
   "source": [
    "nn = NeuralNetwork(\n",
    "    layers=[Dense(neurons=13, \n",
    "                  activation=Sigmoid()),\n",
    "            Dense(neurons=1, \n",
    "                  activation=LinearAct())], \n",
    "            loss = MeanSquaredError())\n",
    "\n",
    "trainer = Trainer(nn, SGD(lr=0.001))\n",
    "trainer.fit(X_train, y_train, X_test, y_test,  \n",
    "       epochs = 50,\n",
    "       eval_every = 10,\n",
    "       seed=10818,\n",
    "       single_output=True);"
   ]
  },
  {
   "cell_type": "code",
   "execution_count": 15,
   "metadata": {},
   "outputs": [
    {
     "data": {
      "text/plain": [
       "(2.3128, 13.9913)"
      ]
     },
     "execution_count": 15,
     "metadata": {},
     "output_type": "execute_result"
    }
   ],
   "source": [
    "eval_regression_model(nn, X_test, y_test)"
   ]
  },
  {
   "cell_type": "markdown",
   "metadata": {},
   "source": [
    "Works!"
   ]
  },
  {
   "cell_type": "markdown",
   "metadata": {},
   "source": [
    "#### \"Deep Learning\" Regression"
   ]
  },
  {
   "cell_type": "markdown",
   "metadata": {},
   "source": [
    "#### Without momentum"
   ]
  },
  {
   "cell_type": "code",
   "execution_count": 16,
   "metadata": {},
   "outputs": [
    {
     "name": "stdout",
     "output_type": "stream",
     "text": [
      "Validation loss after 10 epochs is 2830.598\n",
      "Validation loss after 20 epochs is 2434.323\n",
      "Validation loss after 30 epochs is 2282.844\n",
      "Validation loss after 40 epochs is 1921.820\n",
      "Validation loss after 50 epochs is 1715.640\n"
     ]
    }
   ],
   "source": [
    "dl = NeuralNetwork(\n",
    "    layers=[Dense(neurons=13, \n",
    "                  activation=Sigmoid()),\n",
    "            Dense(neurons=7, \n",
    "                  activation=Sigmoid()),\n",
    "            Dense(neurons=1, \n",
    "                  activation=LinearAct())], \n",
    "            loss = MeanSquaredError())\n",
    "\n",
    "trainer = Trainer(dl, SGD(lr=0.001))\n",
    "trainer.fit(X_train, y_train, X_test, y_test,  \n",
    "       epochs = 50,\n",
    "       eval_every = 10,\n",
    "       seed=10818,\n",
    "       single_output=True);"
   ]
  },
  {
   "cell_type": "code",
   "execution_count": 17,
   "metadata": {},
   "outputs": [
    {
     "data": {
      "text/plain": [
       "(2.1504, 11.2871)"
      ]
     },
     "execution_count": 17,
     "metadata": {},
     "output_type": "execute_result"
    }
   ],
   "source": [
    "eval_regression_model(dl, X_test, y_test)"
   ]
  },
  {
   "cell_type": "markdown",
   "metadata": {},
   "source": [
    "#### With momentum"
   ]
  },
  {
   "cell_type": "code",
   "execution_count": 18,
   "metadata": {},
   "outputs": [
    {
     "name": "stdout",
     "output_type": "stream",
     "text": [
      "Validation loss after 1 epochs is 13593.652\n",
      "Validation loss after 2 epochs is 10841.587\n",
      "Validation loss after 3 epochs is 7182.547\n",
      "Validation loss after 4 epochs is 5510.923\n",
      "Validation loss after 5 epochs is 4674.278\n",
      "Validation loss after 6 epochs is 4593.970\n",
      "Validation loss after 7 epochs is 3753.076\n",
      "Validation loss after 8 epochs is 3462.191\n",
      "Validation loss after 9 epochs is 3359.814\n",
      "Validation loss after 10 epochs is 3106.689\n",
      "Validation loss after 11 epochs is 3149.418\n",
      "Validation loss after 12 epochs is 3188.762\n",
      "Validation loss after 13 epochs is 2995.000\n",
      "Validation loss after 14 epochs is 3198.239\n",
      "Validation loss after 15 epochs is 3468.489\n",
      "Validation loss after 16 epochs is 2873.373\n",
      "Validation loss after 17 epochs is 3151.231\n",
      "Validation loss after 18 epochs is 3022.445\n",
      "Validation loss after 19 epochs is 2965.600\n",
      "Validation loss after 20 epochs is 2879.256\n",
      "Validation loss after 21 epochs is 2641.998\n",
      "Validation loss after 22 epochs is 3111.276\n",
      "Validation loss after 23 epochs is 2702.454\n",
      "Validation loss after 24 epochs is 2913.993\n",
      "Validation loss after 25 epochs is 3192.377\n",
      "Validation loss after 26 epochs is 3090.252\n",
      "Validation loss after 27 epochs is 2629.126\n",
      "Validation loss after 28 epochs is 2708.608\n",
      "Validation loss after 29 epochs is 2488.304\n",
      "Validation loss after 30 epochs is 2714.708\n",
      "Validation loss after 31 epochs is 3619.395\n",
      "Validation loss after 32 epochs is 2432.167\n",
      "Validation loss after 33 epochs is 2543.755\n",
      "Validation loss after 34 epochs is 2488.519\n",
      "Validation loss after 35 epochs is 2597.171\n",
      "Validation loss after 36 epochs is 2521.297\n",
      "Validation loss after 37 epochs is 2206.182\n",
      "Validation loss after 38 epochs is 2592.980\n",
      "Validation loss after 39 epochs is 3049.195\n",
      "Validation loss after 40 epochs is 2583.749\n",
      "Validation loss after 41 epochs is 2487.810\n",
      "Validation loss after 42 epochs is 2486.479\n",
      "Validation loss after 43 epochs is 2103.488\n",
      "Validation loss after 44 epochs is 2388.858\n",
      "Validation loss after 45 epochs is 2116.531\n",
      "Validation loss after 46 epochs is 2603.498\n",
      "Validation loss after 47 epochs is 2046.582\n",
      "Validation loss after 48 epochs is 2029.382\n",
      "Validation loss after 49 epochs is 2026.211\n",
      "Validation loss after 50 epochs is 2025.223\n"
     ]
    }
   ],
   "source": [
    "dl = NeuralNetwork(\n",
    "    layers=[Dense(neurons=13, \n",
    "                  activation=Sigmoid()),\n",
    "            Dense(neurons=4, \n",
    "                  activation=Sigmoid()),\n",
    "            Dense(neurons=1, \n",
    "                  activation=LinearAct())], \n",
    "            loss = MeanSquaredError())\n",
    "\n",
    "trainer = Trainer(dl, SGDMomentum(lr=0.001,\n",
    "                                  momentum=0.1))\n",
    "trainer.fit(X_train, y_train, X_test, y_test,  \n",
    "       epochs = 50,\n",
    "       eval_every = 1,\n",
    "       seed=10818,\n",
    "       single_output=True);"
   ]
  },
  {
   "cell_type": "code",
   "execution_count": 19,
   "metadata": {},
   "outputs": [
    {
     "data": {
      "text/plain": [
       "(2.3293, 13.3238)"
      ]
     },
     "execution_count": 19,
     "metadata": {},
     "output_type": "execute_result"
    }
   ],
   "source": [
    "eval_regression_model(dl, X_test, y_test)"
   ]
  },
  {
   "cell_type": "code",
   "execution_count": 20,
   "metadata": {
    "scrolled": true
   },
   "outputs": [
    {
     "name": "stdout",
     "output_type": "stream",
     "text": [
      "Validation loss after 1 epochs is 5917.639\n",
      "Validation loss after 2 epochs is 5294.524\n",
      "Validation loss after 3 epochs is 6038.587\n",
      "Validation loss after 4 epochs is 6101.629\n",
      "Validation loss after 5 epochs is 5729.192\n",
      "Validation loss after 6 epochs is 6469.512\n",
      "Validation loss after 7 epochs is 4898.928\n",
      "Validation loss after 8 epochs is 6898.198\n",
      "Validation loss after 9 epochs is 6214.041\n",
      "Validation loss after 10 epochs is 8169.327\n"
     ]
    }
   ],
   "source": [
    "dl = NeuralNetwork(\n",
    "    layers=[Dense(neurons=13, \n",
    "                  activation=Sigmoid()),\n",
    "            Dense(neurons=13, \n",
    "                  activation=Sigmoid()),\n",
    "            Dense(neurons=1, \n",
    "                  activation=LinearAct())], \n",
    "            loss = MeanSquaredError())\n",
    "\n",
    "trainer2 = Trainer(dl, SGDMomentum())\n",
    "trainer2.fit(X_train, y_train, X_test, y_test,  \n",
    "       epochs = 10,\n",
    "       eval_every = 1,\n",
    "       seed=10818,\n",
    "       single_output=True);"
   ]
  },
  {
   "cell_type": "code",
   "execution_count": 21,
   "metadata": {},
   "outputs": [
    {
     "data": {
      "text/plain": [
       "(5.0019, 53.7456)"
      ]
     },
     "execution_count": 21,
     "metadata": {},
     "output_type": "execute_result"
    }
   ],
   "source": [
    "eval_regression_model(dl, X_test, y_test)"
   ]
  },
  {
   "cell_type": "markdown",
   "metadata": {},
   "source": [
    "Works!"
   ]
  },
  {
   "cell_type": "markdown",
   "metadata": {},
   "source": [
    "## Classification models"
   ]
  },
  {
   "cell_type": "markdown",
   "metadata": {},
   "source": [
    "#### Data prep (SciKit Learn)"
   ]
  },
  {
   "cell_type": "code",
   "execution_count": 22,
   "metadata": {},
   "outputs": [],
   "source": [
    "from sklearn.datasets import load_breast_cancer\n",
    "breast_cancer = load_breast_cancer()\n",
    "data = breast_cancer.data\n",
    "target = breast_cancer.target"
   ]
  },
  {
   "cell_type": "code",
   "execution_count": 23,
   "metadata": {},
   "outputs": [],
   "source": [
    "from sklearn.preprocessing import StandardScaler\n",
    "s = StandardScaler()\n",
    "data = s.fit_transform(data)\n",
    "\n",
    "from sklearn.model_selection import train_test_split\n",
    "X_train, X_test, y_train, y_test = train_test_split(data, target, test_size=0.3, random_state=82618)\n",
    "\n",
    "X_train, X_test, y_train, y_test = Tensor(X_train), Tensor(X_test), Tensor(y_train), Tensor(y_test)"
   ]
  },
  {
   "cell_type": "markdown",
   "metadata": {},
   "source": [
    "#### \"`LogSigmoid`\" Logistic Regression"
   ]
  },
  {
   "cell_type": "code",
   "execution_count": 24,
   "metadata": {
    "scrolled": true
   },
   "outputs": [
    {
     "name": "stdout",
     "output_type": "stream",
     "text": [
      "Validation loss after 10 epochs is 25.874\n",
      "Validation loss after 20 epochs is 21.193\n",
      "Validation loss after 30 epochs is 19.611\n",
      "Validation loss after 40 epochs is 18.724\n",
      "Validation loss after 50 epochs is 18.189\n",
      "Validation loss after 60 epochs is 17.802\n",
      "Validation loss after 70 epochs is 17.536\n",
      "Validation loss after 80 epochs is 17.347\n",
      "Validation loss after 90 epochs is 17.219\n",
      "Validation loss after 100 epochs is 17.125\n"
     ]
    }
   ],
   "source": [
    "logr = NeuralNetwork(\n",
    "    layers=[Dense(neurons=1, \n",
    "                  activation=LogSigmoid())],\n",
    "            loss = LogSigmoidLoss())\n",
    "\n",
    "trainer = Trainer(logr, SGD())\n",
    "trainer.fit(X_train, y_train, X_test, y_test,  \n",
    "       epochs = 100,\n",
    "       eval_every = 10,\n",
    "       seed=82618,\n",
    "       single_output=True);"
   ]
  },
  {
   "cell_type": "code",
   "execution_count": 25,
   "metadata": {},
   "outputs": [
    {
     "name": "stdout",
     "output_type": "stream",
     "text": [
      "Validation loss after 10 epochs is 14.569\n",
      "Validation loss after 20 epochs is 10.926\n",
      "Validation loss after 30 epochs is 8.928\n",
      "Validation loss after 40 epochs is 7.602\n",
      "Validation loss after 50 epochs is 6.771\n",
      "Validation loss after 60 epochs is 6.281\n",
      "Validation loss after 70 epochs is 5.944\n",
      "Validation loss after 80 epochs is 5.678\n",
      "Validation loss after 90 epochs is 5.458\n",
      "Validation loss after 100 epochs is 5.265\n"
     ]
    }
   ],
   "source": [
    "logr_mse = NeuralNetwork(\n",
    "    layers=[Dense(neurons=1, \n",
    "                  activation=Sigmoid())],\n",
    "            loss = MeanSquaredError())\n",
    "\n",
    "trainer = Trainer(logr_mse, SGD())\n",
    "trainer.fit(X_train, y_train, X_test, y_test,  \n",
    "       epochs = 100,\n",
    "       eval_every = 10,\n",
    "       seed=82618,\n",
    "       single_output=True);"
   ]
  },
  {
   "cell_type": "code",
   "execution_count": 26,
   "metadata": {},
   "outputs": [],
   "source": [
    "def accuracy(y_true, y_pred):\n",
    "    return round(torch.sum(torch.eq(y_true, y_pred)).item() / y_true.size()[0], 4)"
   ]
  },
  {
   "cell_type": "code",
   "execution_count": 27,
   "metadata": {},
   "outputs": [],
   "source": [
    "def eval_classification_model(model: NeuralNetwork, \n",
    "                              X_test: Tensor, \n",
    "                              y_test: Tensor,\n",
    "                              log_probs: bool = False):\n",
    "    preds = model.forward(X_test)\n",
    "    if log_probs:\n",
    "        preds = torch.exp(preds)\n",
    "    preds = preds > 0.5\n",
    "    preds = preds.reshape(preds.shape[0]).type(torch.FloatTensor)  \n",
    "    return accuracy(preds, y_test)"
   ]
  },
  {
   "cell_type": "code",
   "execution_count": 28,
   "metadata": {
    "scrolled": true
   },
   "outputs": [
    {
     "data": {
      "text/plain": [
       "0.9825"
      ]
     },
     "execution_count": 28,
     "metadata": {},
     "output_type": "execute_result"
    }
   ],
   "source": [
    "eval_classification_model(logr, X_test, y_test, log_probs=True)"
   ]
  },
  {
   "cell_type": "code",
   "execution_count": 29,
   "metadata": {},
   "outputs": [
    {
     "data": {
      "text/plain": [
       "0.9766"
      ]
     },
     "execution_count": 29,
     "metadata": {},
     "output_type": "execute_result"
    }
   ],
   "source": [
    "eval_classification_model(logr_mse, X_test, y_test)"
   ]
  },
  {
   "cell_type": "markdown",
   "metadata": {},
   "source": [
    "`LogSoftmaxLoss` works!"
   ]
  },
  {
   "cell_type": "code",
   "execution_count": 30,
   "metadata": {},
   "outputs": [
    {
     "name": "stdout",
     "output_type": "stream",
     "text": [
      "Validation loss after 10 epochs is 5.762\n",
      "Validation loss after 20 epochs is 3.738\n",
      "Validation loss after 30 epochs is 3.522\n",
      "Validation loss after 40 epochs is 3.446\n",
      "Validation loss after 50 epochs is 3.423\n",
      "Validation loss after 60 epochs is 3.698\n",
      "Validation loss after 70 epochs is 3.936\n",
      "Validation loss after 80 epochs is 4.131\n",
      "Validation loss after 90 epochs is 4.260\n",
      "Validation loss after 100 epochs is 4.342\n"
     ]
    }
   ],
   "source": [
    "logr_mse = NeuralNetwork(\n",
    "    layers=[Dense(neurons=1, \n",
    "                  activation=Sigmoid())],\n",
    "            loss = MeanSquaredError())\n",
    "trainer_m = Trainer(logr_mse, SGDMomentum())\n",
    "trainer_m.fit(X_train, y_train, X_test, y_test,  \n",
    "       epochs = 100,\n",
    "       eval_every = 10,\n",
    "       seed=82618,\n",
    "       single_output=True);"
   ]
  },
  {
   "cell_type": "code",
   "execution_count": 31,
   "metadata": {},
   "outputs": [
    {
     "data": {
      "text/plain": [
       "0.9708"
      ]
     },
     "execution_count": 31,
     "metadata": {},
     "output_type": "execute_result"
    }
   ],
   "source": [
    "eval_classification_model(logr_mse, X_test, y_test)"
   ]
  },
  {
   "cell_type": "markdown",
   "metadata": {},
   "source": [
    "#### \"Neural Network\" Logistic Regression"
   ]
  },
  {
   "cell_type": "code",
   "execution_count": 32,
   "metadata": {},
   "outputs": [
    {
     "name": "stdout",
     "output_type": "stream",
     "text": [
      "Validation loss after 10 epochs is 5.475\n",
      "Validation loss after 20 epochs is 4.830\n",
      "Validation loss after 30 epochs is 4.498\n",
      "Validation loss after 40 epochs is 4.313\n",
      "Validation loss after 50 epochs is 4.204\n",
      "Validation loss after 60 epochs is 4.092\n",
      "Validation loss after 70 epochs is 4.009\n",
      "Validation loss after 80 epochs is 3.958\n",
      "Validation loss after 90 epochs is 3.937\n",
      "Validation loss after 100 epochs is 3.905\n"
     ]
    }
   ],
   "source": [
    "logr_nn = NeuralNetwork(\n",
    "    layers=[Dense(neurons=30, \n",
    "                  activation=Sigmoid()),\n",
    "            Dense(neurons=1, \n",
    "                  activation=Sigmoid())],\n",
    "            loss = MeanSquaredError())\n",
    "trainer_m = Trainer(logr_nn, SGDMomentum())\n",
    "trainer_m.fit(X_train, y_train, X_test, y_test,  \n",
    "       epochs = 100,\n",
    "       eval_every = 10,\n",
    "       seed=10818,\n",
    "       single_output=True);"
   ]
  },
  {
   "cell_type": "code",
   "execution_count": 33,
   "metadata": {},
   "outputs": [
    {
     "data": {
      "text/plain": [
       "0.9766"
      ]
     },
     "execution_count": 33,
     "metadata": {},
     "output_type": "execute_result"
    }
   ],
   "source": [
    "eval_classification_model(logr_nn, X_test, y_test)"
   ]
  },
  {
   "cell_type": "markdown",
   "metadata": {},
   "source": [
    "**Works!**"
   ]
  }
 ],
 "metadata": {
  "kernelspec": {
   "display_name": "Python 3",
   "language": "python",
   "name": "python3"
  },
  "language_info": {
   "codemirror_mode": {
    "name": "ipython",
    "version": 3
   },
   "file_extension": ".py",
   "mimetype": "text/x-python",
   "name": "python",
   "nbconvert_exporter": "python",
   "pygments_lexer": "ipython3",
   "version": "3.6.6"
  }
 },
 "nbformat": 4,
 "nbformat_minor": 2
}
