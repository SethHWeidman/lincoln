{
 "cells": [
  {
   "cell_type": "markdown",
   "metadata": {},
   "source": [
    "### History"
   ]
  },
  {
   "cell_type": "markdown",
   "metadata": {},
   "source": [
    "Learns models using the autograd framework."
   ]
  },
  {
   "cell_type": "code",
   "execution_count": 5,
   "metadata": {},
   "outputs": [],
   "source": [
    "# Add Lincoln to system path\n",
    "import sys\n",
    "sys.path.append(\"/Users/seth/development/lincoln/\")\n",
    "\n",
    "import numpy as np\n",
    "np.set_printoptions(precision=4)\n",
    "\n",
    "import torch\n",
    "\n",
    "from typing import List, Callable, Dict, Tuple\n",
    "\n",
    "from lincoln.autograd.tensor import Tensor\n",
    "from lincoln.autograd.layer import Dense\n",
    "from lincoln.autograd.model import Model\n",
    "from lincoln.autograd.param import Parameter\n",
    "from lincoln.autograd.optim import Optim, SGD\n",
    "from lincoln.autograd.train import Trainer\n",
    "from lincoln.autograd.activations import sigmoid, tanh, linear\n",
    "\n",
    "from lincoln.utils import permute_data"
   ]
  },
  {
   "cell_type": "code",
   "execution_count": 6,
   "metadata": {},
   "outputs": [],
   "source": [
    "%reload_ext autoreload\n",
    "%autoreload 2"
   ]
  },
  {
   "cell_type": "markdown",
   "metadata": {},
   "source": [
    "### Boston Model"
   ]
  },
  {
   "cell_type": "code",
   "execution_count": 7,
   "metadata": {},
   "outputs": [],
   "source": [
    "from sklearn.datasets import load_boston\n",
    "\n",
    "boston = load_boston()\n",
    "\n",
    "data = boston.data\n",
    "target = boston.target\n",
    "features = boston.feature_names\n",
    "\n",
    "from sklearn.preprocessing import StandardScaler\n",
    "s = StandardScaler()\n",
    "data = s.fit_transform(data)\n",
    "\n",
    "from sklearn.model_selection import train_test_split\n",
    "X_train, X_test, y_train, y_test = train_test_split(data, target, test_size=0.3, random_state=80718)\n",
    "\n",
    "y_train, y_test = y_train.reshape((-1,1)), y_test.reshape((-1,1))\n",
    "\n",
    "X_train, X_test, y_train, y_test = (Tensor(X_train, no_grad=True),\n",
    "                                    Tensor(X_test, no_grad=True),\n",
    "                                    Tensor(y_train, no_grad=True),\n",
    "                                    Tensor(y_test, no_grad=True))"
   ]
  },
  {
   "cell_type": "markdown",
   "metadata": {},
   "source": [
    "`Trainer` class:"
   ]
  },
  {
   "cell_type": "markdown",
   "metadata": {},
   "source": [
    "### Using only imports"
   ]
  },
  {
   "cell_type": "code",
   "execution_count": 9,
   "metadata": {},
   "outputs": [
    {
     "name": "stdout",
     "output_type": "stream",
     "text": [
      "Validation loss after 1 epochs is Tensor(10061.1903)\n",
      "Validation loss after 2 epochs is Tensor(5972.0928)\n",
      "Validation loss after 3 epochs is Tensor(4930.6142)\n",
      "Validation loss after 4 epochs is Tensor(4370.1443)\n",
      "Validation loss after 5 epochs is Tensor(3873.4773)\n",
      "Validation loss after 6 epochs is Tensor(3354.2598)\n",
      "Validation loss after 7 epochs is Tensor(4176.6987)\n",
      "Validation loss after 8 epochs is Tensor(4223.7031)\n",
      "Validation loss after 9 epochs is Tensor(3401.5105)\n",
      "Validation loss after 10 epochs is Tensor(3183.6743)\n"
     ]
    }
   ],
   "source": [
    "optimizer = SGD(lr=0.001)\n",
    "batch_size = 100\n",
    "model = Model([\n",
    "    Dense(13, activation=tanh),\n",
    "    Dense(1, activation=linear)\n",
    "],\n",
    "seed=112818)\n",
    "\n",
    "trainer = Trainer(model, optimizer)\n",
    "\n",
    "trainer.fit(X_train, y_train, X_test, y_test,\n",
    "            epochs=10,\n",
    "            eval_every=1)"
   ]
  },
  {
   "cell_type": "markdown",
   "metadata": {},
   "source": [
    "`Trainer` works."
   ]
  }
 ],
 "metadata": {
  "kernelspec": {
   "display_name": "Python 3",
   "language": "python",
   "name": "python3"
  },
  "language_info": {
   "codemirror_mode": {
    "name": "ipython",
    "version": 3
   },
   "file_extension": ".py",
   "mimetype": "text/x-python",
   "name": "python",
   "nbconvert_exporter": "python",
   "pygments_lexer": "ipython3",
   "version": "3.6.6"
  }
 },
 "nbformat": 4,
 "nbformat_minor": 2
}
