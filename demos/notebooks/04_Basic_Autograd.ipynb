{
 "cells": [
  {
   "cell_type": "markdown",
   "metadata": {},
   "source": [
    "### History"
   ]
  },
  {
   "cell_type": "markdown",
   "metadata": {},
   "source": [
    "Learns models using the autograd framework."
   ]
  },
  {
   "cell_type": "code",
   "execution_count": 22,
   "metadata": {},
   "outputs": [],
   "source": [
    "# Add Lincoln to system path\n",
    "import sys\n",
    "sys.path.append(\"/Users/seth/development/lincoln/\")\n",
    "\n",
    "import numpy as np\n",
    "np.set_printoptions(precision=4)\n",
    "\n",
    "import torch\n",
    "\n",
    "from typing import List, Callable, Dict, Tuple\n",
    "\n",
    "from lincoln.autograd.tensor import Tensor\n",
    "from lincoln.autograd.layer import Layer\n",
    "from lincoln.autograd.model import Model\n",
    "from lincoln.autograd.param import Parameter\n",
    "from lincoln.autograd.optim import Optim, SGD\n",
    "from lincoln.autograd.train import Trainer\n",
    "from lincoln.autograd.activations import sigmoid, tanh, linear\n",
    "\n",
    "from lincoln.utils import permute_data"
   ]
  },
  {
   "cell_type": "code",
   "execution_count": 23,
   "metadata": {},
   "outputs": [],
   "source": [
    "#%load_ext autoreload\n",
    "%autoreload"
   ]
  },
  {
   "cell_type": "markdown",
   "metadata": {},
   "source": [
    "### Boston Model"
   ]
  },
  {
   "cell_type": "code",
   "execution_count": 24,
   "metadata": {},
   "outputs": [],
   "source": [
    "from sklearn.datasets import load_boston\n",
    "\n",
    "boston = load_boston()\n",
    "\n",
    "data = boston.data\n",
    "target = boston.target\n",
    "features = boston.feature_names\n",
    "\n",
    "from sklearn.preprocessing import StandardScaler\n",
    "s = StandardScaler()\n",
    "data = s.fit_transform(data)\n",
    "\n",
    "from sklearn.model_selection import train_test_split\n",
    "X_train, X_test, y_train, y_test = train_test_split(data, target, test_size=0.3, random_state=80718)\n",
    "\n",
    "y_train, y_test = y_train.reshape((-1,1)), y_test.reshape((-1,1))\n",
    "\n",
    "X_train, X_test, y_train, y_test = (Tensor(X_train, no_grad=True),\n",
    "                                    Tensor(X_test, no_grad=True),\n",
    "                                    Tensor(y_train, no_grad=True),\n",
    "                                    Tensor(y_test, no_grad=True))"
   ]
  },
  {
   "cell_type": "markdown",
   "metadata": {},
   "source": [
    "`Trainer` class:"
   ]
  },
  {
   "cell_type": "markdown",
   "metadata": {},
   "source": [
    "### Using only imports"
   ]
  },
  {
   "cell_type": "code",
   "execution_count": null,
   "metadata": {},
   "outputs": [
    {
     "name": "stdout",
     "output_type": "stream",
     "text": [
      "> /Users/seth/development/lincoln/lincoln/autograd/layer.py(32)forward()\n",
      "-> return self.activation(output)\n",
      "(Pdb) output\n",
      "*** AttributeError: 'Tensor' object has no attribute 'rint'\n",
      "(Pdb) output.shape\n",
      "(32, 13)\n",
      "(Pdb) input_\n",
      "Tensor([[ 5.9650e-01 -4.8770e-01  1.0160e+00 -2.7260e-01  1.1947e+00  2.6550e-01\n",
      "   1.0748e+00 -9.8370e-01  1.6612e+00  1.5309e+00  8.0660e-01  3.8710e-01\n",
      "   6.2610e-01]\n",
      " [ 1.1040e-01 -4.8770e-01  1.0160e+00 -2.7260e-01  1.8599e+00  1.6150e-01\n",
      "   6.9080e-01 -6.0700e-01  1.6612e+00  1.5309e+00  8.0660e-01  1.9610e-01\n",
      "  -6.8170e-01]\n",
      " [-4.0790e-01  3.7070e-01 -6.0940e-01  3.6684e+00 -7.8350e-01 -5.1950e-01\n",
      "  -2.5160e-01  5.8200e-02 -7.5290e-01 -1.1002e+00  6.6800e-02  3.8010e-01\n",
      "   1.3970e-01]\n",
      " [-4.0270e-01  4.8800e-02 -7.3930e-01 -2.7260e-01 -1.2586e+00 -9.8390e-01\n",
      "  -1.1299e+00  1.2849e+00 -6.3800e-01 -3.7560e-01  2.0550e-01  4.4110e-01\n",
      "   6.1200e-02]\n",
      " [-4.1360e-01  7.1400e-01  5.6950e-01 -2.7260e-01 -7.8350e-01  2.2420e-01\n",
      "  -5.3250e-01 -6.1400e-02 -6.3800e-01 -8.2100e-01 -1.1810e-01  4.2030e-01\n",
      "  -6.2980e-01]\n",
      " [ 7.3620e-01 -4.8770e-01  1.0160e+00 -2.7260e-01  1.1947e+00 -6.1640e-01\n",
      "   3.2800e-01 -1.0908e+00  1.6612e+00  1.5309e+00  8.0660e-01 -2.0300e-01\n",
      "   2.4274e+00]\n",
      " [ 7.3200e-02 -4.8770e-01  1.0160e+00  3.6684e+00  1.8599e+00 -6.8620e-01\n",
      "   7.2630e-01 -8.9860e-01  1.6612e+00  1.5309e+00  8.0660e-01 -3.9800e-02\n",
      "   2.7850e-01]\n",
      " [ 1.5391e+00 -4.8770e-01  1.0160e+00 -2.7260e-01  1.2552e+00 -1.4355e+00\n",
      "   1.0499e+00 -1.1261e+00  1.6612e+00  1.5309e+00  8.0660e-01  4.4110e-01\n",
      "   2.5451e+00]\n",
      " [-4.0860e-01 -4.8770e-01 -1.0340e+00 -2.7260e-01 -3.8610e-01 -6.0640e-01\n",
      "   4.4000e-03 -5.1960e-01 -5.2300e-01 -6.6660e-01 -8.5790e-01  4.0080e-01\n",
      "  -4.2240e-01]\n",
      " [-4.1070e-01 -4.8770e-01 -1.0340e+00 -2.7260e-01 -3.8610e-01  8.1970e-01\n",
      "   2.0710e-01 -4.1820e-01 -5.2300e-01 -6.6660e-01 -8.5790e-01  3.7930e-01\n",
      "  -8.0360e-01]\n",
      " [-3.5560e-01  3.7070e-01 -1.0457e+00 -2.7260e-01  7.9740e-01  1.3084e+00\n",
      "   4.7030e-01 -8.0000e-01 -5.2300e-01 -8.5670e-01 -2.5224e+00  3.9610e-01\n",
      "  -4.2940e-01]\n",
      " [-4.1430e-01  3.7070e-01 -1.1391e+00 -2.7260e-01 -9.6570e-01  2.1874e+00\n",
      "  -1.4490e-01  4.2770e-01 -5.2300e-01 -1.1418e+00 -1.6439e+00  3.3590e-01\n",
      "  -1.2466e+00]\n",
      " [-3.4200e-01  3.7070e-01 -1.0457e+00 -2.7260e-01  7.9740e-01  7.9410e-01\n",
      "   1.1175e+00 -8.4820e-01 -5.2300e-01 -8.5670e-01 -2.5224e+00  3.8660e-01\n",
      "  -8.0640e-01]\n",
      " [-3.9260e-01  3.7070e-01 -6.0940e-01  3.6684e+00 -7.8350e-01  2.0036e+00\n",
      "  -5.9650e-01  2.7170e-01 -7.5290e-01 -1.1002e+00  6.6800e-02  3.7380e-01\n",
      "  -8.5130e-01]\n",
      " [-3.9320e-01 -4.8770e-01 -7.9800e-02  3.6684e+00 -5.6750e-01 -6.8050e-01\n",
      "  -5.2540e-01 -6.7700e-02 -6.3800e-01 -7.7950e-01  6.6800e-02  3.7570e-01\n",
      "   4.7340e-01]\n",
      " [-3.5150e-01 -4.8770e-01 -7.2030e-01 -2.7260e-01 -4.1200e-01  2.9239e+00\n",
      "   1.6800e-01  2.0600e-02 -1.7810e-01 -6.0130e-01 -4.8800e-01  3.2060e-01\n",
      "  -1.4274e+00]\n",
      " [ 5.8810e-01 -4.8770e-01  1.0160e+00 -2.7260e-01  1.1947e+00 -1.3050e-01\n",
      "   8.5430e-01 -9.5260e-01  1.6612e+00  1.5309e+00  8.0660e-01  4.4110e-01\n",
      "   3.5280e-01]\n",
      " [-4.0380e-01  1.4437e+00 -1.1230e+00 -2.7260e-01 -1.0167e+00  3.8660e-01\n",
      "  -1.4038e+00  3.6680e-01 -5.2300e-01 -6.0800e-02 -1.5052e+00  2.8690e-01\n",
      "  -1.1344e+00]\n",
      " [-4.0560e-01  5.8530e-01 -8.7640e-01 -2.7260e-01 -8.7850e-01  2.4410e-01\n",
      "  -2.7600e-02  1.6307e+00 -1.7810e-01 -7.3790e-01  5.7540e-01  4.4110e-01\n",
      "  -8.3030e-01]\n",
      " [ 4.4171e+00 -4.8770e-01  1.0160e+00 -2.7260e-01  1.1947e+00 -1.0737e+00\n",
      "   5.9830e-01 -1.0399e+00  1.6612e+00  1.5309e+00  8.0660e-01 -2.9840e-01\n",
      "   2.0643e+00]\n",
      " [-1.8440e-01 -4.8770e-01  1.2319e+00 -2.7260e-01  4.3460e-01  2.3427e+00\n",
      "   9.8240e-01 -8.3150e-01 -5.2300e-01 -3.1100e-02 -1.7364e+00  1.3840e-01\n",
      "  -1.2550e+00]\n",
      " [-4.1680e-01  2.9458e+00 -1.5578e+00 -2.7260e-01 -1.1463e+00  2.2657e+00\n",
      "  -1.3006e+00  8.8100e-01 -6.3800e-01 -9.1010e-01 -1.8751e+00  4.1180e-01\n",
      "  -1.3573e+00]\n",
      " [-4.0930e-01 -4.8770e-01  2.4710e-01 -2.7260e-01 -1.0167e+00 -1.6600e-02\n",
      "  -2.2252e+00  2.1700e-01 -5.2300e-01 -6.0800e-02  1.1300e-01  4.1930e-01\n",
      "  -8.2320e-01]\n",
      " [-4.1330e-01  2.5166e+00 -1.2981e+00 -2.7260e-01 -1.3363e+00  8.3540e-01\n",
      "  -7.5300e-01  1.9170e+00 -5.2300e-01 -2.9840e-01 -1.6902e+00  3.7480e-01\n",
      "  -9.2280e-01]\n",
      " [-4.1320e-01 -4.8770e-01  1.1570e-01 -2.7260e-01  1.5810e-01 -2.3450e-01\n",
      "   2.8890e-01 -7.1660e-01 -9.8280e-01 -8.0320e-01  1.1765e+00  4.4110e-01\n",
      "  -5.0080e-01]\n",
      " [-4.1310e-01  1.7656e+00 -8.4870e-01 -2.7260e-01 -1.2931e+00  4.3300e-02\n",
      "  -8.1700e-01  1.6743e+00 -4.0800e-01 -6.8440e-01 -8.5790e-01  4.4110e-01\n",
      "  -7.0830e-01]\n",
      " [-4.1010e-01 -4.8770e-01 -9.6980e-01 -2.7260e-01 -9.1300e-01 -2.3310e-01\n",
      "  -4.1870e-01 -2.2600e-02 -7.5290e-01 -9.5760e-01  2.0600e-02  4.2190e-01\n",
      "  -5.9060e-01]\n",
      " [-1.4900e-01 -4.8770e-01  1.2319e+00 -2.7260e-01  4.3460e-01 -5.7650e-01\n",
      "   1.0215e+00 -6.6850e-01 -5.2300e-01 -3.1100e-02 -1.7364e+00 -9.3700e-02\n",
      "  -8.7300e-02]\n",
      " [-2.4810e-01 -4.8770e-01  1.2319e+00 -2.7260e-01  4.3460e-01  1.7158e+00\n",
      "   7.9030e-01 -8.6710e-01 -5.2300e-01 -3.1100e-02 -1.7364e+00  1.9470e-01\n",
      "  -1.5311e+00]\n",
      " [ 8.7500e-01 -4.8770e-01  1.0160e+00 -2.7260e-01  9.7880e-01 -1.9641e+00\n",
      "   1.1175e+00 -1.2459e+00  1.6612e+00  1.5309e+00  8.0660e-01  4.4110e-01\n",
      "   3.1002e+00]\n",
      " [-1.6750e-01 -4.8770e-01  1.2319e+00 -2.7260e-01  2.7323e+00 -9.3550e-01\n",
      "   1.1175e+00 -1.0831e+00 -5.2300e-01 -3.1100e-02 -1.7364e+00 -2.0548e+00\n",
      "   5.6030e-01]\n",
      " [ 5.8600e-02 -4.8770e-01  1.2319e+00 -2.7260e-01  2.7323e+00 -1.1634e+00\n",
      "   1.1175e+00 -1.1329e+00 -5.2300e-01 -3.1100e-02 -1.7364e+00  4.4110e-01\n",
      "   1.9298e+00]])\n"
     ]
    }
   ],
   "source": [
    "optimizer = SGD(lr=0.001)\n",
    "batch_size = 100\n",
    "model = Model([\n",
    "    Layer(13, activation=tanh),\n",
    "    Layer(1, activation=linear)\n",
    "],\n",
    "seed=112818)\n",
    "\n",
    "trainer = Trainer(model, optimizer)\n",
    "\n",
    "trainer.fit(X_train, y_train, X_test, y_test,\n",
    "            epochs=10,\n",
    "            eval_every=1)"
   ]
  },
  {
   "cell_type": "markdown",
   "metadata": {},
   "source": [
    "`Trainer` works."
   ]
  }
 ],
 "metadata": {
  "kernelspec": {
   "display_name": "Python 3",
   "language": "python",
   "name": "python3"
  },
  "language_info": {
   "codemirror_mode": {
    "name": "ipython",
    "version": 3
   },
   "file_extension": ".py",
   "mimetype": "text/x-python",
   "name": "python",
   "nbconvert_exporter": "python",
   "pygments_lexer": "ipython3",
   "version": "3.6.6"
  }
 },
 "nbformat": 4,
 "nbformat_minor": 2
}
