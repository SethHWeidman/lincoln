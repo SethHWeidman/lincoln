{
 "cells": [
  {
   "cell_type": "markdown",
   "metadata": {},
   "source": [
    "#### lincoln imports"
   ]
  },
  {
   "cell_type": "code",
   "execution_count": 1,
   "metadata": {},
   "outputs": [],
   "source": [
    "import numpy as np"
   ]
  },
  {
   "cell_type": "code",
   "execution_count": 2,
   "metadata": {},
   "outputs": [],
   "source": [
    "%load_ext autoreload\n",
    "%autoreload 2"
   ]
  },
  {
   "cell_type": "code",
   "execution_count": 3,
   "metadata": {},
   "outputs": [],
   "source": [
    "import lincoln\n",
    "from lincoln.numpy.layers import Dense\n",
    "from lincoln.numpy.losses import SoftmaxCrossEntropy, MeanSquaredError, SoftmaxCrossEntropyComplex\n",
    "from lincoln.numpy.optimizers import Optimizer, SGD\n",
    "from lincoln.numpy.activations import Sigmoid, Tanh, Linear\n",
    "from lincoln.numpy.network import NeuralNetwork\n",
    "from lincoln.numpy.train import Trainer\n",
    "from lincoln.data import mnist\n",
    "from lincoln.np_utils import softmax"
   ]
  },
  {
   "cell_type": "code",
   "execution_count": 4,
   "metadata": {},
   "outputs": [],
   "source": [
    "X_train, y_train, X_test, y_test = mnist.load()"
   ]
  },
  {
   "cell_type": "code",
   "execution_count": 5,
   "metadata": {},
   "outputs": [
    {
     "data": {
      "text/plain": [
       "60000"
      ]
     },
     "execution_count": 5,
     "metadata": {},
     "output_type": "execute_result"
    }
   ],
   "source": [
    "num_labels = len(y_train)\n",
    "num_labels"
   ]
  },
  {
   "cell_type": "code",
   "execution_count": 6,
   "metadata": {},
   "outputs": [],
   "source": [
    "num_labels = len(y_train)\n",
    "train_labels = np.zeros((num_labels, 10))\n",
    "for i in range(num_labels):\n",
    "    train_labels[i][y_train[i]] = 1\n",
    "\n",
    "num_labels = len(y_test)\n",
    "test_labels = np.zeros((num_labels, 10))\n",
    "for i in range(num_labels):\n",
    "    test_labels[i][y_test[i]] = 1"
   ]
  },
  {
   "cell_type": "code",
   "execution_count": 7,
   "metadata": {},
   "outputs": [],
   "source": [
    "# %load_ext autoreload\n",
    "# %autoreload 2"
   ]
  },
  {
   "cell_type": "markdown",
   "metadata": {},
   "source": [
    "## Data scaled to mean 0, variance 1"
   ]
  },
  {
   "cell_type": "code",
   "execution_count": 8,
   "metadata": {},
   "outputs": [],
   "source": [
    "X_train, X_test = X_train - np.mean(X_train), X_test - np.mean(X_train)"
   ]
  },
  {
   "cell_type": "code",
   "execution_count": 9,
   "metadata": {},
   "outputs": [
    {
     "data": {
      "text/plain": [
       "(-33.318421449829934,\n",
       " 221.68157855017006,\n",
       " -33.318421449829934,\n",
       " 221.68157855017006)"
      ]
     },
     "execution_count": 9,
     "metadata": {},
     "output_type": "execute_result"
    }
   ],
   "source": [
    "np.min(X_train), np.max(X_train), np.min(X_test), np.max(X_test)"
   ]
  },
  {
   "cell_type": "code",
   "execution_count": 10,
   "metadata": {},
   "outputs": [],
   "source": [
    "X_train, X_test = X_train / np.std(X_train), X_test / np.std(X_train)"
   ]
  },
  {
   "cell_type": "code",
   "execution_count": 11,
   "metadata": {},
   "outputs": [
    {
     "data": {
      "text/plain": [
       "(-0.424073894391566, 2.821543345689335, -0.424073894391566, 2.821543345689335)"
      ]
     },
     "execution_count": 11,
     "metadata": {},
     "output_type": "execute_result"
    }
   ],
   "source": [
    "np.min(X_train), np.max(X_train), np.min(X_test), np.max(X_test)"
   ]
  },
  {
   "cell_type": "code",
   "execution_count": 12,
   "metadata": {},
   "outputs": [],
   "source": [
    "def calc_accuracy_model(model, test_set):\n",
    "    return print(f'''The model validation accuracy is: {np.equal(np.argmax(model.forward(test_set), axis=1), y_test).sum() * 100.0 / test_set.shape[0]:.2f}%''')"
   ]
  },
  {
   "cell_type": "markdown",
   "metadata": {},
   "source": [
    "### MSE loss, learning rate = 0.1"
   ]
  },
  {
   "cell_type": "code",
   "execution_count": 13,
   "metadata": {},
   "outputs": [
    {
     "name": "stdout",
     "output_type": "stream",
     "text": [
      "Validation loss after 2 epochs is 0.875\n",
      "Validation loss after 4 epochs is 0.793\n",
      "Validation loss after 6 epochs is 0.756\n",
      "Validation loss after 8 epochs is 0.695\n",
      "Validation loss after 10 epochs is 0.663\n",
      "The model validation accuracy is: 46.04%\n"
     ]
    }
   ],
   "source": [
    "mnist_soft = NeuralNetwork(\n",
    "    layers=[Dense(neurons=10, \n",
    "                  activation=Sigmoid())],\n",
    "            loss = MeanSquaredError(), \n",
    "seed=190119)\n",
    "\n",
    "trainer = Trainer(mnist_soft, SGD(0.1))\n",
    "trainer.fit(X_train, train_labels, X_test, test_labels,\n",
    "            epochs = 10,\n",
    "            eval_every = 2,\n",
    "            seed=190119,\n",
    "            batch_size=60);\n",
    "\n",
    "calc_accuracy_model(mnist_soft, X_test)"
   ]
  },
  {
   "cell_type": "markdown",
   "metadata": {},
   "source": [
    "### Learning rate = 0.1"
   ]
  },
  {
   "cell_type": "code",
   "execution_count": 14,
   "metadata": {},
   "outputs": [
    {
     "name": "stdout",
     "output_type": "stream",
     "text": [
      "Validation loss after 2 epochs is 24013.906\n",
      "Validation loss after 4 epochs is 23875.148\n",
      "Validation loss after 6 epochs is 23815.501\n",
      "Validation loss after 8 epochs is 23815.089\n",
      "Validation loss after 10 epochs is 23767.073\n",
      "The model validation accuracy is: 90.94%\n"
     ]
    }
   ],
   "source": [
    "mnist_soft = NeuralNetwork(\n",
    "    layers=[Dense(neurons=10, \n",
    "                  activation=Sigmoid())],\n",
    "            loss = SoftmaxCrossEntropy(), \n",
    "seed=190119)\n",
    "\n",
    "trainer = Trainer(mnist_soft, SGD(0.1))\n",
    "trainer.fit(X_train, train_labels, X_test, test_labels,\n",
    "            epochs = 10,\n",
    "            eval_every = 2,\n",
    "            seed=190119,\n",
    "            batch_size=60);\n",
    "\n",
    "calc_accuracy_model(mnist_soft, X_test)"
   ]
  },
  {
   "cell_type": "markdown",
   "metadata": {},
   "source": [
    "### Complex loss, learning rate = 0.1"
   ]
  },
  {
   "cell_type": "code",
   "execution_count": 15,
   "metadata": {},
   "outputs": [
    {
     "name": "stdout",
     "output_type": "stream",
     "text": [
      "Validation loss after 2 epochs is 24012.951\n",
      "Validation loss after 4 epochs is 23869.528\n",
      "Validation loss after 6 epochs is 23801.906\n",
      "Validation loss after 8 epochs is 23782.958\n",
      "Loss increased after epoch 10, final loss was 23782.958, using the model from epoch 8\n",
      "The model validation accuracy is: 90.24%\n"
     ]
    }
   ],
   "source": [
    "mnist_soft = NeuralNetwork(\n",
    "    layers=[Dense(neurons=10, \n",
    "                  activation=Sigmoid())],\n",
    "            loss = SoftmaxCrossEntropyComplex(), \n",
    "seed=190119)\n",
    "\n",
    "trainer = Trainer(mnist_soft, SGD(0.1))\n",
    "trainer.fit(X_train, train_labels, X_test, test_labels,\n",
    "            epochs = 10,\n",
    "            eval_every = 2,\n",
    "            seed=190119,\n",
    "            batch_size=60);\n",
    "\n",
    "calc_accuracy_model(mnist_soft, X_test)"
   ]
  },
  {
   "cell_type": "markdown",
   "metadata": {},
   "source": [
    "### Weight initialization exploration"
   ]
  },
  {
   "cell_type": "code",
   "execution_count": 79,
   "metadata": {},
   "outputs": [],
   "source": [
    "np.random.seed(190126)\n",
    "a = np.random.randint(0, 60001)\n",
    "\n",
    "W1 = np.random.normal(0, scale=1, size=(784, 256))\n",
    "W2 = np.random.normal(0, scale=(2 / (784 + 256)), size=(784, 256))"
   ]
  },
  {
   "cell_type": "code",
   "execution_count": 80,
   "metadata": {},
   "outputs": [],
   "source": [
    "import matplotlib.pyplot as plt\n",
    "%matplotlib inline"
   ]
  },
  {
   "cell_type": "code",
   "execution_count": 81,
   "metadata": {},
   "outputs": [],
   "source": [
    "o1 = np.dot(X_train[a], W1)\n",
    "o2 = np.dot(X_train[a], W2)"
   ]
  },
  {
   "cell_type": "code",
   "execution_count": 98,
   "metadata": {},
   "outputs": [
    {
     "data": {
      "image/png": "[encoded data removed]",
      "text/plain": [
       "<Figure size 432x288 with 1 Axes>"
      ]
     },
     "metadata": {},
     "output_type": "display_data"
    }
   ],
   "source": [
    "plt.hist(o1)\n",
    "plt.title(\"Distribution of 256 activation inputs\\nafter weight multiplication,\\nVariance of weights = 1\")\n",
    "plt.xlabel(\"Neuron values\");"
   ]
  },
  {
   "cell_type": "code",
   "execution_count": 83,
   "metadata": {},
   "outputs": [
    {
     "data": {
      "text/plain": [
       "(array([ 7.,  6., 24., 35., 63., 58., 35., 18.,  8.,  2.]),\n",
       " array([-0.16449056, -0.13034942, -0.09620829, -0.06206715, -0.02792602,\n",
       "         0.00621511,  0.04035625,  0.07449738,  0.10863852,  0.14277965,\n",
       "         0.17692078]),\n",
       " <a list of 10 Patch objects>)"
      ]
     },
     "execution_count": 83,
     "metadata": {},
     "output_type": "execute_result"
    },
    {
     "data": {
      "image/png": "[encoded data removed]",
      "text/plain": [
       "<Figure size 432x288 with 1 Axes>"
      ]
     },
     "metadata": {},
     "output_type": "display_data"
    }
   ],
   "source": [
    "plt.hist(o2)"
   ]
  },
  {
   "cell_type": "code",
   "execution_count": 85,
   "metadata": {},
   "outputs": [],
   "source": [
    "def sigmoid(x):\n",
    "    return 1.0 / (1 + np.exp(-x))"
   ]
  },
  {
   "cell_type": "code",
   "execution_count": null,
   "metadata": {},
   "outputs": [],
   "source": []
  },
  {
   "cell_type": "code",
   "execution_count": 97,
   "metadata": {},
   "outputs": [
    {
     "data": {
      "image/png": "[encoded data removed]",
      "text/plain": [
       "<Figure size 432x288 with 1 Axes>"
      ]
     },
     "metadata": {},
     "output_type": "display_data"
    }
   ],
   "source": [
    "plt.hist(sigmoid(o1))\n",
    "plt.title(\"Distribution of 256 activations\\nafter weight multiplication,\\nvariance of weights = 1\")\n",
    "plt.xlabel(\"Neuron values\");"
   ]
  },
  {
   "cell_type": "code",
   "execution_count": 88,
   "metadata": {},
   "outputs": [
    {
     "data": {
      "text/plain": [
       "(array([ 7.,  7., 23., 35., 63., 57., 36., 18.,  8.,  2.]),\n",
       " array([0.45896983, 0.46748437, 0.4759989 , 0.48451344, 0.49302797,\n",
       "        0.50154251, 0.51005704, 0.51857158, 0.52708611, 0.53560065,\n",
       "        0.54411519]),\n",
       " <a list of 10 Patch objects>)"
      ]
     },
     "execution_count": 88,
     "metadata": {},
     "output_type": "execute_result"
    },
    {
     "data": {
      "image/png": "[encoded data removed]",
      "text/plain": [
       "<Figure size 432x288 with 1 Axes>"
      ]
     },
     "metadata": {},
     "output_type": "display_data"
    }
   ],
   "source": [
    "plt.hist(sigmoid(o2))"
   ]
  },
  {
   "cell_type": "markdown",
   "metadata": {},
   "source": [
    "### Xavier init"
   ]
  },
  {
   "cell_type": "code",
   "execution_count": 43,
   "metadata": {},
   "outputs": [
    {
     "name": "stdout",
     "output_type": "stream",
     "text": [
      "Validation loss after 1 epochs is 23912.385\n",
      "Validation loss after 2 epochs is 23912.385\n",
      "Validation loss after 3 epochs is 23912.385\n",
      "Validation loss after 4 epochs is 23912.385\n",
      "Validation loss after 5 epochs is 23912.385\n",
      "The model validation accuracy is: 89.06%\n"
     ]
    }
   ],
   "source": [
    "mnist_soft = NeuralNetwork(\n",
    "    layers=[Dense(neurons=10, \n",
    "                  activation=Sigmoid(),\n",
    "                  weight_init=\"xavier\")],\n",
    "            loss = SoftmaxCrossEntropy(), \n",
    "seed=190119)\n",
    "\n",
    "trainer = Trainer(mnist_soft, SGD(0.1))\n",
    "trainer.fit(X_train, train_labels, X_test, test_labels,\n",
    "       epochs = 5,\n",
    "       eval_every = 1,\n",
    "       seed=190119,\n",
    "           batch_size=60,\n",
    "           early_stopping=False);\n",
    "\n",
    "calc_accuracy_model(mnist_soft, X_test)"
   ]
  },
  {
   "cell_type": "markdown",
   "metadata": {},
   "source": [
    "Loss almost identical with with bad init."
   ]
  },
  {
   "cell_type": "markdown",
   "metadata": {},
   "source": [
    "Compare to **learning rate of 0.01**."
   ]
  },
  {
   "cell_type": "code",
   "execution_count": null,
   "metadata": {},
   "outputs": [],
   "source": [
    "mnist_soft = NeuralNetwork(\n",
    "    layers=[Dense(neurons=10, \n",
    "                  activation=Sigmoid(),\n",
    "                  weight_init=\"xavier\")],\n",
    "            loss = SoftmaxCrossEntropyLoss(), \n",
    "seed=190119)\n",
    "\n",
    "trainer = Trainer(mnist_soft, SGD(0.01))\n",
    "trainer.fit(X_train, train_labels, X_test, test_labels,\n",
    "       epochs = 5,\n",
    "       eval_every = 1,\n",
    "       seed=190119,\n",
    "           batch_size=60,\n",
    "           early_stopping=False);\n",
    "\n",
    "np.equal(np.argmax(mnist_soft.forward(X_test), axis=1), y_test).sum() / 10000.0"
   ]
  },
  {
   "cell_type": "code",
   "execution_count": null,
   "metadata": {},
   "outputs": [],
   "source": [
    "mnist_soft = NeuralNetwork(\n",
    "    layers=[Dense(neurons=10, \n",
    "                  activation=Sigmoid(),\n",
    "                  weight_init=\"xavier\")],\n",
    "            loss = SoftmaxCrossEntropyLossComplex(), \n",
    "seed=190119)\n",
    "\n",
    "trainer = Trainer(mnist_soft, SGD(0.1))\n",
    "trainer.fit(X_train, train_labels, X_test, test_labels,\n",
    "       epochs = 5,\n",
    "       eval_every = 1,\n",
    "       seed=190119,\n",
    "           batch_size=60,\n",
    "           early_stopping=False);\n",
    "\n",
    "np.equal(np.argmax(mnist_soft.forward(X_test), axis=1), y_test).sum() / 10000.0"
   ]
  },
  {
   "cell_type": "markdown",
   "metadata": {},
   "source": [
    "### MSE Loss"
   ]
  },
  {
   "cell_type": "code",
   "execution_count": null,
   "metadata": {},
   "outputs": [],
   "source": [
    "mnist_mse = NeuralNetwork(\n",
    "    layers=[Dense(neurons=10, \n",
    "                  activation=Sigmoid())],\n",
    "            loss = MeanSquaredError(),\n",
    "seed=190119)\n",
    "\n",
    "trainer = Trainer(mnist_mse, SGD(0.1))\n",
    "trainer.fit(X_train, train_labels, X_test, test_labels,\n",
    "       epochs = 5,\n",
    "       eval_every = 1,\n",
    "            batch_size=60,\n",
    "       seed=190119,\n",
    "           early_stopping=False);\n",
    "\n",
    "np.equal(np.argmax(mnist_mse.forward(X_test), axis=1), y_test).sum() / 10000.0"
   ]
  },
  {
   "cell_type": "code",
   "execution_count": null,
   "metadata": {},
   "outputs": [],
   "source": [
    "mnist_mse = NeuralNetwork(\n",
    "    layers=[Dense(neurons=10, \n",
    "                  activation=Sigmoid())],\n",
    "            loss = MeanSquaredError(),\n",
    "seed=190119)\n",
    "\n",
    "trainer = Trainer(mnist_mse, SGD(0.01))\n",
    "trainer.fit(X_train, train_labels, X_test, test_labels,\n",
    "       epochs = 5,\n",
    "       eval_every = 1,\n",
    "            batch_size=60,\n",
    "       seed=190119,\n",
    "           early_stopping=False);\n",
    "\n",
    "np.equal(np.argmax(mnist_mse.forward(X_test), axis=1), y_test).sum() / 10000.0"
   ]
  },
  {
   "cell_type": "markdown",
   "metadata": {},
   "source": [
    "## Momentum"
   ]
  },
  {
   "cell_type": "code",
   "execution_count": 62,
   "metadata": {},
   "outputs": [],
   "source": [
    "from lincoln.numpy.optimizers import SGDMomentum, AdaGrad"
   ]
  },
  {
   "cell_type": "code",
   "execution_count": 22,
   "metadata": {},
   "outputs": [
    {
     "name": "stdout",
     "output_type": "stream",
     "text": [
      "Validation loss after 2 epochs is 23993.463\n",
      "Validation loss after 4 epochs is 23872.960\n",
      "Validation loss after 6 epochs is 23810.145\n",
      "Validation loss after 8 epochs is 23782.361\n",
      "Validation loss after 10 epochs is 23776.518\n",
      "The model validation accuracy is: 90.60%\n"
     ]
    }
   ],
   "source": [
    "mnist_soft = NeuralNetwork(\n",
    "    layers=[Dense(neurons=10, \n",
    "                  activation=Sigmoid())],\n",
    "            loss = SoftmaxCrossEntropy(),\n",
    "seed=190119)\n",
    "\n",
    "trainer = Trainer(mnist_soft, SGD(lr=0.1))\n",
    "trainer.fit(X_train, train_labels, X_test, test_labels,\n",
    "            epochs = 10,\n",
    "            eval_every = 2,\n",
    "            seed=190119,\n",
    "            batch_size=60,\n",
    "            early_stopping=False);\n",
    "\n",
    "calc_accuracy_model(mnist_soft, X_test)"
   ]
  },
  {
   "cell_type": "code",
   "execution_count": 23,
   "metadata": {},
   "outputs": [
    {
     "name": "stdout",
     "output_type": "stream",
     "text": [
      "Validation loss after 2 epochs is 24062.761\n",
      "Validation loss after 4 epochs is 23871.167\n",
      "Validation loss after 6 epochs is 23834.888\n",
      "Validation loss after 8 epochs is 23765.475\n",
      "Loss increased after epoch 10, final loss was 23765.475, using model from epoch 8\n",
      "The model validation accuracy is: 90.62%\n"
     ]
    }
   ],
   "source": [
    "mnist_soft = NeuralNetwork(\n",
    "    layers=[Dense(neurons=10, \n",
    "                  activation=Sigmoid())],\n",
    "            loss = SoftmaxCrossEntropy(),\n",
    "seed=190119)\n",
    "\n",
    "trainer = Trainer(mnist_soft, SGDMomentum(lr=0.1, momentum=0.5))\n",
    "trainer.fit(X_train, train_labels, X_test, test_labels,\n",
    "       epochs = 10,\n",
    "       eval_every = 2,\n",
    "       seed=190119,\n",
    "            batch_size=60);\n",
    "\n",
    "calc_accuracy_model(mnist_soft, X_test)"
   ]
  },
  {
   "cell_type": "code",
   "execution_count": 27,
   "metadata": {},
   "outputs": [
    {
     "name": "stdout",
     "output_type": "stream",
     "text": [
      "Validation loss after 10 epochs is 24083.153\n",
      "Validation loss after 20 epochs is 23921.454\n",
      "Validation loss after 30 epochs is 23865.834\n",
      "Validation loss after 40 epochs is 23827.354\n",
      "Validation loss after 50 epochs is 23808.390\n",
      "The model validation accuracy is: 90.34%\n"
     ]
    }
   ],
   "source": [
    "mnist_soft = NeuralNetwork(\n",
    "    layers=[Dense(neurons=10, \n",
    "                  activation=Sigmoid())],\n",
    "            loss = SoftmaxCrossEntropy(),\n",
    "seed=190119)\n",
    "\n",
    "trainer = Trainer(mnist_soft, SGD(lr=0.01))\n",
    "trainer.fit(X_train, train_labels, X_test, test_labels,\n",
    "       epochs = 50,\n",
    "       eval_every = 10,\n",
    "       seed=190119,\n",
    "            batch_size=60,\n",
    "           early_stopping=False);\n",
    "\n",
    "calc_accuracy_model(mnist_soft, X_test)"
   ]
  },
  {
   "cell_type": "code",
   "execution_count": 26,
   "metadata": {},
   "outputs": [
    {
     "name": "stdout",
     "output_type": "stream",
     "text": [
      "Validation loss after 10 epochs is 23920.081\n",
      "Validation loss after 20 epochs is 23812.222\n",
      "Validation loss after 30 epochs is 23782.665\n",
      "Validation loss after 40 epochs is 23760.314\n",
      "Validation loss after 50 epochs is 23743.141\n",
      "The model validation accuracy is: 90.81%\n"
     ]
    }
   ],
   "source": [
    "mnist_soft = NeuralNetwork(\n",
    "    layers=[Dense(neurons=10, \n",
    "                  activation=Sigmoid())],\n",
    "            loss = SoftmaxCrossEntropy(),\n",
    "seed=190119)\n",
    "\n",
    "trainer = Trainer(mnist_soft, SGDMomentum(lr=0.01, momentum=0.5))\n",
    "trainer.fit(X_train, train_labels, X_test, test_labels,\n",
    "       epochs = 50,\n",
    "       eval_every = 10,\n",
    "       seed=190119,\n",
    "            batch_size=60,\n",
    "           early_stopping=False);\n",
    "\n",
    "calc_accuracy_model(mnist_soft, X_test)"
   ]
  },
  {
   "cell_type": "markdown",
   "metadata": {},
   "source": [
    "Conclusion: `SGDMomentum` works!"
   ]
  },
  {
   "cell_type": "code",
   "execution_count": null,
   "metadata": {},
   "outputs": [],
   "source": [
    "mnist_soft = NeuralNetwork(\n",
    "    layers=[Dense(neurons=10, \n",
    "                  activation=Sigmoid(),\n",
    "                  weight_init=\"xavier\")],\n",
    "            loss = SoftmaxCrossEntropyLoss(),\n",
    "seed=190119)\n",
    "\n",
    "trainer = Trainer(mnist_soft, SGDMomentum(lr=0.1, momentum=0.75))\n",
    "trainer.fit(X_train, train_labels, X_test, test_labels,\n",
    "       epochs = 10,\n",
    "       eval_every = 2,\n",
    "       seed=190119,\n",
    "            batch_size=60,\n",
    "           early_stopping=False);\n",
    "\n",
    "np.equal(np.argmax(mnist_soft.forward(X_test), axis=1), y_test).sum() / 10000.0"
   ]
  },
  {
   "cell_type": "markdown",
   "metadata": {},
   "source": [
    "Conclusion: momentum of 0.75 too high!"
   ]
  },
  {
   "cell_type": "code",
   "execution_count": null,
   "metadata": {
    "scrolled": true
   },
   "outputs": [],
   "source": [
    "mnist_soft = NeuralNetwork(\n",
    "    layers=[Dense(neurons=10, \n",
    "                  activation=Sigmoid(),\n",
    "                  weight_init=\"xavier\")],\n",
    "            loss = SoftmaxCrossEntropyLoss(),\n",
    "seed=190119)\n",
    "\n",
    "trainer = Trainer(mnist_soft, SGDMomentum(lr=0.01, momentum=0.5))\n",
    "trainer.fit(X_train, train_labels, X_test, test_labels,\n",
    "       epochs = 10,\n",
    "       eval_every = 2,\n",
    "       seed=190119,\n",
    "            batch_size=60,\n",
    "           early_stopping=False);\n",
    "\n",
    "np.equal(np.argmax(mnist_soft.forward(X_test), axis=1), y_test).sum() / 10000.0"
   ]
  },
  {
   "cell_type": "markdown",
   "metadata": {},
   "source": [
    "Lowest for logistic regression! "
   ]
  },
  {
   "cell_type": "code",
   "execution_count": null,
   "metadata": {},
   "outputs": [],
   "source": [
    "mnist_soft = NeuralNetwork(\n",
    "    layers=[Dense(neurons=10, \n",
    "                  activation=Sigmoid(),\n",
    "                  weight_init=\"xavier\")],\n",
    "            loss = SoftmaxCrossEntropyLossComplex(),\n",
    "seed=190119)\n",
    "\n",
    "trainer = Trainer(mnist_soft, SGDMomentum(lr=0.01, momentum=0.5))\n",
    "trainer.fit(X_train, train_labels, X_test, test_labels,\n",
    "       epochs = 10,\n",
    "       eval_every = 2,\n",
    "       seed=190119,\n",
    "            batch_size=60,\n",
    "           early_stopping=False);\n",
    "\n",
    "np.equal(np.argmax(mnist_soft.forward(X_test), axis=1), y_test).sum() / 10000.0"
   ]
  },
  {
   "cell_type": "code",
   "execution_count": null,
   "metadata": {},
   "outputs": [],
   "source": [
    "mnist_soft = NeuralNetwork(\n",
    "    layers=[Dense(neurons=10, \n",
    "                  activation=Sigmoid(),\n",
    "                  weight_init=\"xavier\")],\n",
    "            loss = SoftmaxCrossEntropyLossComplex(),\n",
    "seed=190119)\n",
    "\n",
    "trainer = Trainer(mnist_soft, SGDMomentum(lr=0.01, momentum=0.5))\n",
    "trainer.fit(X_train, train_labels, X_test, test_labels,\n",
    "       epochs = 10,\n",
    "       eval_every = 2,\n",
    "       seed=190119,\n",
    "            batch_size=60,\n",
    "           early_stopping=False);\n",
    "\n",
    "np.equal(np.argmax(mnist_soft.forward(X_test), axis=1), y_test).sum() / 10000.0"
   ]
  },
  {
   "cell_type": "code",
   "execution_count": 31,
   "metadata": {},
   "outputs": [
    {
     "name": "stdout",
     "output_type": "stream",
     "text": [
      "Validation loss after 10 epochs is 28078.554\n",
      "Validation loss after 20 epochs is 28037.520\n",
      "Validation loss after 30 epochs is 28023.541\n",
      "Validation loss after 40 epochs is 28020.568\n",
      "Validation loss after 50 epochs is 28025.753\n"
     ]
    }
   ],
   "source": [
    "mnist_soft = NeuralNetwork(\n",
    "    layers=[Dense(neurons=10, \n",
    "                  activation=Sigmoid())],\n",
    "            loss = SoftmaxCrossEntropy(),\n",
    "seed=190119)\n",
    "\n",
    "trainer = Trainer(mnist_soft, AdaGrad(lr=1))\n",
    "trainer.fit(X_train, train_labels, X_test, test_labels,\n",
    "            epochs = 50,\n",
    "            eval_every = 10,\n",
    "            seed=190119,\n",
    "            batch_size=60,\n",
    "            early_stopping=False);\n"
   ]
  },
  {
   "cell_type": "code",
   "execution_count": 33,
   "metadata": {
    "scrolled": true
   },
   "outputs": [
    {
     "name": "stdout",
     "output_type": "stream",
     "text": [
      "Validation loss after 10 epochs is 24888.084\n",
      "Validation loss after 20 epochs is 24774.273\n",
      "Validation loss after 30 epochs is 24752.941\n",
      "Validation loss after 40 epochs is 24760.535\n",
      "Validation loss after 50 epochs is 24743.789\n"
     ]
    }
   ],
   "source": [
    "mnist_soft = NeuralNetwork(\n",
    "    layers=[Dense(neurons=10, \n",
    "                  activation=Sigmoid(),\n",
    "                 weight_init=\"xavier\")],\n",
    "            loss = SoftmaxCrossEntropy(),\n",
    "seed=190119)\n",
    "\n",
    "trainer = Trainer(mnist_soft, AdaGrad(lr=1))\n",
    "trainer.fit(X_train, train_labels, X_test, test_labels,\n",
    "            epochs = 50,\n",
    "            eval_every = 10,\n",
    "            seed=190119,\n",
    "            batch_size=60,\n",
    "            early_stopping=False);\n",
    "\n"
   ]
  },
  {
   "cell_type": "code",
   "execution_count": 34,
   "metadata": {},
   "outputs": [
    {
     "name": "stdout",
     "output_type": "stream",
     "text": [
      "The model validation accuracy is: 80.36%\n"
     ]
    }
   ],
   "source": [
    "calc_accuracy_model(mnist_soft, X_test)"
   ]
  },
  {
   "cell_type": "code",
   "execution_count": 35,
   "metadata": {},
   "outputs": [
    {
     "name": "stdout",
     "output_type": "stream",
     "text": [
      "Validation loss after 10 epochs is 24742.612\n",
      "Validation loss after 20 epochs is 24724.655\n",
      "Validation loss after 30 epochs is 24720.798\n",
      "Validation loss after 40 epochs is 24720.431\n",
      "Validation loss after 50 epochs is 24719.756\n",
      "The model validation accuracy is: 80.65%\n"
     ]
    }
   ],
   "source": [
    "mnist_soft = NeuralNetwork(\n",
    "    layers=[Dense(neurons=10, \n",
    "                  activation=Sigmoid(),\n",
    "                 weight_init=\"xavier\")],\n",
    "            loss = SoftmaxCrossEntropy(),\n",
    "seed=190119)\n",
    "\n",
    "trainer = Trainer(mnist_soft, AdaGrad(lr=0.1))\n",
    "trainer.fit(X_train, train_labels, X_test, test_labels,\n",
    "            epochs = 50,\n",
    "            eval_every = 10,\n",
    "            seed=190119,\n",
    "            batch_size=60,\n",
    "            early_stopping=False);\n",
    "\n",
    "\n",
    "calc_accuracy_model(mnist_soft, X_test)"
   ]
  },
  {
   "cell_type": "code",
   "execution_count": null,
   "metadata": {},
   "outputs": [],
   "source": [
    "np.equal(np.argmax(mnist_soft.forward(X_test), axis=1), y_test).sum() / 10000.0"
   ]
  },
  {
   "cell_type": "markdown",
   "metadata": {},
   "source": [
    "## Weight decay"
   ]
  },
  {
   "cell_type": "markdown",
   "metadata": {},
   "source": [
    "#### Exponential decay"
   ]
  },
  {
   "cell_type": "code",
   "execution_count": 56,
   "metadata": {},
   "outputs": [
    {
     "name": "stdout",
     "output_type": "stream",
     "text": [
      "Validation loss after 2 epochs is 23879.955\n",
      "Validation loss after 4 epochs is 23771.361\n",
      "Validation loss after 6 epochs is 23707.017\n",
      "Validation loss after 8 epochs is 23678.279\n",
      "Validation loss after 10 epochs is 23680.193\n",
      "The model validation accuracy is: 90.85%\n"
     ]
    }
   ],
   "source": [
    "mnist_soft = NeuralNetwork(\n",
    "    layers=[Dense(neurons=10, \n",
    "                  activation=Sigmoid(),\n",
    "                 weight_init=\"xavier\")],\n",
    "            loss = SoftmaxCrossEntropy(),\n",
    "seed=190119)\n",
    "\n",
    "trainer = Trainer(mnist_soft, SGD(lr=0.1, exp_decay=0.9))\n",
    "trainer.fit(X_train, train_labels, X_test, test_labels,\n",
    "            epochs = 10,\n",
    "            eval_every = 2,\n",
    "            seed=190119,\n",
    "            batch_size=60,\n",
    "            early_stopping=False);\n",
    "\n",
    "\n",
    "calc_accuracy_model(mnist_soft, X_test)"
   ]
  },
  {
   "cell_type": "markdown",
   "metadata": {},
   "source": [
    "#### Linear decay"
   ]
  },
  {
   "cell_type": "code",
   "execution_count": 58,
   "metadata": {},
   "outputs": [
    {
     "name": "stdout",
     "output_type": "stream",
     "text": [
      "Validation loss after 2 epochs is 23800.268\n",
      "Validation loss after 4 epochs is 23693.795\n",
      "Validation loss after 6 epochs is 23673.747\n",
      "Validation loss after 8 epochs is 23664.769\n",
      "Validation loss after 10 epochs is 23670.175\n",
      "The model validation accuracy is: 90.85%\n"
     ]
    }
   ],
   "source": [
    "mnist_soft = NeuralNetwork(\n",
    "    layers=[Dense(neurons=10, \n",
    "                  activation=Sigmoid(),\n",
    "                 weight_init=\"xavier\")],\n",
    "            loss = SoftmaxCrossEntropy(),\n",
    "seed=190119)\n",
    "\n",
    "trainer = Trainer(mnist_soft, SGD(lr=0.1, final_lr_linear=0.01))\n",
    "trainer.fit(X_train, train_labels, X_test, test_labels,\n",
    "            epochs = 10,\n",
    "            eval_every = 2,\n",
    "            seed=190119,\n",
    "            batch_size=60,\n",
    "            early_stopping=False);\n",
    "\n",
    "\n",
    "calc_accuracy_model(mnist_soft, X_test)"
   ]
  },
  {
   "cell_type": "code",
   "execution_count": 64,
   "metadata": {},
   "outputs": [
    {
     "name": "stdout",
     "output_type": "stream",
     "text": [
      "Validation loss after 2 epochs is 23838.274\n",
      "Validation loss after 4 epochs is 23749.957\n",
      "Validation loss after 6 epochs is 23704.080\n",
      "Validation loss after 8 epochs is 23690.513\n",
      "Validation loss after 10 epochs is 23691.833\n",
      "The model validation accuracy is: 90.95%\n"
     ]
    }
   ],
   "source": [
    "mnist_soft = NeuralNetwork(\n",
    "    layers=[Dense(neurons=10, \n",
    "                  activation=Sigmoid(),\n",
    "                 weight_init=\"xavier\")],\n",
    "            loss = SoftmaxCrossEntropy(),\n",
    "seed=190119)\n",
    "\n",
    "trainer = Trainer(mnist_soft, SGDMomentum(lr=0.1, \n",
    "                                          momentum=0.5,\n",
    "                                          final_lr_linear=0.01))\n",
    "trainer.fit(X_train, train_labels, X_test, test_labels,\n",
    "            epochs = 10,\n",
    "            eval_every = 2,\n",
    "            seed=190119,\n",
    "            batch_size=60,\n",
    "            early_stopping=False);\n",
    "\n",
    "\n",
    "calc_accuracy_model(mnist_soft, X_test)"
   ]
  },
  {
   "cell_type": "markdown",
   "metadata": {},
   "source": [
    "### Dropout"
   ]
  },
  {
   "cell_type": "code",
   "execution_count": 65,
   "metadata": {},
   "outputs": [
    {
     "name": "stdout",
     "output_type": "stream",
     "text": [
      "Validation loss after 2 epochs is 25689.932\n",
      "Validation loss after 4 epochs is 25617.219\n",
      "Validation loss after 6 epochs is 25561.961\n",
      "Validation loss after 8 epochs is 25563.718\n",
      "Validation loss after 10 epochs is 25539.547\n",
      "The model validation accuracy is: 73.35%\n"
     ]
    }
   ],
   "source": [
    "mnist_soft = NeuralNetwork(\n",
    "    layers=[Dense(neurons=10, \n",
    "                  activation=Sigmoid(),\n",
    "                 weight_init=\"xavier\",\n",
    "                 dropout=0.9)],\n",
    "            loss = SoftmaxCrossEntropy(),\n",
    "seed=190119)\n",
    "\n",
    "trainer = Trainer(mnist_soft, SGDMomentum(lr=0.1, \n",
    "                                          momentum=0.5,\n",
    "                                          final_lr_linear=0.01))\n",
    "trainer.fit(X_train, train_labels, X_test, test_labels,\n",
    "            epochs = 10,\n",
    "            eval_every = 2,\n",
    "            seed=190119,\n",
    "            batch_size=60,\n",
    "            early_stopping=False);\n",
    "\n",
    "\n",
    "calc_accuracy_model(mnist_soft, X_test)"
   ]
  },
  {
   "cell_type": "code",
   "execution_count": 66,
   "metadata": {},
   "outputs": [
    {
     "name": "stdout",
     "output_type": "stream",
     "text": [
      "Validation loss after 2 epochs is 31757.353\n",
      "Validation loss after 4 epochs is 31738.945\n",
      "Validation loss after 6 epochs is 31728.442\n",
      "Validation loss after 8 epochs is 31725.641\n",
      "Validation loss after 10 epochs is 31726.017\n",
      "The model validation accuracy is: 12.75%\n"
     ]
    }
   ],
   "source": [
    "mnist_soft = NeuralNetwork(\n",
    "    layers=[Dense(neurons=10, \n",
    "                  activation=Sigmoid(),\n",
    "                 weight_init=\"xavier\",\n",
    "                 dropout=0.1)],\n",
    "            loss = SoftmaxCrossEntropy(),\n",
    "seed=190119)\n",
    "\n",
    "trainer = Trainer(mnist_soft, SGDMomentum(lr=0.1, \n",
    "                                          momentum=0.5,\n",
    "                                          final_lr_linear=0.01))\n",
    "trainer.fit(X_train, train_labels, X_test, test_labels,\n",
    "            epochs = 10,\n",
    "            eval_every = 2,\n",
    "            seed=190119,\n",
    "            batch_size=60,\n",
    "            early_stopping=False);\n",
    "\n",
    "\n",
    "calc_accuracy_model(mnist_soft, X_test)"
   ]
  },
  {
   "cell_type": "markdown",
   "metadata": {},
   "source": [
    "# Neural Networks"
   ]
  },
  {
   "cell_type": "code",
   "execution_count": 67,
   "metadata": {},
   "outputs": [
    {
     "data": {
      "text/plain": [
       "(-0.424073894391566, 2.821543345689335, -0.424073894391566, 2.821543345689335)"
      ]
     },
     "execution_count": 67,
     "metadata": {},
     "output_type": "execute_result"
    }
   ],
   "source": [
    "np.min(X_train), np.max(X_train), np.min(X_test), np.max(X_test)"
   ]
  },
  {
   "cell_type": "markdown",
   "metadata": {},
   "source": [
    "#### SGD LR = 1"
   ]
  },
  {
   "cell_type": "code",
   "execution_count": 72,
   "metadata": {},
   "outputs": [
    {
     "name": "stdout",
     "output_type": "stream",
     "text": [
      "Validation loss after 1 epochs is 25379.959\n",
      "Loss increased after epoch 2, final loss was 25379.959, using model from epoch 1\n"
     ]
    },
    {
     "data": {
      "text/plain": [
       "0.729"
      ]
     },
     "execution_count": 72,
     "metadata": {},
     "output_type": "execute_result"
    }
   ],
   "source": [
    "mnist_soft_nn = NeuralNetwork(\n",
    "    layers=[Dense(neurons=89, \n",
    "                  activation=Tanh()),\n",
    "            Dense(neurons=10, \n",
    "                  activation=Sigmoid())],\n",
    "            loss = SoftmaxCrossEntropy(), \n",
    "seed=190119)\n",
    "\n",
    "trainer = Trainer(mnist_soft_nn, SGD(1))\n",
    "trainer.fit(X_train, train_labels, X_test, test_labels,\n",
    "       epochs = 10,\n",
    "       eval_every = 1,\n",
    "       seed=190119,\n",
    "            batch_size=60);\n",
    "\n",
    "np.equal(np.argmax(mnist_soft_nn.forward(X_test), axis=1), y_test).sum() / 10000.0"
   ]
  },
  {
   "cell_type": "markdown",
   "metadata": {},
   "source": [
    "Conclusion: bad."
   ]
  },
  {
   "cell_type": "markdown",
   "metadata": {},
   "source": [
    "LR = 0.1"
   ]
  },
  {
   "cell_type": "code",
   "execution_count": 77,
   "metadata": {},
   "outputs": [
    {
     "name": "stdout",
     "output_type": "stream",
     "text": [
      "Validation loss after 1 epochs is 24144.350\n",
      "Validation loss after 2 epochs is 23808.220\n",
      "Validation loss after 3 epochs is 23663.812\n",
      "Validation loss after 4 epochs is 23567.897\n",
      "Validation loss after 5 epochs is 23498.870\n",
      "The model validation accuracy is: 92.34%\n"
     ]
    }
   ],
   "source": [
    "mnist_soft_nn = NeuralNetwork(\n",
    "    layers=[Dense(neurons=89, \n",
    "                  activation=Tanh()),\n",
    "            Dense(neurons=10, \n",
    "                  activation=Sigmoid())],\n",
    "            loss = SoftmaxCrossEntropy(), \n",
    "seed=190119)\n",
    "\n",
    "trainer = Trainer(mnist_soft_nn, SGD(0.1))\n",
    "trainer.fit(X_train, train_labels, X_test, test_labels,\n",
    "       epochs = 5,\n",
    "       eval_every = 1,\n",
    "       seed=190119,\n",
    "            batch_size=60);\n",
    "\n",
    "calc_accuracy_model(mnist_soft_nn, X_test)"
   ]
  },
  {
   "cell_type": "code",
   "execution_count": null,
   "metadata": {},
   "outputs": [],
   "source": [
    "# mnist_soft_nn = NeuralNetwork(\n",
    "#     layers=[Dense(neurons=256, \n",
    "#                   activation=Tanh()),\n",
    "#             Dense(neurons=10, \n",
    "#                   activation=Sigmoid())],\n",
    "#             loss = SoftmaxCrossEntropyLossComplex(), \n",
    "# seed=190119)\n",
    "\n",
    "# trainer = Trainer(mnist_soft_nn, SGD(0.1))\n",
    "# trainer.fit(X_train, train_labels, X_test, test_labels,\n",
    "#        epochs = 5,\n",
    "#        eval_every = 1,\n",
    "#        seed=190119,\n",
    "#             batch_size=60);\n",
    "\n",
    "# np.equal(np.argmax(mnist_soft_nn.forward(X_test), axis=1), y_test).sum() / 10000.0"
   ]
  },
  {
   "cell_type": "markdown",
   "metadata": {},
   "source": [
    "#### SGD LR = 0.1, Glorot init"
   ]
  },
  {
   "cell_type": "code",
   "execution_count": 78,
   "metadata": {},
   "outputs": [
    {
     "name": "stdout",
     "output_type": "stream",
     "text": [
      "Validation loss after 1 epochs is 23796.343\n",
      "Validation loss after 2 epochs is 23609.039\n",
      "Validation loss after 3 epochs is 23444.673\n",
      "Validation loss after 4 epochs is 23394.079\n",
      "Loss increased after epoch 5, final loss was 23394.079, using model from epoch 4\n",
      "The model validation accuracy is: 93.13%\n"
     ]
    }
   ],
   "source": [
    "mnist_soft_nn = NeuralNetwork(\n",
    "    layers=[Dense(neurons=89, \n",
    "                  activation=Tanh(),\n",
    "                 weight_init=\"glorot\"),\n",
    "            Dense(neurons=10, \n",
    "                  activation=Sigmoid(),\n",
    "                  weight_init=\"glorot\")],\n",
    "            loss = SoftmaxCrossEntropy(), \n",
    "seed=190119)\n",
    "\n",
    "trainer = Trainer(mnist_soft_nn, SGD(0.1))\n",
    "trainer.fit(X_train, train_labels, X_test, test_labels,\n",
    "       epochs = 5,\n",
    "       eval_every = 1,\n",
    "       seed=190119,\n",
    "            batch_size=60);\n",
    "\n",
    "calc_accuracy_model(mnist_soft_nn, X_test)"
   ]
  },
  {
   "cell_type": "markdown",
   "metadata": {},
   "source": [
    "#### SGD LR = 0.1, Momentum = 0.5"
   ]
  },
  {
   "cell_type": "code",
   "execution_count": null,
   "metadata": {},
   "outputs": [],
   "source": [
    "mnist_soft_nn = NeuralNetwork(\n",
    "    layers=[Dense(neurons=256, \n",
    "                  activation=Tanh(),\n",
    "                  weight_init=\"xavier\"),\n",
    "            Dense(neurons=10, \n",
    "                  activation=Sigmoid(),\n",
    "                  weight_init=\"xavier\")],\n",
    "            loss = SoftmaxCrossEntropyLoss(), \n",
    "seed=190119)\n",
    "\n",
    "trainer = Trainer(mnist_soft_nn, SGDMomentum(lr=0.1, momentum=0.5))\n",
    "trainer.fit(X_train, train_labels, X_test, test_labels,\n",
    "       epochs = 10,\n",
    "       eval_every = 1,\n",
    "       seed=190119,\n",
    "            batch_size=60,\n",
    "           early_stopping=False);\n",
    "\n",
    "np.equal(np.argmax(mnist_soft_nn.forward(X_test), axis=1), y_test).sum() / 10000.0"
   ]
  },
  {
   "cell_type": "markdown",
   "metadata": {},
   "source": [
    "## Appendix"
   ]
  },
  {
   "cell_type": "markdown",
   "metadata": {},
   "source": [
    "## Logistic regression, wrong learning rate"
   ]
  },
  {
   "cell_type": "code",
   "execution_count": null,
   "metadata": {},
   "outputs": [],
   "source": [
    "mnist_soft = NeuralNetwork(\n",
    "    layers=[Dense(neurons=10, \n",
    "                  activation=Sigmoid())],\n",
    "            loss = SoftmaxCrossEntropy(), \n",
    "seed=190119)\n",
    "\n",
    "trainer = Trainer(mnist_soft, SGD(1))\n",
    "trainer.fit(X_train, train_labels, X_test, test_labels,\n",
    "            epochs = 10,\n",
    "            eval_every = 2,\n",
    "            seed=190119,\n",
    "            batch_size=60);\n",
    "\n",
    "calc_accuracy_model(mnist_soft, X_test)"
   ]
  },
  {
   "cell_type": "code",
   "execution_count": null,
   "metadata": {},
   "outputs": [],
   "source": [
    "mnist_soft = NeuralNetwork(\n",
    "    layers=[Dense(neurons=10, \n",
    "                  activation=Sigmoid())],\n",
    "            loss = SoftmaxCrossEntropy(), \n",
    "seed=190119)\n",
    "\n",
    "trainer = Trainer(mnist_soft, SGD(0.01))\n",
    "trainer.fit(X_train, train_labels, X_test, test_labels,\n",
    "            epochs = 10,\n",
    "            eval_every = 2,\n",
    "            seed=190119,\n",
    "            batch_size=60);\n",
    "\n",
    "calc_accuracy_model(mnist_soft, X_test)"
   ]
  }
 ],
 "metadata": {
  "kernelspec": {
   "display_name": "Python 3",
   "language": "python",
   "name": "python3"
  },
  "language_info": {
   "codemirror_mode": {
    "name": "ipython",
    "version": 3
   },
   "file_extension": ".py",
   "mimetype": "text/x-python",
   "name": "python",
   "nbconvert_exporter": "python",
   "pygments_lexer": "ipython3",
   "version": "3.6.6"
  }
 },
 "nbformat": 4,
 "nbformat_minor": 2
}
