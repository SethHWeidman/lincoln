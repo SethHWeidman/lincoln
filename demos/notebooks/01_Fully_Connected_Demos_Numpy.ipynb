{
 "cells": [
  {
   "cell_type": "code",
   "execution_count": 31,
   "metadata": {},
   "outputs": [],
   "source": [
    "# ignore warnings\n",
    "import warnings\n",
    "warnings.filterwarnings('ignore')\n",
    "\n",
    "import numpy as np\n",
    "from numpy import ndarray"
   ]
  },
  {
   "cell_type": "code",
   "execution_count": 32,
   "metadata": {},
   "outputs": [
    {
     "name": "stdout",
     "output_type": "stream",
     "text": [
      "The autoreload extension is already loaded. To reload it, use:\n",
      "  %reload_ext autoreload\n"
     ]
    }
   ],
   "source": [
    "%load_ext autoreload\n",
    "%autoreload 2"
   ]
  },
  {
   "cell_type": "code",
   "execution_count": 33,
   "metadata": {},
   "outputs": [],
   "source": [
    "import lincoln\n",
    "from lincoln.numpy.layers import Dense\n",
    "from lincoln.numpy.losses import MeanSquaredError\n",
    "from lincoln.numpy.optimizers import SGD\n",
    "from lincoln.numpy.activations import Sigmoid, Tanh, Linear\n",
    "from lincoln.numpy.network import NeuralNetwork"
   ]
  },
  {
   "cell_type": "markdown",
   "metadata": {},
   "source": [
    "## Regression network"
   ]
  },
  {
   "cell_type": "code",
   "execution_count": 34,
   "metadata": {},
   "outputs": [],
   "source": [
    "from sklearn.datasets import load_boston\n",
    "\n",
    "boston = load_boston()\n",
    "\n",
    "data = boston.data\n",
    "target = boston.target\n",
    "features = boston.feature_names\n",
    "\n",
    "from sklearn.preprocessing import StandardScaler\n",
    "s = StandardScaler()\n",
    "data = s.fit_transform(data)\n",
    "\n",
    "from sklearn.model_selection import train_test_split\n",
    "X_train, X_test, y_train, y_test = train_test_split(data, target, test_size=0.3, random_state=80718)\n",
    "\n",
    "y_train, y_test = y_train.reshape(-1, 1), y_test.reshape(-1, 1)"
   ]
  },
  {
   "cell_type": "markdown",
   "metadata": {},
   "source": [
    "## Regression models"
   ]
  },
  {
   "cell_type": "markdown",
   "metadata": {},
   "source": [
    "#### Linear Regression"
   ]
  },
  {
   "cell_type": "code",
   "execution_count": 35,
   "metadata": {},
   "outputs": [],
   "source": [
    "from lincoln.numpy.train import Trainer"
   ]
  },
  {
   "cell_type": "code",
   "execution_count": 36,
   "metadata": {},
   "outputs": [],
   "source": [
    "lr = NeuralNetwork(\n",
    "    layers=[Dense(neurons=1, \n",
    "                  activation=Linear())], \n",
    "            loss = MeanSquaredError(),\n",
    "seed=190120)\n",
    "\n",
    "trainer = Trainer(lr, SGD(lr=0.001))"
   ]
  },
  {
   "cell_type": "code",
   "execution_count": 37,
   "metadata": {},
   "outputs": [
    {
     "name": "stdout",
     "output_type": "stream",
     "text": [
      "Validation loss after 300 epochs is 26.057\n",
      "Validation loss after 600 epochs is 25.836\n",
      "Validation loss after 900 epochs is 25.456\n",
      "Loss increased after epoch 1200, final loss was 25.456, using the model from epoch 900\n"
     ]
    }
   ],
   "source": [
    "trainer.fit(X_train, y_train, X_test, y_test,  \n",
    "       epochs = 3000,\n",
    "       eval_every = 300,\n",
    "       seed=181008,\n",
    "           restart=True);"
   ]
  },
  {
   "cell_type": "code",
   "execution_count": 38,
   "metadata": {},
   "outputs": [
    {
     "name": "stdout",
     "output_type": "stream",
     "text": [
      "Validation loss after 10 epochs is 321.210\n",
      "Validation loss after 20 epochs is 203.308\n",
      "Validation loss after 30 epochs is 134.012\n",
      "Validation loss after 40 epochs is 90.925\n",
      "Validation loss after 50 epochs is 65.545\n"
     ]
    }
   ],
   "source": [
    "# test \"restart\"\n",
    "trainer.fit(X_train, y_train, X_test, y_test,  \n",
    "       epochs = 50,\n",
    "       eval_every = 10,\n",
    "       seed=181008,\n",
    "           restart=True);"
   ]
  },
  {
   "cell_type": "code",
   "execution_count": 39,
   "metadata": {},
   "outputs": [],
   "source": [
    "def mae(y_true, y_pred):\n",
    "    \n",
    "#     assert_same_shape(y_true, y_pred)\n",
    "    \n",
    "    return np.round(np.mean(np.abs(y_true - y_pred)), 4)\n",
    "\n",
    "def mse(y_true, y_pred):\n",
    "    \n",
    "#     assert_same_shape(y_true, y_pred)\n",
    "    \n",
    "    return np.round(np.mean(np.power(y_true - y_pred, 2)), 4)\n",
    "\n",
    "def rmse(y_true, y_pred):\n",
    "    \n",
    "#     assert_same_shape(y_true, y_pred)\n",
    "    \n",
    "    return np.round(np.sqrt(np.mean(np.power(y_true - y_pred, 2))), 4)"
   ]
  },
  {
   "cell_type": "code",
   "execution_count": 40,
   "metadata": {},
   "outputs": [],
   "source": [
    "def eval_regression_model(model: NeuralNetwork, \n",
    "                          X_test: ndarray, \n",
    "                          y_test: ndarray):\n",
    "    preds = model.forward(X_test, inference=True)\n",
    "    preds = preds.reshape(-1, 1)\n",
    "    print(\"Mean absolute error: {:.2f}\".format(mae(preds, y_test)))\n",
    "    print()\n",
    "    print(\"Mean squared error {:.2f}\".format(mse(preds, y_test)))\n",
    "    print()\n",
    "    print(\"Root mean squared error {:.2f}\".format(rmse(preds, y_test)))"
   ]
  },
  {
   "cell_type": "code",
   "execution_count": 41,
   "metadata": {},
   "outputs": [
    {
     "name": "stdout",
     "output_type": "stream",
     "text": [
      "Mean absolute error: 3.57\n",
      "\n",
      "Mean squared error 25.61\n",
      "\n",
      "Root mean squared error 5.06\n"
     ]
    }
   ],
   "source": [
    "eval_regression_model(lr, X_test, y_test)"
   ]
  },
  {
   "cell_type": "markdown",
   "metadata": {},
   "source": [
    "Works!"
   ]
  },
  {
   "cell_type": "code",
   "execution_count": 42,
   "metadata": {},
   "outputs": [
    {
     "name": "stdout",
     "output_type": "stream",
     "text": [
      "Validation loss after 300 epochs is 20.639\n",
      "Validation loss after 600 epochs is 16.549\n",
      "Validation loss after 900 epochs is 13.950\n",
      "Validation loss after 1200 epochs is 13.425\n",
      "Validation loss after 1500 epochs is 13.088\n",
      "Validation loss after 1800 epochs is 12.687\n",
      "Validation loss after 2100 epochs is 12.614\n",
      "Validation loss after 2400 epochs is 12.536\n",
      "Loss increased after epoch 2700, final loss was 12.536, using the model from epoch 2400\n"
     ]
    }
   ],
   "source": [
    "neural_network = NeuralNetwork(\n",
    "    layers=[Dense(neurons=13,\n",
    "                  activation=Sigmoid()),\n",
    "            Dense(neurons=1,\n",
    "                  activation=Linear())],\n",
    "            loss = MeanSquaredError(),\n",
    "seed=190120)\n",
    "\n",
    "trainer = Trainer(neural_network, SGD(lr=0.001))\n",
    "\n",
    "trainer.fit(X_train, y_train, X_test, y_test,  \n",
    "       epochs = 3000,\n",
    "       eval_every = 300,\n",
    "       seed=181008);"
   ]
  },
  {
   "cell_type": "code",
   "execution_count": 43,
   "metadata": {},
   "outputs": [
    {
     "name": "stdout",
     "output_type": "stream",
     "text": [
      "Mean absolute error: 2.29\n",
      "\n",
      "Mean squared error 12.56\n",
      "\n",
      "Root mean squared error 3.54\n"
     ]
    }
   ],
   "source": [
    "eval_regression_model(neural_network, X_test, y_test)"
   ]
  },
  {
   "cell_type": "code",
   "execution_count": 49,
   "metadata": {},
   "outputs": [],
   "source": [
    "params = []\n",
    "for layer in neural_network.layers:\n",
    "    for op in layer.operations[:2]:\n",
    "        params.append(op.param)"
   ]
  },
  {
   "cell_type": "code",
   "execution_count": 54,
   "metadata": {},
   "outputs": [],
   "source": [
    "def np_sigmoid(x) -> np.ndarray:\n",
    "    return 1.0/(1.0+np.exp(-1.0 * x))"
   ]
  },
  {
   "cell_type": "code",
   "execution_count": 57,
   "metadata": {},
   "outputs": [
    {
     "data": {
      "text/plain": [
       "array([[47.33268377],\n",
       "       [ 8.98516824],\n",
       "       [13.91075996],\n",
       "       [ 7.93468361],\n",
       "       [16.13168504],\n",
       "       [20.5552775 ],\n",
       "       [11.68654007],\n",
       "       [19.87925746],\n",
       "       [33.24143095],\n",
       "       [22.97014045],\n",
       "       [32.93132696],\n",
       "       [17.72598242],\n",
       "       [13.81478134],\n",
       "       [40.66145341],\n",
       "       [13.8490556 ],\n",
       "       [23.08421123],\n",
       "       [11.34911861],\n",
       "       [30.9404698 ],\n",
       "       [19.67914775],\n",
       "       [19.95585143],\n",
       "       [22.64909092],\n",
       "       [24.26664269],\n",
       "       [11.36156652],\n",
       "       [22.11381357],\n",
       "       [16.3174684 ],\n",
       "       [24.00972524],\n",
       "       [22.98795928],\n",
       "       [36.21887023],\n",
       "       [31.42414979],\n",
       "       [19.91930403],\n",
       "       [ 7.04070053],\n",
       "       [ 6.40581856],\n",
       "       [27.3933198 ],\n",
       "       [19.84623511],\n",
       "       [18.39812903],\n",
       "       [44.2827755 ],\n",
       "       [39.27353192],\n",
       "       [21.82063106],\n",
       "       [23.72349305],\n",
       "       [25.77403619],\n",
       "       [37.45999248],\n",
       "       [19.53796451],\n",
       "       [41.60743969],\n",
       "       [15.61976654],\n",
       "       [28.80659748],\n",
       "       [26.28986938],\n",
       "       [18.49601057],\n",
       "       [18.05726605],\n",
       "       [ 7.17183249],\n",
       "       [20.91519348],\n",
       "       [17.52950723],\n",
       "       [ 9.1593708 ],\n",
       "       [21.33332439],\n",
       "       [19.87526956],\n",
       "       [19.20634025],\n",
       "       [33.2998623 ],\n",
       "       [19.67659066],\n",
       "       [16.47671608],\n",
       "       [17.42767275],\n",
       "       [14.53640527],\n",
       "       [23.98710672],\n",
       "       [31.85681903],\n",
       "       [12.31875432],\n",
       "       [32.65321491],\n",
       "       [17.67201521],\n",
       "       [29.395649  ],\n",
       "       [27.29041917],\n",
       "       [11.350167  ],\n",
       "       [10.70285073],\n",
       "       [12.64704729],\n",
       "       [13.10740617],\n",
       "       [14.58673816],\n",
       "       [11.81981781],\n",
       "       [ 8.52541301],\n",
       "       [ 9.67750256],\n",
       "       [20.75463451],\n",
       "       [13.40875973],\n",
       "       [16.69881778],\n",
       "       [19.3692818 ],\n",
       "       [17.44355734],\n",
       "       [13.70967355],\n",
       "       [20.60082771],\n",
       "       [21.09307698],\n",
       "       [17.17163505],\n",
       "       [19.28655461],\n",
       "       [ 6.27238867],\n",
       "       [32.22348298],\n",
       "       [15.17132562],\n",
       "       [20.33899571],\n",
       "       [ 7.59974156],\n",
       "       [17.08157305],\n",
       "       [20.40737068],\n",
       "       [13.44106225],\n",
       "       [33.29830317],\n",
       "       [39.38843987],\n",
       "       [23.92183851],\n",
       "       [19.27674191],\n",
       "       [39.24878047],\n",
       "       [16.36290873],\n",
       "       [49.85777896],\n",
       "       [17.00565279],\n",
       "       [14.08790326],\n",
       "       [19.67085913],\n",
       "       [17.35916321],\n",
       "       [15.84837213],\n",
       "       [16.77389785],\n",
       "       [19.17324691],\n",
       "       [18.02066215],\n",
       "       [15.23934287],\n",
       "       [14.91048623],\n",
       "       [18.16637049],\n",
       "       [24.73286672],\n",
       "       [16.47080514],\n",
       "       [19.85566254],\n",
       "       [19.47383578],\n",
       "       [15.53766797],\n",
       "       [15.77019448],\n",
       "       [16.77856791],\n",
       "       [13.83948987],\n",
       "       [26.76114547],\n",
       "       [18.18699096],\n",
       "       [17.27209239],\n",
       "       [10.91200805],\n",
       "       [17.2909404 ],\n",
       "       [13.44568739],\n",
       "       [26.51623846],\n",
       "       [21.85056161],\n",
       "       [34.0779493 ],\n",
       "       [21.47558758],\n",
       "       [21.43642807],\n",
       "       [26.21062402],\n",
       "       [21.61262501],\n",
       "       [11.04558052],\n",
       "       [33.2099529 ],\n",
       "       [ 6.10618882],\n",
       "       [11.94280808],\n",
       "       [48.01264433],\n",
       "       [12.81779696],\n",
       "       [17.74505966],\n",
       "       [23.93254417],\n",
       "       [24.51709965],\n",
       "       [14.58671288],\n",
       "       [18.63943163],\n",
       "       [ 9.49873812],\n",
       "       [20.68210021],\n",
       "       [35.61557747],\n",
       "       [16.41541466],\n",
       "       [24.05505117],\n",
       "       [13.15736769],\n",
       "       [17.8043351 ],\n",
       "       [20.94206393],\n",
       "       [48.58313657]])"
      ]
     },
     "execution_count": 57,
     "metadata": {},
     "output_type": "execute_result"
    }
   ],
   "source": [
    "layer1 = np.dot(X_test, params[0]) + params[1]\n",
    "out1 = np_sigmoid(layer1)"
   ]
  },
  {
   "cell_type": "code",
   "execution_count": 60,
   "metadata": {},
   "outputs": [
    {
     "data": {
      "text/plain": [
       "0.3757706299334572"
      ]
     },
     "execution_count": 60,
     "metadata": {},
     "output_type": "execute_result"
    }
   ],
   "source": [
    "out1.mean()"
   ]
  },
  {
   "cell_type": "code",
   "execution_count": 46,
   "metadata": {},
   "outputs": [
    {
     "data": {
      "text/plain": [
       "array([[48.92120464],\n",
       "       [10.57368911],\n",
       "       [15.49928083],\n",
       "       [ 9.52320448],\n",
       "       [17.7202059 ],\n",
       "       [22.14379837],\n",
       "       [13.27506094],\n",
       "       [21.46777833],\n",
       "       [34.82995182],\n",
       "       [24.55866132],\n",
       "       [34.51984783],\n",
       "       [19.31450329],\n",
       "       [15.40330221],\n",
       "       [42.24997428],\n",
       "       [15.43757647],\n",
       "       [24.6727321 ],\n",
       "       [12.93763948],\n",
       "       [32.52899067],\n",
       "       [21.26766862],\n",
       "       [21.5443723 ],\n",
       "       [24.23761178],\n",
       "       [25.85516356],\n",
       "       [12.95008739],\n",
       "       [23.70233444],\n",
       "       [17.90598927],\n",
       "       [25.59824611],\n",
       "       [24.57648015],\n",
       "       [37.8073911 ],\n",
       "       [33.01267066],\n",
       "       [21.5078249 ],\n",
       "       [ 8.6292214 ],\n",
       "       [ 7.99433943],\n",
       "       [28.98184067],\n",
       "       [21.43475598],\n",
       "       [19.9866499 ],\n",
       "       [45.87129637],\n",
       "       [40.86205279],\n",
       "       [23.40915193],\n",
       "       [25.31201392],\n",
       "       [27.36255706],\n",
       "       [39.04851335],\n",
       "       [21.12648538],\n",
       "       [43.19596056],\n",
       "       [17.20828741],\n",
       "       [30.39511835],\n",
       "       [27.87839024],\n",
       "       [20.08453144],\n",
       "       [19.64578691],\n",
       "       [ 8.76035336],\n",
       "       [22.50371435],\n",
       "       [19.11802809],\n",
       "       [10.74789167],\n",
       "       [22.92184526],\n",
       "       [21.46379043],\n",
       "       [20.79486112],\n",
       "       [34.88838317],\n",
       "       [21.26511152],\n",
       "       [18.06523694],\n",
       "       [19.01619362],\n",
       "       [16.12492613],\n",
       "       [25.57562759],\n",
       "       [33.4453399 ],\n",
       "       [13.90727519],\n",
       "       [34.24173578],\n",
       "       [19.26053608],\n",
       "       [30.98416987],\n",
       "       [28.87894004],\n",
       "       [12.93868787],\n",
       "       [12.29137159],\n",
       "       [14.23556816],\n",
       "       [14.69592704],\n",
       "       [16.17525903],\n",
       "       [13.40833868],\n",
       "       [10.11393388],\n",
       "       [11.26602343],\n",
       "       [22.34315538],\n",
       "       [14.9972806 ],\n",
       "       [18.28733865],\n",
       "       [20.95780267],\n",
       "       [19.03207821],\n",
       "       [15.29819442],\n",
       "       [22.18934858],\n",
       "       [22.68159785],\n",
       "       [18.76015591],\n",
       "       [20.87507548],\n",
       "       [ 7.86090954],\n",
       "       [33.81200384],\n",
       "       [16.75984648],\n",
       "       [21.92751658],\n",
       "       [ 9.18826242],\n",
       "       [18.67009392],\n",
       "       [21.99589155],\n",
       "       [15.02958312],\n",
       "       [34.88682404],\n",
       "       [40.97696074],\n",
       "       [25.51035938],\n",
       "       [20.86526277],\n",
       "       [40.83730134],\n",
       "       [17.9514296 ],\n",
       "       [51.44629983],\n",
       "       [18.59417366],\n",
       "       [15.67642412],\n",
       "       [21.25938   ],\n",
       "       [18.94768408],\n",
       "       [17.436893  ],\n",
       "       [18.36241871],\n",
       "       [20.76176778],\n",
       "       [19.60918302],\n",
       "       [16.82786373],\n",
       "       [16.49900709],\n",
       "       [19.75489136],\n",
       "       [26.32138759],\n",
       "       [18.059326  ],\n",
       "       [21.44418341],\n",
       "       [21.06235665],\n",
       "       [17.12618884],\n",
       "       [17.35871534],\n",
       "       [18.36708878],\n",
       "       [15.42801074],\n",
       "       [28.34966634],\n",
       "       [19.77551183],\n",
       "       [18.86061326],\n",
       "       [12.50052892],\n",
       "       [18.87946127],\n",
       "       [15.03420826],\n",
       "       [28.10475933],\n",
       "       [23.43908248],\n",
       "       [35.66647017],\n",
       "       [23.06410845],\n",
       "       [23.02494894],\n",
       "       [27.79914489],\n",
       "       [23.20114588],\n",
       "       [12.63410139],\n",
       "       [34.79847377],\n",
       "       [ 7.69470969],\n",
       "       [13.53132895],\n",
       "       [49.6011652 ],\n",
       "       [14.40631783],\n",
       "       [19.33358053],\n",
       "       [25.52106504],\n",
       "       [26.10562052],\n",
       "       [16.17523375],\n",
       "       [20.2279525 ],\n",
       "       [11.08725899],\n",
       "       [22.27062108],\n",
       "       [37.20409834],\n",
       "       [18.00393553],\n",
       "       [25.64357204],\n",
       "       [14.74588856],\n",
       "       [19.39285597],\n",
       "       [22.5305848 ],\n",
       "       [50.17165744]])"
      ]
     },
     "execution_count": 46,
     "metadata": {},
     "output_type": "execute_result"
    }
   ],
   "source": [
    "neural_network.forward(X_test)"
   ]
  },
  {
   "cell_type": "code",
   "execution_count": 189,
   "metadata": {},
   "outputs": [
    {
     "name": "stdout",
     "output_type": "stream",
     "text": [
      "Validation loss after 300 epochs is 15.072\n",
      "Validation loss after 600 epochs is 11.709\n",
      "Validation loss after 900 epochs is 11.144\n",
      "Validation loss after 1200 epochs is 10.025\n",
      "Validation loss after 1500 epochs is 9.862\n",
      "Validation loss after 1800 epochs is 9.462\n",
      "Validation loss after 2100 epochs is 9.355\n",
      "Loss increased after epoch 2400, final loss was 9.355, using the model from epoch 2100\n",
      "Mean absolute error: 2.12\n",
      "\n",
      "Mean squared error 9.46\n",
      "\n",
      "Root mean squared error 3.08\n"
     ]
    }
   ],
   "source": [
    "dl = NeuralNetwork(\n",
    "    layers=[Dense(neurons=13,\n",
    "                  activation=Sigmoid()),\n",
    "            Dense(neurons=7,\n",
    "                  activation=Sigmoid()),\n",
    "            Dense(neurons=1,\n",
    "                  activation=Linear())],\n",
    "            loss = MeanSquaredError(),\n",
    "seed=190120)\n",
    "\n",
    "trainer = Trainer(dl, SGD(lr=0.001))\n",
    "\n",
    "trainer.fit(X_train, y_train, X_test, y_test,  \n",
    "       epochs = 3000,\n",
    "       eval_every = 300,\n",
    "       seed=181008);\n",
    "\n",
    "eval_regression_model(dl, X_test, y_test)"
   ]
  },
  {
   "cell_type": "markdown",
   "metadata": {},
   "source": [
    "#### Testing momentum"
   ]
  },
  {
   "cell_type": "code",
   "execution_count": 14,
   "metadata": {},
   "outputs": [],
   "source": [
    "from lincoln.numpy.optimizers import SGDMomentum"
   ]
  },
  {
   "cell_type": "code",
   "execution_count": 38,
   "metadata": {},
   "outputs": [
    {
     "name": "stdout",
     "output_type": "stream",
     "text": [
      "Validation loss after 10 epochs is 20838.548\n",
      "Validation loss after 20 epochs is 7817.896\n",
      "Validation loss after 30 epochs is 4833.318\n",
      "Validation loss after 40 epochs is 4169.564\n",
      "Validation loss after 50 epochs is 4032.698\n",
      "Validation loss after 60 epochs is 4013.282\n",
      "Validation loss after 70 epochs is 3998.216\n",
      "Validation loss after 80 epochs is 3988.487\n",
      "Validation loss after 90 epochs is 3978.392\n",
      "Validation loss after 100 epochs is 3975.622\n"
     ]
    },
    {
     "data": {
      "text/plain": [
       "(3.5767, 26.1554)"
      ]
     },
     "execution_count": 38,
     "metadata": {},
     "output_type": "execute_result"
    }
   ],
   "source": [
    "lr = NeuralNetwork(\n",
    "    layers=[Dense(neurons=1)], \n",
    "            loss = MeanSquaredError(),\n",
    "seed=190120)\n",
    "trainer = Trainer(lr, SGD(lr=0.0001))\n",
    "\n",
    "trainer.fit(X_train, y_train, X_test, y_test,  \n",
    "       epochs = 100,\n",
    "       eval_every = 10,\n",
    "       seed=10818,\n",
    "       single_output=True);\n",
    "eval_regression_model(lr, X_test, y_test)"
   ]
  },
  {
   "cell_type": "markdown",
   "metadata": {},
   "source": [
    "#### \"Neural Network\" Regression"
   ]
  },
  {
   "cell_type": "code",
   "execution_count": 35,
   "metadata": {},
   "outputs": [
    {
     "name": "stdout",
     "output_type": "stream",
     "text": [
      "Validation loss after 10 epochs is 6088.269\n",
      "Validation loss after 20 epochs is 4895.965\n",
      "Validation loss after 30 epochs is 4427.666\n",
      "Validation loss after 40 epochs is 4128.529\n",
      "Validation loss after 50 epochs is 3913.145\n",
      "Validation loss after 60 epochs is 3739.412\n",
      "Validation loss after 70 epochs is 3576.793\n",
      "Validation loss after 80 epochs is 3432.877\n",
      "Validation loss after 90 epochs is 3299.273\n",
      "Validation loss after 100 epochs is 3186.684\n",
      "Validation loss after 110 epochs is 3085.751\n",
      "Validation loss after 120 epochs is 2993.504\n",
      "Validation loss after 130 epochs is 2915.235\n",
      "Validation loss after 140 epochs is 2839.337\n",
      "Validation loss after 150 epochs is 2773.950\n",
      "Validation loss after 160 epochs is 2717.566\n",
      "Validation loss after 170 epochs is 2661.759\n",
      "Validation loss after 180 epochs is 2607.947\n",
      "Validation loss after 190 epochs is 2561.281\n",
      "Validation loss after 200 epochs is 2518.434\n",
      "Validation loss after 210 epochs is 2478.278\n",
      "Validation loss after 220 epochs is 2443.188\n",
      "Validation loss after 230 epochs is 2403.318\n",
      "Validation loss after 240 epochs is 2367.491\n",
      "Validation loss after 250 epochs is 2336.027\n",
      "Validation loss after 260 epochs is 2299.951\n",
      "Validation loss after 270 epochs is 2266.176\n",
      "Validation loss after 280 epochs is 2228.943\n",
      "Validation loss after 290 epochs is 2192.353\n",
      "Validation loss after 300 epochs is 2155.016\n",
      "Validation loss after 310 epochs is 2127.430\n",
      "Validation loss after 320 epochs is 2109.196\n",
      "Validation loss after 330 epochs is 2100.169\n",
      "Validation loss after 340 epochs is 2091.033\n",
      "Validation loss after 350 epochs is 2085.405\n",
      "Validation loss after 360 epochs is 2078.165\n",
      "Validation loss after 370 epochs is 2070.247\n",
      "Validation loss after 380 epochs is 2062.179\n",
      "Validation loss after 390 epochs is 2054.261\n",
      "Validation loss after 400 epochs is 2046.118\n",
      "Validation loss after 410 epochs is 2038.279\n",
      "Validation loss after 420 epochs is 2029.690\n",
      "Validation loss after 430 epochs is 2025.637\n",
      "Validation loss after 440 epochs is 2019.657\n",
      "Validation loss after 450 epochs is 2010.539\n",
      "Validation loss after 460 epochs is 2005.750\n",
      "Validation loss after 470 epochs is 1999.845\n",
      "Validation loss after 480 epochs is 1994.498\n",
      "Validation loss after 490 epochs is 1988.612\n",
      "Validation loss after 500 epochs is 1982.995\n"
     ]
    }
   ],
   "source": [
    "nn = NeuralNetwork(\n",
    "    layers=[Dense(neurons=13, \n",
    "                  activation=Sigmoid()),\n",
    "            Dense(neurons=1, \n",
    "                  activation=Linear())], \n",
    "            loss = MeanSquaredError(),\n",
    "seed=190120)\n",
    "\n",
    "trainer = Trainer(nn, SGD(lr=0.0001))\n",
    "trainer.fit(X_train, y_train, X_test, y_test,  \n",
    "       epochs = 500,\n",
    "       eval_every = 10,\n",
    "       seed=10818,\n",
    "       single_output=True);"
   ]
  },
  {
   "cell_type": "code",
   "execution_count": 36,
   "metadata": {},
   "outputs": [
    {
     "data": {
      "text/plain": [
       "(2.3526, 13.046)"
      ]
     },
     "execution_count": 36,
     "metadata": {},
     "output_type": "execute_result"
    }
   ],
   "source": [
    "eval_regression_model(nn, X_test, y_test)"
   ]
  },
  {
   "cell_type": "markdown",
   "metadata": {},
   "source": [
    "Works!"
   ]
  },
  {
   "cell_type": "markdown",
   "metadata": {},
   "source": [
    "#### \"Deep Learning\" Regression"
   ]
  },
  {
   "cell_type": "markdown",
   "metadata": {},
   "source": [
    "#### Without momentum"
   ]
  },
  {
   "cell_type": "code",
   "execution_count": 41,
   "metadata": {},
   "outputs": [
    {
     "name": "stdout",
     "output_type": "stream",
     "text": [
      "Validation loss after 1 epochs is 47901.615\n",
      "Validation loss after 2 epochs is 29014.330\n",
      "Validation loss after 3 epochs is 19685.898\n",
      "Validation loss after 4 epochs is 15265.386\n",
      "Validation loss after 5 epochs is 13196.414\n",
      "Validation loss after 6 epochs is 12194.061\n",
      "Validation loss after 7 epochs is 11574.913\n",
      "Validation loss after 8 epochs is 11057.692\n",
      "Validation loss after 9 epochs is 10555.229\n",
      "Validation loss after 10 epochs is 10061.156\n",
      "Validation loss after 11 epochs is 9554.197\n",
      "Validation loss after 12 epochs is 9101.210\n",
      "Validation loss after 13 epochs is 8647.923\n",
      "Validation loss after 14 epochs is 8262.759\n",
      "Validation loss after 15 epochs is 7934.661\n",
      "Validation loss after 16 epochs is 7639.036\n",
      "Validation loss after 17 epochs is 7383.042\n",
      "Validation loss after 18 epochs is 7153.169\n",
      "Validation loss after 19 epochs is 6928.515\n",
      "Validation loss after 20 epochs is 6712.780\n",
      "Validation loss after 21 epochs is 6519.403\n",
      "Validation loss after 22 epochs is 6352.878\n",
      "Validation loss after 23 epochs is 6205.721\n",
      "Validation loss after 24 epochs is 6047.517\n",
      "Validation loss after 25 epochs is 5914.126\n",
      "Validation loss after 26 epochs is 5782.450\n",
      "Validation loss after 27 epochs is 5662.170\n",
      "Validation loss after 28 epochs is 5533.301\n",
      "Validation loss after 29 epochs is 5426.336\n",
      "Validation loss after 30 epochs is 5315.660\n",
      "Validation loss after 31 epochs is 5206.178\n",
      "Validation loss after 32 epochs is 5111.430\n",
      "Validation loss after 33 epochs is 5015.494\n",
      "Validation loss after 34 epochs is 4916.928\n",
      "Validation loss after 35 epochs is 4834.376\n",
      "Validation loss after 36 epochs is 4766.788\n",
      "Validation loss after 37 epochs is 4681.326\n",
      "Validation loss after 38 epochs is 4609.160\n",
      "Validation loss after 39 epochs is 4519.317\n",
      "Validation loss after 40 epochs is 4462.744\n",
      "Validation loss after 41 epochs is 4413.907\n",
      "Validation loss after 42 epochs is 4339.994\n",
      "Validation loss after 43 epochs is 4252.174\n",
      "Validation loss after 44 epochs is 4193.825\n",
      "Validation loss after 45 epochs is 4134.495\n",
      "Validation loss after 46 epochs is 4081.013\n",
      "Validation loss after 47 epochs is 4020.341\n",
      "Validation loss after 48 epochs is 3961.708\n",
      "Validation loss after 49 epochs is 3902.534\n",
      "Validation loss after 50 epochs is 3840.873\n",
      "Validation loss after 51 epochs is 3793.755\n",
      "Validation loss after 52 epochs is 3741.644\n",
      "Validation loss after 53 epochs is 3686.398\n",
      "Validation loss after 54 epochs is 3634.715\n",
      "Validation loss after 55 epochs is 3598.499\n",
      "Validation loss after 56 epochs is 3554.923\n",
      "Validation loss after 57 epochs is 3505.213\n",
      "Validation loss after 58 epochs is 3471.859\n",
      "Validation loss after 59 epochs is 3425.953\n",
      "Validation loss after 60 epochs is 3373.510\n",
      "Validation loss after 61 epochs is 3335.738\n",
      "Validation loss after 62 epochs is 3294.258\n",
      "Validation loss after 63 epochs is 3248.446\n",
      "Validation loss after 64 epochs is 3212.447\n",
      "Validation loss after 65 epochs is 3182.453\n",
      "Validation loss after 66 epochs is 3147.194\n",
      "Validation loss after 67 epochs is 3110.395\n",
      "Validation loss after 68 epochs is 3069.593\n",
      "Validation loss after 69 epochs is 3029.988\n",
      "Validation loss after 70 epochs is 3006.050\n",
      "Validation loss after 71 epochs is 2962.375\n",
      "Validation loss after 72 epochs is 2934.207\n",
      "Validation loss after 73 epochs is 2914.042\n",
      "Validation loss after 74 epochs is 2871.821\n",
      "Validation loss after 75 epochs is 2840.669\n",
      "Validation loss after 76 epochs is 2813.497\n",
      "Validation loss after 77 epochs is 2802.770\n",
      "Validation loss after 78 epochs is 2757.849\n",
      "Validation loss after 79 epochs is 2728.794\n",
      "Validation loss after 80 epochs is 2705.935\n",
      "Validation loss after 81 epochs is 2686.835\n",
      "Validation loss after 82 epochs is 2661.112\n",
      "Validation loss after 83 epochs is 2629.302\n",
      "Validation loss after 84 epochs is 2607.510\n",
      "Validation loss after 85 epochs is 2581.513\n",
      "Validation loss after 86 epochs is 2559.130\n",
      "Validation loss after 87 epochs is 2543.628\n",
      "Validation loss after 88 epochs is 2514.704\n",
      "Validation loss after 89 epochs is 2492.182\n",
      "Validation loss after 90 epochs is 2480.511\n",
      "Validation loss after 91 epochs is 2456.710\n",
      "Validation loss after 92 epochs is 2444.126\n",
      "Validation loss after 93 epochs is 2416.980\n",
      "Validation loss after 94 epochs is 2403.810\n",
      "Validation loss after 95 epochs is 2386.386\n",
      "Validation loss after 96 epochs is 2364.338\n",
      "Validation loss after 97 epochs is 2349.352\n",
      "Validation loss after 98 epochs is 2341.489\n",
      "Validation loss after 99 epochs is 2322.979\n",
      "Validation loss after 100 epochs is 2305.046\n",
      "Validation loss after 101 epochs is 2289.532\n",
      "Validation loss after 102 epochs is 2279.272\n",
      "Loss increased after epoch 103, final loss was 2279.272, using model from epoch 102\n"
     ]
    }
   ],
   "source": [
    "dl = NeuralNetwork(\n",
    "    layers=[Dense(neurons=13, \n",
    "                  activation=Sigmoid()),\n",
    "            Dense(neurons=7, \n",
    "                  activation=Sigmoid()),\n",
    "            Dense(neurons=1, \n",
    "                  activation=Linear())], \n",
    "            loss = MeanSquaredError(),\n",
    "seed=190120)\n",
    "\n",
    "trainer = Trainer(dl, SGD(lr=0.0001))\n",
    "trainer.fit(X_train, y_train, X_test, y_test,  \n",
    "       epochs = 1000,\n",
    "       eval_every = 1,\n",
    "       seed=10818,\n",
    "       single_output=True);"
   ]
  },
  {
   "cell_type": "code",
   "execution_count": 42,
   "metadata": {},
   "outputs": [
    {
     "data": {
      "text/plain": [
       "(2.6381, 14.9998)"
      ]
     },
     "execution_count": 42,
     "metadata": {},
     "output_type": "execute_result"
    }
   ],
   "source": [
    "eval_regression_model(dl, X_test, y_test)"
   ]
  },
  {
   "cell_type": "markdown",
   "metadata": {},
   "source": [
    "#### With momentum"
   ]
  },
  {
   "cell_type": "code",
   "execution_count": 47,
   "metadata": {},
   "outputs": [
    {
     "name": "stdout",
     "output_type": "stream",
     "text": [
      "Validation loss after 10 epochs is 2897.001\n",
      "Validation loss after 20 epochs is 1891.221\n",
      "Validation loss after 30 epochs is 1711.341\n",
      "Validation loss after 40 epochs is 1694.987\n",
      "Validation loss after 50 epochs is 1420.211\n",
      "Validation loss after 60 epochs is 1417.194\n",
      "Validation loss after 70 epochs is 1356.096\n",
      "Validation loss after 80 epochs is 1283.176\n",
      "Loss increased after epoch 90, final loss was 1283.176, using model from epoch 80\n"
     ]
    }
   ],
   "source": [
    "dl = NeuralNetwork(\n",
    "    layers=[Dense(neurons=13, \n",
    "                  activation=Sigmoid()),\n",
    "            Dense(neurons=7, \n",
    "                  activation=Sigmoid()),\n",
    "            Dense(neurons=1, \n",
    "                  activation=Linear())], \n",
    "            loss = MeanSquaredError(),\n",
    "seed=190120)\n",
    "\n",
    "trainer = Trainer(dl, SGDMomentum(lr=0.001,\n",
    "                                  momentum=0.1))\n",
    "trainer.fit(X_train, y_train, X_test, y_test,  \n",
    "       epochs = 100,\n",
    "       eval_every = 10,\n",
    "       seed=10818,\n",
    "       single_output=True);"
   ]
  },
  {
   "cell_type": "code",
   "execution_count": 48,
   "metadata": {},
   "outputs": [
    {
     "data": {
      "text/plain": [
       "(2.2003, 9.9315)"
      ]
     },
     "execution_count": 48,
     "metadata": {},
     "output_type": "execute_result"
    }
   ],
   "source": [
    "eval_regression_model(dl, X_test, y_test)"
   ]
  },
  {
   "cell_type": "code",
   "execution_count": 27,
   "metadata": {
    "scrolled": true
   },
   "outputs": [
    {
     "name": "stdout",
     "output_type": "stream",
     "text": [
      "setting up dense layer\n",
      "setting up dense layer\n",
      "setting up dense layer\n",
      "Validation loss after 10 epochs is 4869.482\n",
      "Validation loss after 20 epochs is 4867.908\n",
      "Loss increased after epoch 30, final loss was 4867.908\n"
     ]
    }
   ],
   "source": [
    "dl = NeuralNetwork(\n",
    "    layers=[Dense(neurons=13, \n",
    "                  activation=Sigmoid()),\n",
    "            Dense(neurons=13, \n",
    "                  activation=Sigmoid()),\n",
    "            Dense(neurons=1, \n",
    "                  activation=Linear())], \n",
    "            loss = MeanSquaredError(),\n",
    "seed=190120)\n",
    "\n",
    "trainer2 = Trainer(dl, SGDMomentum())\n",
    "trainer2.fit(X_train, y_train, X_test, y_test,  \n",
    "       epochs = 50,\n",
    "       eval_every = 10,\n",
    "       seed=10818,\n",
    "       single_output=True);"
   ]
  },
  {
   "cell_type": "code",
   "execution_count": 28,
   "metadata": {},
   "outputs": [
    {
     "data": {
      "text/plain": [
       "(5.0027, 41.9342)"
      ]
     },
     "execution_count": 28,
     "metadata": {},
     "output_type": "execute_result"
    }
   ],
   "source": [
    "eval_regression_model(dl, X_test, y_test)"
   ]
  },
  {
   "cell_type": "markdown",
   "metadata": {},
   "source": [
    "Works!"
   ]
  },
  {
   "cell_type": "markdown",
   "metadata": {},
   "source": [
    "## Classification models"
   ]
  },
  {
   "cell_type": "markdown",
   "metadata": {},
   "source": [
    "#### Data prep (SciKit Learn)"
   ]
  },
  {
   "cell_type": "code",
   "execution_count": 68,
   "metadata": {},
   "outputs": [],
   "source": [
    "from sklearn.datasets import load_breast_cancer\n",
    "breast_cancer = load_breast_cancer()\n",
    "data = breast_cancer.data\n",
    "target = breast_cancer.target"
   ]
  },
  {
   "cell_type": "code",
   "execution_count": 69,
   "metadata": {},
   "outputs": [],
   "source": [
    "from sklearn.preprocessing import StandardScaler\n",
    "s = StandardScaler()\n",
    "data = s.fit_transform(data)\n",
    "\n",
    "from sklearn.model_selection import train_test_split\n",
    "X_train, X_test, y_train, y_test = train_test_split(data, target, test_size=0.3, random_state=82618)\n",
    "\n",
    "y_train, y_test = y_train.reshape(-1, 1), y_test.reshape(-1, 1)"
   ]
  },
  {
   "cell_type": "markdown",
   "metadata": {},
   "source": [
    "#### \"`LogSigmoid`\" Logistic Regression"
   ]
  },
  {
   "cell_type": "code",
   "execution_count": 70,
   "metadata": {
    "scrolled": true
   },
   "outputs": [],
   "source": [
    "# logr = NeuralNetwork(\n",
    "#     layers=[Dense(neurons=1, \n",
    "#                   activation=LogSigmoid())],\n",
    "#             loss = LogSigmoidLoss())\n",
    "\n",
    "# trainer = Trainer(logr, SGD())\n",
    "# trainer.fit(X_train, y_train, X_test, y_test,  \n",
    "#        epochs = 100,\n",
    "#        eval_every = 10,\n",
    "#        seed=82618,\n",
    "#        single_output=True);"
   ]
  },
  {
   "cell_type": "code",
   "execution_count": 71,
   "metadata": {
    "scrolled": true
   },
   "outputs": [
    {
     "name": "stdout",
     "output_type": "stream",
     "text": [
      "setting up dense layer\n",
      "Validation loss after 100 epochs is 11.251\n",
      "Validation loss after 200 epochs is 5.576\n",
      "Validation loss after 300 epochs is 4.307\n",
      "Validation loss after 400 epochs is 4.096\n",
      "Validation loss after 500 epochs is 3.988\n",
      "Validation loss after 600 epochs is 3.908\n",
      "Validation loss after 700 epochs is 3.844\n",
      "Validation loss after 800 epochs is 3.791\n",
      "Validation loss after 900 epochs is 3.749\n",
      "Validation loss after 1000 epochs is 3.717\n"
     ]
    }
   ],
   "source": [
    "logr_mse = NeuralNetwork(\n",
    "    layers=[Dense(neurons=1, \n",
    "                  activation=Sigmoid())],\n",
    "            loss = MeanSquaredError(),\n",
    "seed=190120)\n",
    "\n",
    "trainer = Trainer(logr_mse, SGD())\n",
    "trainer.fit(X_train, y_train, X_test, y_test,  \n",
    "       epochs = 1000,\n",
    "       eval_every = 100,\n",
    "       seed=82618,\n",
    "       single_output=True);"
   ]
  },
  {
   "cell_type": "code",
   "execution_count": 72,
   "metadata": {},
   "outputs": [],
   "source": [
    "def accuracy(y_true, y_pred):\n",
    "    return round(np.sum(np.equal(y_true, y_pred)) / y_true.shape[0], 4)"
   ]
  },
  {
   "cell_type": "code",
   "execution_count": 73,
   "metadata": {},
   "outputs": [],
   "source": [
    "def eval_classification_model(model: NeuralNetwork, \n",
    "                              X_test: np.ndarray, \n",
    "                              y_test: np.ndarray,\n",
    "                              log_probs: bool = False):\n",
    "    preds = model.forward(X_test)\n",
    "    if log_probs:\n",
    "        preds = np.exp(preds)\n",
    "    preds = preds > 0.5\n",
    "    preds = preds.reshape(-1, 1)\n",
    "    return accuracy(preds, y_test)"
   ]
  },
  {
   "cell_type": "code",
   "execution_count": 74,
   "metadata": {},
   "outputs": [
    {
     "data": {
      "text/plain": [
       "0.9825"
      ]
     },
     "execution_count": 74,
     "metadata": {},
     "output_type": "execute_result"
    }
   ],
   "source": [
    "eval_classification_model(logr_mse, X_test, y_test)"
   ]
  },
  {
   "cell_type": "markdown",
   "metadata": {},
   "source": [
    "#### Testing softmax loss:"
   ]
  },
  {
   "cell_type": "code",
   "execution_count": 75,
   "metadata": {},
   "outputs": [
    {
     "name": "stdout",
     "output_type": "stream",
     "text": [
      "setting up dense layer\n",
      "Validation loss after 100 epochs is 120.267\n",
      "Validation loss after 200 epochs is 117.588\n",
      "Validation loss after 300 epochs is 117.355\n",
      "Validation loss after 400 epochs is 117.257\n",
      "Validation loss after 500 epochs is 117.188\n",
      "Validation loss after 600 epochs is 117.128\n",
      "Validation loss after 700 epochs is 117.076\n",
      "Validation loss after 800 epochs is 117.024\n",
      "Validation loss after 900 epochs is 116.975\n",
      "Validation loss after 1000 epochs is 116.925\n"
     ]
    }
   ],
   "source": [
    "logr_soft = NeuralNetwork(\n",
    "    layers=[Dense(neurons=1, \n",
    "                  activation=Sigmoid())],\n",
    "            loss = LogSoftmaxLoss(single_output=True),\n",
    "seed=190120)\n",
    "\n",
    "trainer = Trainer(logr_soft, SGD(0.01))\n",
    "trainer.fit(X_train, y_train, X_test, y_test,  \n",
    "       epochs = 1000,\n",
    "       eval_every = 100,\n",
    "       seed=82618,\n",
    "       single_output=True);"
   ]
  },
  {
   "cell_type": "code",
   "execution_count": 76,
   "metadata": {
    "scrolled": true
   },
   "outputs": [
    {
     "data": {
      "text/plain": [
       "0.9708"
      ]
     },
     "execution_count": 76,
     "metadata": {},
     "output_type": "execute_result"
    }
   ],
   "source": [
    "eval_classification_model(logr_soft, X_test, y_test)"
   ]
  },
  {
   "cell_type": "markdown",
   "metadata": {},
   "source": [
    "#### \"Neural Network\" Logistic Regression"
   ]
  },
  {
   "cell_type": "code",
   "execution_count": 77,
   "metadata": {},
   "outputs": [
    {
     "name": "stdout",
     "output_type": "stream",
     "text": [
      "setting up dense layer\n",
      "setting up dense layer\n",
      "Validation loss after 10 epochs is 225.009\n",
      "Validation loss after 20 epochs is 224.943\n",
      "Validation loss after 30 epochs is 224.728\n",
      "Validation loss after 40 epochs is 211.118\n",
      "Validation loss after 50 epochs is 123.340\n",
      "Validation loss after 60 epochs is 121.092\n",
      "Validation loss after 70 epochs is 119.211\n",
      "Validation loss after 80 epochs is 117.946\n",
      "Validation loss after 90 epochs is 117.597\n",
      "Validation loss after 100 epochs is 117.248\n"
     ]
    }
   ],
   "source": [
    "logr_nn = NeuralNetwork(\n",
    "    layers=[Dense(neurons=30, \n",
    "                  activation=Sigmoid()),\n",
    "            Dense(neurons=1, \n",
    "                  activation=Sigmoid())],\n",
    "            loss = LogSoftmaxLoss(single_output=True),\n",
    "seed=190120)\n",
    "trainer_m = Trainer(logr_nn, SGDMomentum())\n",
    "trainer_m.fit(X_train, y_train, X_test, y_test,  \n",
    "       epochs = 100,\n",
    "       eval_every = 10,\n",
    "       seed=10818,\n",
    "       single_output=True);"
   ]
  },
  {
   "cell_type": "code",
   "execution_count": 78,
   "metadata": {},
   "outputs": [
    {
     "data": {
      "text/plain": [
       "0.9708"
      ]
     },
     "execution_count": 78,
     "metadata": {},
     "output_type": "execute_result"
    }
   ],
   "source": [
    "eval_classification_model(logr_nn, X_test, y_test)"
   ]
  },
  {
   "cell_type": "code",
   "execution_count": 79,
   "metadata": {},
   "outputs": [
    {
     "name": "stdout",
     "output_type": "stream",
     "text": [
      "setting up dense layer\n",
      "setting up dense layer\n",
      "Validation loss after 100 epochs is 225.019\n",
      "Validation loss after 200 epochs is 224.888\n",
      "Validation loss after 300 epochs is 224.316\n",
      "Validation loss after 400 epochs is 125.520\n",
      "Validation loss after 500 epochs is 122.149\n",
      "Validation loss after 600 epochs is 120.017\n",
      "Validation loss after 700 epochs is 118.549\n",
      "Validation loss after 800 epochs is 117.641\n",
      "Validation loss after 900 epochs is 117.144\n",
      "Validation loss after 1000 epochs is 116.891\n"
     ]
    }
   ],
   "source": [
    "logr_nn = NeuralNetwork(\n",
    "    layers=[Dense(neurons=30, \n",
    "                  activation=Sigmoid()),\n",
    "            Dense(neurons=1, \n",
    "                  activation=Sigmoid())],\n",
    "            loss = LogSoftmaxLoss(single_output=True),\n",
    "seed=190120)\n",
    "trainer_m = Trainer(logr_nn, SGD())\n",
    "trainer_m.fit(X_train, y_train, X_test, y_test,  \n",
    "       epochs = 1000,\n",
    "       eval_every = 100,\n",
    "       seed=10818,\n",
    "       single_output=True);"
   ]
  },
  {
   "cell_type": "code",
   "execution_count": 80,
   "metadata": {},
   "outputs": [
    {
     "data": {
      "text/plain": [
       "0.9766"
      ]
     },
     "execution_count": 80,
     "metadata": {},
     "output_type": "execute_result"
    }
   ],
   "source": [
    "eval_classification_model(logr_nn, X_test, y_test)"
   ]
  },
  {
   "cell_type": "markdown",
   "metadata": {},
   "source": [
    "**Works!**"
   ]
  },
  {
   "cell_type": "markdown",
   "metadata": {},
   "source": [
    "# Advanced Optimizers"
   ]
  },
  {
   "cell_type": "markdown",
   "metadata": {},
   "source": [
    "## Adagrad"
   ]
  },
  {
   "cell_type": "markdown",
   "metadata": {},
   "source": [
    "### Regression"
   ]
  },
  {
   "cell_type": "code",
   "execution_count": 81,
   "metadata": {},
   "outputs": [],
   "source": [
    "from sklearn.datasets import load_boston\n",
    "\n",
    "boston = load_boston()\n",
    "\n",
    "data = boston.data\n",
    "target = boston.target\n",
    "features = boston.feature_names\n",
    "\n",
    "from sklearn.preprocessing import StandardScaler\n",
    "s = StandardScaler()\n",
    "data = s.fit_transform(data)\n",
    "\n",
    "from sklearn.model_selection import train_test_split\n",
    "X_train, X_test, y_train, y_test = train_test_split(data, target, test_size=0.3, random_state=80718)\n",
    "\n",
    "y_train, y_test = y_train.reshape(-1, 1), y_test.reshape(-1, 1)"
   ]
  },
  {
   "cell_type": "code",
   "execution_count": 82,
   "metadata": {},
   "outputs": [],
   "source": [
    "from lincoln.numpy.optimizers import AdaGrad"
   ]
  },
  {
   "cell_type": "code",
   "execution_count": 89,
   "metadata": {},
   "outputs": [],
   "source": [
    "lr = NeuralNetwork(\n",
    "    layers=[Dense(neurons=1, \n",
    "                  activation=Linear())], \n",
    "            loss = MeanSquaredError(),\n",
    "seed=190120)\n",
    "\n",
    "trainer = Trainer(lr, AdaGrad(1))"
   ]
  },
  {
   "cell_type": "code",
   "execution_count": 90,
   "metadata": {},
   "outputs": [
    {
     "name": "stdout",
     "output_type": "stream",
     "text": [
      "setting up dense layer\n",
      "Validation loss after 1 epochs is 46648.211\n",
      "Validation loss after 2 epochs is 35773.610\n",
      "Validation loss after 3 epochs is 28287.597\n",
      "Validation loss after 4 epochs is 23505.051\n",
      "Validation loss after 5 epochs is 19875.878\n",
      "Validation loss after 6 epochs is 16886.621\n",
      "Validation loss after 7 epochs is 14601.998\n",
      "Validation loss after 8 epochs is 13035.690\n",
      "Validation loss after 9 epochs is 11265.241\n",
      "Validation loss after 10 epochs is 10067.982\n",
      "Validation loss after 11 epochs is 9046.676\n",
      "Validation loss after 12 epochs is 8215.858\n",
      "Validation loss after 13 epochs is 7568.380\n",
      "Validation loss after 14 epochs is 6929.361\n",
      "Validation loss after 15 epochs is 6549.493\n",
      "Validation loss after 16 epochs is 6063.891\n",
      "Validation loss after 17 epochs is 5792.627\n",
      "Validation loss after 18 epochs is 5477.881\n",
      "Validation loss after 19 epochs is 5368.862\n",
      "Validation loss after 20 epochs is 5058.642\n",
      "Validation loss after 21 epochs is 4787.014\n",
      "Validation loss after 22 epochs is 4734.230\n",
      "Validation loss after 23 epochs is 4572.817\n",
      "Validation loss after 24 epochs is 4501.675\n",
      "Validation loss after 25 epochs is 4337.256\n",
      "Validation loss after 26 epochs is 4275.138\n",
      "Validation loss after 27 epochs is 4215.807\n",
      "Loss increased after epoch 28, final loss was 4215.807\n"
     ]
    }
   ],
   "source": [
    "trainer.fit(X_train, y_train, X_test, y_test,  \n",
    "       epochs = 50,\n",
    "       eval_every = 1,\n",
    "       seed=10818,\n",
    "       single_output=True);"
   ]
  },
  {
   "cell_type": "code",
   "execution_count": 91,
   "metadata": {},
   "outputs": [
    {
     "data": {
      "text/plain": [
       "(3.5662, 28.0392)"
      ]
     },
     "execution_count": 91,
     "metadata": {},
     "output_type": "execute_result"
    }
   ],
   "source": [
    "eval_regression_model(lr, X_test, y_test)"
   ]
  },
  {
   "cell_type": "markdown",
   "metadata": {},
   "source": [
    "#### DL with AdaGrad"
   ]
  },
  {
   "cell_type": "code",
   "execution_count": 93,
   "metadata": {},
   "outputs": [
    {
     "name": "stdout",
     "output_type": "stream",
     "text": [
      "setting up dense layer\n",
      "setting up dense layer\n",
      "setting up dense layer\n",
      "Validation loss after 20 epochs is 2694.116\n",
      "Validation loss after 40 epochs is 2043.660\n",
      "Validation loss after 60 epochs is 1678.514\n",
      "Validation loss after 80 epochs is 1661.074\n",
      "Loss increased after epoch 100, final loss was 1661.074\n"
     ]
    },
    {
     "data": {
      "text/plain": [
       "(2.1943, 11.3398)"
      ]
     },
     "execution_count": 93,
     "metadata": {},
     "output_type": "execute_result"
    }
   ],
   "source": [
    "dl = NeuralNetwork(\n",
    "    layers=[Dense(neurons=13, \n",
    "                  activation=Sigmoid()),\n",
    "            Dense(neurons=7, \n",
    "                  activation=Sigmoid()),\n",
    "            Dense(neurons=1, \n",
    "                  activation=Linear())], \n",
    "            loss = MeanSquaredError(),\n",
    "seed=190120)\n",
    "\n",
    "trainer = Trainer(dl, AdaGrad(lr=0.5))\n",
    "trainer.fit(X_train, y_train, X_test, y_test,  \n",
    "       epochs = 200,\n",
    "       eval_every = 20,\n",
    "       seed=10818,\n",
    "       single_output=True);\n",
    "\n",
    "eval_regression_model(dl, X_test, y_test)"
   ]
  },
  {
   "cell_type": "markdown",
   "metadata": {},
   "source": [
    "### Classification"
   ]
  },
  {
   "cell_type": "code",
   "execution_count": 94,
   "metadata": {},
   "outputs": [],
   "source": [
    "from sklearn.datasets import load_breast_cancer\n",
    "breast_cancer = load_breast_cancer()\n",
    "data = breast_cancer.data\n",
    "target = breast_cancer.target"
   ]
  },
  {
   "cell_type": "code",
   "execution_count": 95,
   "metadata": {},
   "outputs": [],
   "source": [
    "from sklearn.preprocessing import StandardScaler\n",
    "s = StandardScaler()\n",
    "data = s.fit_transform(data)\n",
    "\n",
    "from sklearn.model_selection import train_test_split\n",
    "X_train, X_test, y_train, y_test = train_test_split(data, target, test_size=0.3, random_state=82618)\n",
    "\n",
    "y_train, y_test = y_train.reshape(-1, 1), y_test.reshape(-1, 1)"
   ]
  },
  {
   "cell_type": "code",
   "execution_count": 97,
   "metadata": {},
   "outputs": [
    {
     "name": "stdout",
     "output_type": "stream",
     "text": [
      "setting up dense layer\n",
      "Validation loss after 1 epochs is 10.506\n",
      "Validation loss after 2 epochs is 9.180\n",
      "Validation loss after 3 epochs is 5.476\n",
      "Validation loss after 4 epochs is 4.089\n",
      "Loss increased after epoch 5, final loss was 4.089\n"
     ]
    }
   ],
   "source": [
    "logr_mse = NeuralNetwork(\n",
    "    layers=[Dense(neurons=1, \n",
    "                  activation=Sigmoid())],\n",
    "            loss = MeanSquaredError(),\n",
    "seed=190120)\n",
    "\n",
    "trainer = Trainer(logr_mse, AdaGrad(lr=1))\n",
    "trainer.fit(X_train, y_train, X_test, y_test,  \n",
    "       epochs = 10,\n",
    "       eval_every = 1,\n",
    "       seed=82618,\n",
    "       single_output=True);"
   ]
  },
  {
   "cell_type": "code",
   "execution_count": 98,
   "metadata": {},
   "outputs": [
    {
     "data": {
      "text/plain": [
       "0.9766"
      ]
     },
     "execution_count": 98,
     "metadata": {},
     "output_type": "execute_result"
    }
   ],
   "source": [
    "eval_classification_model(logr_nn, X_test, y_test)"
   ]
  },
  {
   "cell_type": "markdown",
   "metadata": {},
   "source": [
    "## Regularized SGD"
   ]
  },
  {
   "cell_type": "markdown",
   "metadata": {},
   "source": [
    "### Regularization"
   ]
  },
  {
   "cell_type": "code",
   "execution_count": 99,
   "metadata": {},
   "outputs": [],
   "source": [
    "from sklearn.datasets import load_boston\n",
    "\n",
    "boston = load_boston()\n",
    "\n",
    "data = boston.data\n",
    "target = boston.target\n",
    "features = boston.feature_names\n",
    "\n",
    "from sklearn.preprocessing import StandardScaler\n",
    "s = StandardScaler()\n",
    "data = s.fit_transform(data)\n",
    "\n",
    "from sklearn.model_selection import train_test_split\n",
    "X_train, X_test, y_train, y_test = train_test_split(data, target, test_size=0.3, random_state=80718)\n",
    "\n",
    "y_train, y_test = y_train.reshape(-1, 1), y_test.reshape(-1, 1)"
   ]
  },
  {
   "cell_type": "code",
   "execution_count": 100,
   "metadata": {},
   "outputs": [],
   "source": [
    "from lincoln.numpy.optimizers import RegularizedSGD"
   ]
  },
  {
   "cell_type": "code",
   "execution_count": 101,
   "metadata": {},
   "outputs": [],
   "source": [
    "lr = NeuralNetwork(\n",
    "    layers=[Dense(neurons=1, \n",
    "                  activation=Linear())], \n",
    "            loss = MeanSquaredError(),\n",
    "seed=190120)\n",
    "\n",
    "trainer = Trainer(lr, RegularizedSGD(lr=0.001))"
   ]
  },
  {
   "cell_type": "code",
   "execution_count": 102,
   "metadata": {},
   "outputs": [
    {
     "name": "stdout",
     "output_type": "stream",
     "text": [
      "setting up dense layer\n",
      "Validation loss after 1 epochs is 19857.889\n",
      "Validation loss after 2 epochs is 7492.840\n",
      "Validation loss after 3 epochs is 4617.919\n",
      "Validation loss after 4 epochs is 4288.464\n",
      "Validation loss after 5 epochs is 4192.022\n",
      "Validation loss after 6 epochs is 4111.997\n",
      "Validation loss after 7 epochs is 3984.513\n",
      "Loss increased after epoch 8, final loss was 3984.513\n"
     ]
    }
   ],
   "source": [
    "trainer.fit(X_train, y_train, X_test, y_test,  \n",
    "       epochs = 10,\n",
    "       eval_every = 1,\n",
    "       seed=10818,\n",
    "       single_output=True);"
   ]
  },
  {
   "cell_type": "code",
   "execution_count": 103,
   "metadata": {},
   "outputs": [
    {
     "data": {
      "text/plain": [
       "(3.6796, 27.361)"
      ]
     },
     "execution_count": 103,
     "metadata": {},
     "output_type": "execute_result"
    }
   ],
   "source": [
    "eval_regression_model(lr, X_test, y_test)"
   ]
  },
  {
   "cell_type": "markdown",
   "metadata": {},
   "source": [
    "### Deep Learning Regression"
   ]
  },
  {
   "cell_type": "code",
   "execution_count": 104,
   "metadata": {},
   "outputs": [
    {
     "name": "stdout",
     "output_type": "stream",
     "text": [
      "setting up dense layer\n",
      "setting up dense layer\n",
      "setting up dense layer\n",
      "Validation loss after 100 epochs is 23218.170\n",
      "Validation loss after 200 epochs is 3185.410\n",
      "Loss increased after epoch 300, final loss was 3185.410\n"
     ]
    },
    {
     "data": {
      "text/plain": [
       "(3.5932, 27.4456)"
      ]
     },
     "execution_count": 104,
     "metadata": {},
     "output_type": "execute_result"
    }
   ],
   "source": [
    "dl = NeuralNetwork(\n",
    "    layers=[Dense(neurons=13, \n",
    "                  activation=Sigmoid()),\n",
    "            Dense(neurons=7, \n",
    "                  activation=Sigmoid()),\n",
    "            Dense(neurons=1, \n",
    "                  activation=Linear())], \n",
    "            loss = MeanSquaredError(),\n",
    "seed=190120)\n",
    "\n",
    "trainer = Trainer(dl, RegularizedSGD(lr=0.01))\n",
    "trainer.fit(X_train, y_train, X_test, y_test,  \n",
    "       epochs = 1000,\n",
    "       eval_every = 100,\n",
    "       seed=10818,\n",
    "       single_output=True);\n",
    "\n",
    "eval_regression_model(dl, X_test, y_test)"
   ]
  },
  {
   "cell_type": "markdown",
   "metadata": {},
   "source": [
    "### Classification"
   ]
  },
  {
   "cell_type": "code",
   "execution_count": 105,
   "metadata": {},
   "outputs": [],
   "source": [
    "from sklearn.datasets import load_breast_cancer\n",
    "breast_cancer = load_breast_cancer()\n",
    "data = breast_cancer.data\n",
    "target = breast_cancer.target"
   ]
  },
  {
   "cell_type": "code",
   "execution_count": 106,
   "metadata": {},
   "outputs": [],
   "source": [
    "from sklearn.preprocessing import StandardScaler\n",
    "s = StandardScaler()\n",
    "data = s.fit_transform(data)\n",
    "\n",
    "from sklearn.model_selection import train_test_split\n",
    "X_train, X_test, y_train, y_test = train_test_split(data, target, test_size=0.3, random_state=82618)\n",
    "\n",
    "y_train, y_test = y_train.reshape(-1, 1), y_test.reshape(-1, 1)"
   ]
  },
  {
   "cell_type": "code",
   "execution_count": 109,
   "metadata": {},
   "outputs": [
    {
     "name": "stdout",
     "output_type": "stream",
     "text": [
      "setting up dense layer\n",
      "Validation loss after 1 epochs is 49.231\n",
      "Validation loss after 2 epochs is 33.163\n",
      "Validation loss after 3 epochs is 27.212\n",
      "Validation loss after 4 epochs is 23.281\n",
      "Validation loss after 5 epochs is 21.082\n",
      "Validation loss after 6 epochs is 19.604\n",
      "Validation loss after 7 epochs is 18.482\n",
      "Validation loss after 8 epochs is 17.563\n",
      "Validation loss after 9 epochs is 16.820\n",
      "Validation loss after 10 epochs is 16.165\n"
     ]
    }
   ],
   "source": [
    "logr_mse = NeuralNetwork(\n",
    "    layers=[Dense(neurons=1, \n",
    "                  activation=Sigmoid())],\n",
    "            loss = MeanSquaredError(),\n",
    "seed=190120)\n",
    "\n",
    "trainer = Trainer(logr_mse, RegularizedSGD())\n",
    "trainer.fit(X_train, y_train, X_test, y_test,  \n",
    "       epochs = 10,\n",
    "       eval_every = 1,\n",
    "       seed=82618,\n",
    "       single_output=True);"
   ]
  },
  {
   "cell_type": "code",
   "execution_count": 110,
   "metadata": {},
   "outputs": [
    {
     "data": {
      "text/plain": [
       "0.9766"
      ]
     },
     "execution_count": 110,
     "metadata": {},
     "output_type": "execute_result"
    }
   ],
   "source": [
    "eval_classification_model(logr_nn, X_test, y_test)"
   ]
  },
  {
   "cell_type": "code",
   "execution_count": 111,
   "metadata": {},
   "outputs": [
    {
     "name": "stdout",
     "output_type": "stream",
     "text": [
      "setting up dense layer\n",
      "setting up dense layer\n",
      "Validation loss after 10 epochs is 13.855\n",
      "Validation loss after 20 epochs is 6.828\n",
      "Validation loss after 30 epochs is 5.875\n",
      "Validation loss after 40 epochs is 5.525\n",
      "Validation loss after 50 epochs is 5.292\n",
      "Validation loss after 60 epochs is 5.250\n",
      "Validation loss after 70 epochs is 5.235\n",
      "Loss increased after epoch 80, final loss was 5.235\n"
     ]
    }
   ],
   "source": [
    "logr_nn = NeuralNetwork(\n",
    "    layers=[Dense(neurons=30, \n",
    "                  activation=Sigmoid()),\n",
    "            Dense(neurons=1, \n",
    "                  activation=Sigmoid())],\n",
    "            loss = MeanSquaredError(),\n",
    "seed=190120)\n",
    "trainer_m = Trainer(logr_nn, RegularizedSGD())\n",
    "trainer_m.fit(X_train, y_train, X_test, y_test,  \n",
    "       epochs = 100,\n",
    "       eval_every = 10,\n",
    "       seed=10818,\n",
    "       single_output=True);"
   ]
  },
  {
   "cell_type": "code",
   "execution_count": 112,
   "metadata": {},
   "outputs": [
    {
     "data": {
      "text/plain": [
       "0.9708"
      ]
     },
     "execution_count": 112,
     "metadata": {},
     "output_type": "execute_result"
    }
   ],
   "source": [
    "eval_classification_model(logr_nn, X_test, y_test)"
   ]
  },
  {
   "cell_type": "code",
   "execution_count": 114,
   "metadata": {},
   "outputs": [
    {
     "name": "stdout",
     "output_type": "stream",
     "text": [
      "setting up dense layer\n",
      "setting up dense layer\n",
      "Validation loss after 10 epochs is 225.159\n",
      "Validation loss after 20 epochs is 224.700\n",
      "Validation loss after 30 epochs is 223.292\n",
      "Validation loss after 40 epochs is 133.085\n",
      "Validation loss after 50 epochs is 125.478\n",
      "Validation loss after 60 epochs is 123.491\n",
      "Validation loss after 70 epochs is 122.454\n",
      "Validation loss after 80 epochs is 121.967\n",
      "Validation loss after 90 epochs is 121.663\n",
      "Validation loss after 100 epochs is 121.479\n"
     ]
    }
   ],
   "source": [
    "logr_nn = NeuralNetwork(\n",
    "    layers=[Dense(neurons=30, \n",
    "                  activation=Sigmoid()),\n",
    "            Dense(neurons=1, \n",
    "                  activation=Sigmoid())],\n",
    "            loss = LogSoftmaxLoss(single_output=True),\n",
    "seed=190120)\n",
    "trainer_m = Trainer(logr_nn, RegularizedSGD())\n",
    "trainer_m.fit(X_train, y_train, X_test, y_test,  \n",
    "       epochs = 100,\n",
    "       eval_every = 10,\n",
    "       seed=10818,\n",
    "       single_output=True);"
   ]
  },
  {
   "cell_type": "code",
   "execution_count": 115,
   "metadata": {},
   "outputs": [
    {
     "data": {
      "text/plain": [
       "0.9708"
      ]
     },
     "execution_count": 115,
     "metadata": {},
     "output_type": "execute_result"
    }
   ],
   "source": [
    "eval_classification_model(logr_nn, X_test, y_test)"
   ]
  },
  {
   "cell_type": "markdown",
   "metadata": {},
   "source": [
    "### Dropout"
   ]
  },
  {
   "cell_type": "code",
   "execution_count": 116,
   "metadata": {},
   "outputs": [],
   "source": [
    "from sklearn.datasets import load_boston\n",
    "\n",
    "boston = load_boston()\n",
    "\n",
    "data = boston.data\n",
    "target = boston.target\n",
    "features = boston.feature_names\n",
    "\n",
    "from sklearn.preprocessing import StandardScaler\n",
    "s = StandardScaler()\n",
    "data = s.fit_transform(data)\n",
    "\n",
    "from sklearn.model_selection import train_test_split\n",
    "X_train, X_test, y_train, y_test = train_test_split(data, target, test_size=0.3, random_state=80718)\n",
    "\n",
    "y_train, y_test = y_train.reshape(-1, 1), y_test.reshape(-1, 1)"
   ]
  },
  {
   "cell_type": "code",
   "execution_count": 117,
   "metadata": {},
   "outputs": [
    {
     "name": "stdout",
     "output_type": "stream",
     "text": [
      "setting up dense layer\n",
      "setting up dense layer\n",
      "Validation loss after 30 epochs is 2592.859\n",
      "Validation loss after 60 epochs is 2536.203\n",
      "Validation loss after 90 epochs is 2437.394\n",
      "Validation loss after 120 epochs is 2420.111\n",
      "Loss increased after epoch 150, final loss was 2420.111\n"
     ]
    },
    {
     "data": {
      "text/plain": [
       "(2.8601, 15.9505)"
      ]
     },
     "execution_count": 117,
     "metadata": {},
     "output_type": "execute_result"
    }
   ],
   "source": [
    "dl = NeuralNetwork(\n",
    "    layers=[Dense(neurons=13, \n",
    "                  activation=Sigmoid()),\n",
    "            Dense(neurons=1, \n",
    "                  activation=Linear())], \n",
    "            loss = MeanSquaredError())\n",
    "\n",
    "trainer = Trainer(dl, AdaGrad(lr=1))\n",
    "trainer.fit(X_train, y_train, X_test, y_test,  \n",
    "       epochs = 300,\n",
    "       eval_every = 30,\n",
    "       seed=10818,\n",
    "       single_output=True);\n",
    "\n",
    "eval_regression_model(dl, X_test, y_test)"
   ]
  },
  {
   "cell_type": "code",
   "execution_count": 118,
   "metadata": {},
   "outputs": [
    {
     "name": "stdout",
     "output_type": "stream",
     "text": [
      "setting up dense layer\n",
      "setting up dense layer\n",
      "Validation loss after 10 epochs is 9466.985\n",
      "Validation loss after 20 epochs is 7928.233\n",
      "Validation loss after 30 epochs is 7253.475\n",
      "Validation loss after 40 epochs is 6750.645\n",
      "Validation loss after 50 epochs is 6364.462\n",
      "Validation loss after 60 epochs is 6126.840\n",
      "Validation loss after 70 epochs is 5927.691\n",
      "Validation loss after 80 epochs is 5830.308\n",
      "Validation loss after 90 epochs is 5583.019\n",
      "Validation loss after 100 epochs is 5473.189\n",
      "Validation loss after 110 epochs is 5400.891\n",
      "Validation loss after 120 epochs is 5298.735\n",
      "Validation loss after 130 epochs is 5195.114\n",
      "Validation loss after 140 epochs is 5099.220\n",
      "Validation loss after 150 epochs is 5034.451\n",
      "Validation loss after 160 epochs is 5007.961\n",
      "Validation loss after 170 epochs is 4907.801\n",
      "Validation loss after 180 epochs is 4809.196\n",
      "Validation loss after 190 epochs is 4758.918\n",
      "Validation loss after 200 epochs is 4737.912\n",
      "Validation loss after 210 epochs is 4699.101\n",
      "Validation loss after 220 epochs is 4616.383\n",
      "Validation loss after 230 epochs is 4580.068\n",
      "Validation loss after 240 epochs is 4556.945\n",
      "Validation loss after 250 epochs is 4544.883\n",
      "Validation loss after 260 epochs is 4492.452\n",
      "Validation loss after 270 epochs is 4479.415\n",
      "Validation loss after 280 epochs is 4428.123\n",
      "Validation loss after 290 epochs is 4394.671\n",
      "Validation loss after 300 epochs is 4383.338\n",
      "Validation loss after 310 epochs is 4363.200\n",
      "Validation loss after 320 epochs is 4310.077\n",
      "Validation loss after 330 epochs is 4288.210\n",
      "Loss increased after epoch 340, final loss was 4288.210\n"
     ]
    },
    {
     "data": {
      "text/plain": [
       "(2.3836, 13.863)"
      ]
     },
     "execution_count": 118,
     "metadata": {},
     "output_type": "execute_result"
    }
   ],
   "source": [
    "dl = NeuralNetwork(\n",
    "    layers=[Dense(neurons=50, \n",
    "                  activation=Sigmoid(),\n",
    "                  dropout=0.5),\n",
    "            Dense(neurons=1, \n",
    "                  activation=Linear())], \n",
    "            loss = MeanSquaredError())\n",
    "\n",
    "trainer = Trainer(dl, AdaGrad(lr=0.1))\n",
    "trainer.fit(X_train, y_train, X_test, y_test,  \n",
    "       epochs = 500,\n",
    "       eval_every = 10,\n",
    "       seed=10818,\n",
    "       single_output=True);\n",
    "\n",
    "eval_regression_model(dl, X_test, y_test)"
   ]
  },
  {
   "cell_type": "code",
   "execution_count": 119,
   "metadata": {},
   "outputs": [
    {
     "name": "stdout",
     "output_type": "stream",
     "text": [
      "setting up dense layer\n",
      "setting up dense layer\n",
      "Validation loss after 10 epochs is 9466.985\n",
      "Validation loss after 20 epochs is 7928.233\n",
      "Validation loss after 30 epochs is 7253.475\n",
      "Validation loss after 40 epochs is 6750.645\n",
      "Validation loss after 50 epochs is 6364.462\n",
      "Validation loss after 60 epochs is 6126.840\n",
      "Validation loss after 70 epochs is 5927.691\n",
      "Validation loss after 80 epochs is 5830.308\n",
      "Validation loss after 90 epochs is 5583.019\n",
      "Validation loss after 100 epochs is 5473.189\n",
      "Validation loss after 110 epochs is 5400.891\n",
      "Validation loss after 120 epochs is 5298.735\n",
      "Validation loss after 130 epochs is 5195.114\n",
      "Validation loss after 140 epochs is 5099.220\n",
      "Validation loss after 150 epochs is 5034.451\n",
      "Validation loss after 160 epochs is 5007.961\n",
      "Validation loss after 170 epochs is 4907.801\n",
      "Validation loss after 180 epochs is 4809.196\n",
      "Validation loss after 190 epochs is 4758.918\n",
      "Validation loss after 200 epochs is 4737.912\n",
      "Validation loss after 210 epochs is 4699.101\n",
      "Validation loss after 220 epochs is 4616.383\n",
      "Validation loss after 230 epochs is 4580.068\n",
      "Validation loss after 240 epochs is 4556.945\n",
      "Validation loss after 250 epochs is 4544.883\n",
      "Validation loss after 260 epochs is 4492.452\n",
      "Validation loss after 270 epochs is 4479.415\n",
      "Validation loss after 280 epochs is 4428.123\n",
      "Validation loss after 290 epochs is 4394.671\n",
      "Validation loss after 300 epochs is 4383.338\n",
      "Validation loss after 310 epochs is 4363.200\n",
      "Validation loss after 320 epochs is 4310.077\n",
      "Validation loss after 330 epochs is 4288.210\n",
      "Loss increased after epoch 340, final loss was 4288.210\n"
     ]
    },
    {
     "data": {
      "text/plain": [
       "(2.3836, 13.863)"
      ]
     },
     "execution_count": 119,
     "metadata": {},
     "output_type": "execute_result"
    }
   ],
   "source": [
    "dl = NeuralNetwork(\n",
    "    layers=[Dense(neurons=50, \n",
    "                  activation=Sigmoid(),\n",
    "                  dropout=0.5),\n",
    "            Dense(neurons=1, \n",
    "                  activation=Linear())], \n",
    "            loss = MeanSquaredError())\n",
    "\n",
    "trainer = Trainer(dl, AdaGrad(lr=0.1))\n",
    "trainer.fit(X_train, y_train, X_test, y_test,  \n",
    "       epochs = 500,\n",
    "       eval_every = 10,\n",
    "       seed=10818,\n",
    "       single_output=True);\n",
    "\n",
    "eval_regression_model(dl, X_test, y_test)"
   ]
  },
  {
   "cell_type": "markdown",
   "metadata": {},
   "source": [
    "### Classification"
   ]
  },
  {
   "cell_type": "code",
   "execution_count": 120,
   "metadata": {},
   "outputs": [],
   "source": [
    "from sklearn.datasets import load_breast_cancer\n",
    "breast_cancer = load_breast_cancer()\n",
    "data = breast_cancer.data\n",
    "target = breast_cancer.target"
   ]
  },
  {
   "cell_type": "code",
   "execution_count": 121,
   "metadata": {},
   "outputs": [],
   "source": [
    "from sklearn.preprocessing import StandardScaler\n",
    "s = StandardScaler()\n",
    "data = s.fit_transform(data)\n",
    "\n",
    "from sklearn.model_selection import train_test_split\n",
    "X_train, X_test, y_train, y_test = train_test_split(data, target, test_size=0.3, random_state=82618)\n",
    "\n",
    "y_train, y_test = y_train.reshape(-1, 1), y_test.reshape(-1, 1)"
   ]
  },
  {
   "cell_type": "code",
   "execution_count": 129,
   "metadata": {},
   "outputs": [
    {
     "name": "stdout",
     "output_type": "stream",
     "text": [
      "setting up dense layer\n",
      "Validation loss after 5 epochs is 21.082\n",
      "Validation loss after 10 epochs is 16.165\n",
      "Validation loss after 15 epochs is 13.738\n",
      "Validation loss after 20 epochs is 11.835\n",
      "Validation loss after 25 epochs is 10.070\n",
      "Validation loss after 30 epochs is 8.251\n",
      "Validation loss after 35 epochs is 6.155\n",
      "Validation loss after 40 epochs is 5.348\n",
      "Validation loss after 45 epochs is 5.003\n",
      "Validation loss after 50 epochs is 4.885\n"
     ]
    }
   ],
   "source": [
    "logr_mse = NeuralNetwork(\n",
    "    layers=[Dense(neurons=1, \n",
    "                  activation=Sigmoid())],\n",
    "            loss = MeanSquaredError(),\n",
    "seed=190120)\n",
    "\n",
    "trainer = Trainer(logr_mse, RegularizedSGD())\n",
    "trainer.fit(X_train, y_train, X_test, y_test,  \n",
    "       epochs = 50,\n",
    "       eval_every = 5,\n",
    "       seed=82618,\n",
    "       single_output=True);"
   ]
  },
  {
   "cell_type": "code",
   "execution_count": 123,
   "metadata": {},
   "outputs": [
    {
     "data": {
      "text/plain": [
       "0.9708"
      ]
     },
     "execution_count": 123,
     "metadata": {},
     "output_type": "execute_result"
    }
   ],
   "source": [
    "eval_classification_model(logr_nn, X_test, y_test)"
   ]
  },
  {
   "cell_type": "code",
   "execution_count": 130,
   "metadata": {},
   "outputs": [
    {
     "name": "stdout",
     "output_type": "stream",
     "text": [
      "setting up dense layer\n",
      "setting up dense layer\n",
      "Validation loss after 10 epochs is 13.855\n",
      "Validation loss after 20 epochs is 6.828\n",
      "Validation loss after 30 epochs is 5.875\n",
      "Validation loss after 40 epochs is 5.525\n",
      "Validation loss after 50 epochs is 5.292\n",
      "Validation loss after 60 epochs is 5.250\n",
      "Validation loss after 70 epochs is 5.235\n",
      "Loss increased after epoch 80, final loss was 5.235\n"
     ]
    }
   ],
   "source": [
    "logr_nn = NeuralNetwork(\n",
    "    layers=[Dense(neurons=30, \n",
    "                  activation=Sigmoid()),\n",
    "            Dense(neurons=1, \n",
    "                  activation=Sigmoid())],\n",
    "            loss = MeanSquaredError(),\n",
    "seed=190120)\n",
    "trainer_m = Trainer(logr_nn, RegularizedSGD())\n",
    "trainer_m.fit(X_train, y_train, X_test, y_test,  \n",
    "       epochs = 100,\n",
    "       eval_every = 10,\n",
    "       seed=10818,\n",
    "       single_output=True);"
   ]
  },
  {
   "cell_type": "code",
   "execution_count": 125,
   "metadata": {},
   "outputs": [
    {
     "data": {
      "text/plain": [
       "0.9766"
      ]
     },
     "execution_count": 125,
     "metadata": {},
     "output_type": "execute_result"
    }
   ],
   "source": [
    "eval_classification_model(logr_nn, X_test, y_test)"
   ]
  },
  {
   "cell_type": "code",
   "execution_count": 131,
   "metadata": {},
   "outputs": [
    {
     "name": "stdout",
     "output_type": "stream",
     "text": [
      "setting up dense layer\n",
      "setting up dense layer\n",
      "Validation loss after 1 epochs is 10.057\n",
      "Validation loss after 2 epochs is 7.439\n",
      "Validation loss after 3 epochs is 6.774\n",
      "Loss increased after epoch 4, final loss was 6.774\n"
     ]
    }
   ],
   "source": [
    "logr_nn = NeuralNetwork(\n",
    "    layers=[Dense(neurons=30, \n",
    "                  activation=Sigmoid(),\n",
    "                  dropout=0.8),\n",
    "            Dense(neurons=1, \n",
    "                  activation=Sigmoid())],\n",
    "            loss = MeanSquaredError(),\n",
    "seed=190120)\n",
    "trainer_m = Trainer(logr_nn, AdaGrad(0.1))\n",
    "trainer_m.fit(X_train, y_train, X_test, y_test,  \n",
    "       epochs = 20,\n",
    "       eval_every = 1,\n",
    "       seed=10818,\n",
    "       single_output=True);"
   ]
  },
  {
   "cell_type": "code",
   "execution_count": 132,
   "metadata": {},
   "outputs": [
    {
     "data": {
      "text/plain": [
       "0.9532"
      ]
     },
     "execution_count": 132,
     "metadata": {},
     "output_type": "execute_result"
    }
   ],
   "source": [
    "eval_classification_model(logr_nn, X_test, y_test)"
   ]
  },
  {
   "cell_type": "code",
   "execution_count": 133,
   "metadata": {},
   "outputs": [
    {
     "name": "stdout",
     "output_type": "stream",
     "text": [
      "setting up dense layer\n",
      "setting up dense layer\n",
      "Validation loss after 1 epochs is 126.744\n",
      "Validation loss after 2 epochs is 120.929\n",
      "Validation loss after 3 epochs is 117.954\n",
      "Validation loss after 4 epochs is 117.785\n",
      "Loss increased after epoch 5, final loss was 117.785\n"
     ]
    }
   ],
   "source": [
    "logr_nn = NeuralNetwork(\n",
    "    layers=[Dense(neurons=200, \n",
    "                  activation=Sigmoid(),\n",
    "                  dropout=0.8),\n",
    "            Dense(neurons=1, \n",
    "                  activation=Sigmoid())],\n",
    "            loss = LogSoftmaxLoss(single_output=True),\n",
    "seed=190120)\n",
    "trainer_m = Trainer(logr_nn, AdaGrad(0.1))\n",
    "trainer_m.fit(X_train, y_train, X_test, y_test,  \n",
    "       epochs = 20,\n",
    "       eval_every = 1,\n",
    "       seed=10818,\n",
    "       single_output=True);"
   ]
  },
  {
   "cell_type": "code",
   "execution_count": 134,
   "metadata": {},
   "outputs": [
    {
     "data": {
      "text/plain": [
       "0.9649"
      ]
     },
     "execution_count": 134,
     "metadata": {},
     "output_type": "execute_result"
    }
   ],
   "source": [
    "eval_classification_model(logr_nn, X_test, y_test)"
   ]
  },
  {
   "cell_type": "code",
   "execution_count": null,
   "metadata": {},
   "outputs": [],
   "source": []
  }
 ],
 "metadata": {
  "kernelspec": {
   "display_name": "Python 3",
   "language": "python",
   "name": "python3"
  },
  "language_info": {
   "codemirror_mode": {
    "name": "ipython",
    "version": 3
   },
   "file_extension": ".py",
   "mimetype": "text/x-python",
   "name": "python",
   "nbconvert_exporter": "python",
   "pygments_lexer": "ipython3",
   "version": "3.6.6"
  }
 },
 "nbformat": 4,
 "nbformat_minor": 2
}
