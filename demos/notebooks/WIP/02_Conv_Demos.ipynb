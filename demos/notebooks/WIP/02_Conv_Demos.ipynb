{
 "cells": [
  {
   "cell_type": "markdown",
   "metadata": {},
   "source": [
    "### History"
   ]
  },
  {
   "cell_type": "markdown",
   "metadata": {},
   "source": [
    "Tries to do CNNs from scratch. Works, but relies on PyTorch operations. Will eventually rewrite in pure PyTorch."
   ]
  },
  {
   "cell_type": "markdown",
   "metadata": {},
   "source": [
    "## Convolution Demos"
   ]
  },
  {
   "cell_type": "markdown",
   "metadata": {},
   "source": [
    "**Note:** Old losses and layers code."
   ]
  },
  {
   "cell_type": "code",
   "execution_count": 4,
   "metadata": {},
   "outputs": [],
   "source": [
    "# ignore warnings\n",
    "import warnings\n",
    "warnings.filterwarnings('ignore')\n",
    "\n",
    "# Add Lincoln to system path\n",
    "import sys\n",
    "sys.path.append(\"/Users/seth/development/lincoln/\")"
   ]
  },
  {
   "cell_type": "code",
   "execution_count": 5,
   "metadata": {},
   "outputs": [],
   "source": [
    "import torch\n",
    "from torch import Tensor\n",
    "\n",
    "import lincoln\n",
    "from lincoln.layers import Dense\n",
    "from lincoln.losses import LogSoftmaxLoss, LogSigmoidLoss, MeanSquaredError\n",
    "from lincoln.optimizers import SGD\n",
    "from lincoln.operations.activations import Sigmoid, LogSigmoid\n",
    "from lincoln.network import NeuralNetwork\n",
    "from lincoln.train import Trainer"
   ]
  },
  {
   "cell_type": "code",
   "execution_count": 6,
   "metadata": {},
   "outputs": [],
   "source": [
    "from lincoln.layers import Conv2D\n",
    "from lincoln.operations.activations import ReLU"
   ]
  },
  {
   "cell_type": "code",
   "execution_count": 8,
   "metadata": {},
   "outputs": [],
   "source": [
    "from torchvision.datasets import MNIST\n",
    "mnist_trainset = MNIST(root=\"../exploratory/data/\", train=True, download=False, transform=None)\n",
    "mnist_testset = MNIST(root=\"../exploratory/data/\", train=False, download=False, transform=None)"
   ]
  },
  {
   "cell_type": "markdown",
   "metadata": {},
   "source": [
    "#### One hot encode labels"
   ]
  },
  {
   "cell_type": "code",
   "execution_count": 9,
   "metadata": {},
   "outputs": [
    {
     "data": {
      "text/plain": [
       "torch.Size([60000, 10])"
      ]
     },
     "execution_count": 9,
     "metadata": {},
     "output_type": "execute_result"
    }
   ],
   "source": [
    "data = mnist_trainset\n",
    "num_labels = len(data.train_labels)\n",
    "train_labels = torch.zeros(num_labels, 10)\n",
    "for i in range(num_labels):\n",
    "    train_labels[i][data.train_labels[i]] = 1\n",
    "train_labels.shape"
   ]
  },
  {
   "cell_type": "code",
   "execution_count": 10,
   "metadata": {},
   "outputs": [
    {
     "data": {
      "text/plain": [
       "torch.Size([10000, 10])"
      ]
     },
     "execution_count": 10,
     "metadata": {},
     "output_type": "execute_result"
    }
   ],
   "source": [
    "data = mnist_testset\n",
    "num_labels = len(data.test_labels)\n",
    "test_labels = torch.zeros(num_labels, 10)\n",
    "for i in range(num_labels):\n",
    "    test_labels[i][data.test_labels[i]] = 1\n",
    "test_labels.shape"
   ]
  },
  {
   "cell_type": "code",
   "execution_count": 11,
   "metadata": {},
   "outputs": [],
   "source": [
    "mnist_train = mnist_trainset.train_data.type(torch.float32).unsqueeze(3) / 255.0\n",
    "mnist_test = mnist_testset.test_data.type(torch.float32).unsqueeze(3) / 255.0"
   ]
  },
  {
   "cell_type": "code",
   "execution_count": 12,
   "metadata": {},
   "outputs": [],
   "source": [
    "X_train = mnist_train\n",
    "X_test = mnist_test\n",
    "y_train = train_labels\n",
    "y_test = test_labels"
   ]
  },
  {
   "cell_type": "code",
   "execution_count": 13,
   "metadata": {},
   "outputs": [],
   "source": [
    "def _conv_transform(input_: Tensor) -> Tensor:\n",
    "\n",
    "    return input_.view(input_.shape[0],\n",
    "                       input_.shape[1] * input_.shape[2] * input_.shape[3])\n",
    "\n",
    "X_train_flat = _conv_transform(X_train)\n",
    "X_test_flat = _conv_transform(X_test)"
   ]
  },
  {
   "cell_type": "code",
   "execution_count": 14,
   "metadata": {},
   "outputs": [],
   "source": [
    "conv_nn_ll = NeuralNetwork(\n",
    "    layers=[Dense(neurons=250, \n",
    "                  activation=Sigmoid()),\n",
    "            Dense(neurons=50, \n",
    "                  activation=Sigmoid()),\n",
    "            Dense(neurons=10, \n",
    "                  activation=Sigmoid())],\n",
    "            loss = LogSoftmaxLoss())"
   ]
  },
  {
   "cell_type": "code",
   "execution_count": 15,
   "metadata": {},
   "outputs": [],
   "source": [
    "optimizer = SGD(0.1)"
   ]
  },
  {
   "cell_type": "code",
   "execution_count": 16,
   "metadata": {},
   "outputs": [],
   "source": [
    "trainer = Trainer(conv_nn_ll, optimizer)"
   ]
  },
  {
   "cell_type": "code",
   "execution_count": 17,
   "metadata": {},
   "outputs": [
    {
     "name": "stdout",
     "output_type": "stream",
     "text": [
      "Validation loss after 1 epochs is 1434814.625\n",
      "Training took 11.1 seconds.\n"
     ]
    }
   ],
   "source": [
    "import time\n",
    "start = time.time()\n",
    "trainer.fit(X_train_flat, y_train, X_test_flat, y_test,  \n",
    "        epochs=1,\n",
    "        eval_every=1,\n",
    "        batch_size=100,\n",
    "        seed=91418);\n",
    "print(\"Training took\", round(time.time()-start, 1), \"seconds.\")"
   ]
  },
  {
   "cell_type": "code",
   "execution_count": 18,
   "metadata": {},
   "outputs": [],
   "source": [
    "def eval_nn(nn, X_test, y_test):\n",
    "    test_preds = nn.forward(X_test)\n",
    "    \n",
    "    test_preds_l = torch.argmax(test_preds, dim=1)\n",
    "    \n",
    "    test_vals_l = torch.argmax(y_test, dim=1)\n",
    "    \n",
    "    return torch.sum(test_preds_l == test_vals_l)"
   ]
  },
  {
   "cell_type": "code",
   "execution_count": 19,
   "metadata": {},
   "outputs": [
    {
     "data": {
      "text/plain": [
       "tensor(9277)"
      ]
     },
     "execution_count": 19,
     "metadata": {},
     "output_type": "execute_result"
    }
   ],
   "source": [
    "eval_nn(conv_nn_ll, X_test_flat, y_test)"
   ]
  },
  {
   "cell_type": "markdown",
   "metadata": {},
   "source": [
    "92.77% accuracy"
   ]
  },
  {
   "cell_type": "markdown",
   "metadata": {},
   "source": [
    "## Need to Redo rest of this"
   ]
  },
  {
   "cell_type": "code",
   "execution_count": null,
   "metadata": {},
   "outputs": [],
   "source": [
    "X_train_perm = X_train.permute(0, 3, 1, 2)\n",
    "X_test_perm = X_test.permute(0, 3, 1, 2)"
   ]
  },
  {
   "cell_type": "code",
   "execution_count": null,
   "metadata": {},
   "outputs": [],
   "source": [
    "# settings\n",
    "pytorch = True"
   ]
  },
  {
   "cell_type": "code",
   "execution_count": null,
   "metadata": {},
   "outputs": [],
   "source": [
    "conv_nn_logloss = NeuralNetwork(\n",
    "    layers=[Conv2D(param_size=3,\n",
    "                   out_channels=24,\n",
    "                   activation=ReLU(),\n",
    "                   pytorch=pytorch),\n",
    "            Conv2D(param_size=3,\n",
    "                   out_channels=30,\n",
    "                   activation=ReLU(),\n",
    "                   pytorch=pytorch,\n",
    "                   flatten=True),\n",
    "            Dense(neurons=10, \n",
    "                  activation=Sigmoid())],\n",
    "            loss = LogSoftmaxLoss(),\n",
    "            optimizer = SGD(0.1))"
   ]
  },
  {
   "cell_type": "code",
   "execution_count": null,
   "metadata": {},
   "outputs": [],
   "source": [
    "import time\n",
    "start = time.time()\n",
    "conv_nn_logloss.fit(X_train_perm, y_train, X_test_perm, y_test,  \n",
    "        epochs=1,\n",
    "        eval_every=1,\n",
    "        batch_size=100,\n",
    "        seed=91418);\n",
    "print(\"Training took\", round(time.time()-start, 1), \"seconds.\")"
   ]
  },
  {
   "cell_type": "code",
   "execution_count": null,
   "metadata": {},
   "outputs": [],
   "source": [
    "eval_nn(conv_nn_logloss, X_test_perm, y_test)"
   ]
  },
  {
   "cell_type": "markdown",
   "metadata": {},
   "source": [
    "### Testing network without PyTorch layers "
   ]
  },
  {
   "cell_type": "code",
   "execution_count": null,
   "metadata": {},
   "outputs": [],
   "source": [
    "# %load_ext autoreload\n",
    "# %autoreload 2"
   ]
  },
  {
   "cell_type": "markdown",
   "metadata": {},
   "source": [
    "#### No Cython"
   ]
  },
  {
   "cell_type": "code",
   "execution_count": null,
   "metadata": {},
   "outputs": [],
   "source": [
    "pytorch = False\n",
    "cython = False"
   ]
  },
  {
   "cell_type": "code",
   "execution_count": null,
   "metadata": {},
   "outputs": [],
   "source": [
    "conv_nn_normal = NeuralNetwork(\n",
    "    layers=[Conv2D(param_size=3,\n",
    "                   out_channels=24,\n",
    "                   activation=ReLU(),\n",
    "                   pytorch=pytorch,\n",
    "                   cython=cython),\n",
    "            Conv2D(param_size=3,\n",
    "                   out_channels=30,\n",
    "                   activation=ReLU(),\n",
    "                   pytorch=pytorch,\n",
    "                   cython=cython,\n",
    "                   flatten=True),\n",
    "            Dense(neurons=10, \n",
    "                  activation=Sigmoid())],\n",
    "            loss = LogSoftmaxLoss(),\n",
    "            optimizer = SGD(0.1))"
   ]
  },
  {
   "cell_type": "code",
   "execution_count": null,
   "metadata": {},
   "outputs": [],
   "source": [
    "import time\n",
    "start = time.time()\n",
    "conv_nn_normal.fit(X_train_perm, y_train, X_test_perm, y_test,  \n",
    "        epochs=1,\n",
    "        eval_every=1,\n",
    "        batch_size=1,\n",
    "        seed=91418);\n",
    "print(\"Training took\", round(time.time()-start, 1), \"seconds.\")"
   ]
  },
  {
   "cell_type": "markdown",
   "metadata": {},
   "source": [
    "#### Cython"
   ]
  },
  {
   "cell_type": "code",
   "execution_count": null,
   "metadata": {},
   "outputs": [],
   "source": [
    "pytorch = False\n",
    "cython = True"
   ]
  },
  {
   "cell_type": "code",
   "execution_count": null,
   "metadata": {},
   "outputs": [],
   "source": [
    "conv_nn_cython = NeuralNetwork(\n",
    "    layers=[Conv2D(param_size=3,\n",
    "                   out_channels=24,\n",
    "                   activation=ReLU(),\n",
    "                   pytorch=pytorch,\n",
    "                   cython=cython),\n",
    "            Conv2D(param_size=3,\n",
    "                   out_channels=30,\n",
    "                   activation=ReLU(),\n",
    "                   pytorch=pytorch,\n",
    "                   cython=cython,\n",
    "                   flatten=True),\n",
    "            Dense(neurons=10, \n",
    "                  activation=Sigmoid())],\n",
    "            loss = LogSoftmaxLoss(),\n",
    "            optimizer = SGD(0.1))"
   ]
  },
  {
   "cell_type": "code",
   "execution_count": null,
   "metadata": {},
   "outputs": [],
   "source": [
    "import time\n",
    "start = time.time()\n",
    "conv_nn_cython.fit(X_train_perm, y_train, X_test_perm, y_test,  \n",
    "        epochs=1,\n",
    "        eval_every=1,\n",
    "        batch_size=1,\n",
    "        seed=91418);\n",
    "print(\"Training took\", round(time.time()-start, 1), \"seconds.\")"
   ]
  }
 ],
 "metadata": {
  "kernelspec": {
   "display_name": "Python 3",
   "language": "python",
   "name": "python3"
  },
  "language_info": {
   "codemirror_mode": {
    "name": "ipython",
    "version": 3
   },
   "file_extension": ".py",
   "mimetype": "text/x-python",
   "name": "python",
   "nbconvert_exporter": "python",
   "pygments_lexer": "ipython3",
   "version": "3.6.6"
  }
 },
 "nbformat": 4,
 "nbformat_minor": 2
}
